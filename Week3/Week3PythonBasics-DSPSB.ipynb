{
 "cells": [
  {
   "cell_type": "markdown",
   "metadata": {},
   "source": [
    "# Python basics week 3: class of 27/02\n",
    "working with packages --> numpy\n",
    "Maybe some pythonic code."
   ]
  },
  {
   "cell_type": "code",
   "execution_count": 1,
   "metadata": {},
   "outputs": [
    {
     "name": "stdout",
     "output_type": "stream",
     "text": [
      "Requirement already satisfied: numpy in c:\\python312\\lib\\site-packages (2.1.1)\n"
     ]
    },
    {
     "name": "stderr",
     "output_type": "stream",
     "text": [
      "\n",
      "[notice] A new release of pip is available: 24.0 -> 25.0.1\n",
      "[notice] To update, run: python.exe -m pip install --upgrade pip\n"
     ]
    }
   ],
   "source": [
    "! pip install numpy"
   ]
  },
  {
   "cell_type": "markdown",
   "metadata": {},
   "source": [
    "## Importing Numpy"
   ]
  },
  {
   "cell_type": "code",
   "execution_count": 2,
   "metadata": {},
   "outputs": [],
   "source": [
    "import numpy\n",
    "import numpy as np\n",
    "from numpy import arange"
   ]
  },
  {
   "cell_type": "markdown",
   "metadata": {},
   "source": [
    "## Creating arrays\n",
    "array elements must have the same datatype"
   ]
  },
  {
   "cell_type": "code",
   "execution_count": null,
   "metadata": {},
   "outputs": [
    {
     "name": "stdout",
     "output_type": "stream",
     "text": [
      "[1, 5, 8, 10, 3]\n",
      "[ 1  5  8 10  3]\n",
      "[1, 5, 8, 10, 3, 1, 5, 8, 10, 3]\n",
      "[ 2 10 16 20  6]\n",
      "[1, 5, 8, 10, 3, 2]\n",
      "[0 1 2 3 4 5 6 7 8 9]\n",
      "[0. 0. 0. 0. 0. 0. 0. 0. 0. 0.]\n",
      "[1. 1. 1. 1. 1. 1. 1. 1. 1. 1.]\n",
      "[2 2 2 2 2 2 2 2 2 2]\n",
      "['hello' 'hello' 'hello' 'hello' 'hello' 'hello' 'hello' 'hello' 'hello'\n",
      " 'hello' 'hello' 'hello']\n",
      "[ 4 -4 -1 -1 -4  5  2 -1  1  1]\n",
      "[0.38368564 0.14672876 0.94924638 0.46613373 0.58069463 0.20852992\n",
      " 0.76930782 0.78881511 0.54104323 0.68566655 0.24638666 0.78006524]\n"
     ]
    }
   ],
   "source": [
    "import numpy as np\n",
    "list = [1, 5, 8, 10, 3]\n",
    "print(list)\n",
    "\n",
    "array = np.array(list)\n",
    "print(array)\n",
    "\n",
    "#list --> seen as a whole and now completely added twice if multiplied\n",
    "#array will store each number or element and multiply each element seperately\n",
    "\n",
    "print(list * 2)\n",
    "print(array * 2)\n",
    "\n",
    "list.append(2)\n",
    "print(list)\n",
    "\n",
    "#array.append(2) --> not possible, fixed size!!!\n",
    "\n",
    "#1D arrays\n",
    "print(np.arange(10)) #evenly spaced digits according to indexes\n",
    "print(np.zeros(10)) #fill arrays with 0's. all floats\n",
    "print(np.ones(10)) #fill arrays with 1's. all floats\n",
    "print(np.full(10,2)) #fills an arrays of given length with given number (datatype is same as one of number)\n",
    "print(np.full(12,\"hello\")) #also works for any other datatype\n",
    "\n",
    "print(np.random.randint(-5,6,10)) #prints out an array starting at lowest value included, highest not included of size\n",
    "print(np.random.random(12)) #random floats of said size\n"
   ]
  },
  {
   "cell_type": "markdown",
   "metadata": {},
   "source": [
    "## Reshaping & converting arrays"
   ]
  },
  {
   "cell_type": "code",
   "execution_count": 60,
   "metadata": {},
   "outputs": [
    {
     "name": "stdout",
     "output_type": "stream",
     "text": [
      "[-1  5 -3  5  4  2  5 -1 -1  1]\n",
      "(10,)\n",
      "1\n",
      "int32\n",
      "[-1.  5. -3.  5.  4.  2.  5. -1. -1.  1.]\n",
      "['-1' '5' '-3' '5' '4' '2' '5' '-1' '-1' '1']\n",
      "[[-1  5]\n",
      " [-3  5]\n",
      " [ 4  2]\n",
      " [ 5 -1]\n",
      " [-1  1]]\n",
      "(5, 2)\n",
      "2\n"
     ]
    }
   ],
   "source": [
    "import numpy as np\n",
    "\n",
    "array = np.random.randint(-5,6,10)\n",
    "print(array)\n",
    "\n",
    "print(array.shape) #displays the elements of dimensions (10,)\n",
    "print(array.ndim) #returns the number of dimensions\n",
    "print(array.dtype)\n",
    "\n",
    "array_float = array.astype('f')\n",
    "print(array_float)\n",
    "# conversion to different datatype based on key or full name of datatype\n",
    "# i - int / b - boolean / f - float / M - DatTime / S - string --> use wording int, bool, float, str\n",
    "array_string = array.astype(str)\n",
    "print(array_string)\n",
    "\n",
    "#2D arrays\n",
    "array_2D = np.reshape(array, (5,2))\n",
    "print(array_2D)\n",
    "print(array_2D.shape)\n",
    "print(array_2D.ndim)\n",
    "\n",
    "#print(np.reshape(array, (3,3))) --> has to be exact same number in total to evenly split in 2D array (10 can't be split in groups of 3)\n"
   ]
  },
  {
   "cell_type": "markdown",
   "metadata": {},
   "source": [
    "## Slicing arrays\n",
    "[start : end : step]\n",
    "- start: starting index (included)\n",
    "- end: end index (not included)\n",
    "- step: stepsize in which you want to move through the array"
   ]
  },
  {
   "cell_type": "code",
   "execution_count": null,
   "metadata": {},
   "outputs": [
    {
     "name": "stdout",
     "output_type": "stream",
     "text": [
      "[6 8 2 9 3 1 4 7 0 5]\n",
      "[8 2 9 3]\n",
      "[8 2 9 3]\n",
      "[8 9]\n",
      "[6 8 2 9 3]\n",
      "[6 8 2 9 3]\n",
      "[]\n",
      "[6 8 2 9 3 1 4 7 0 5]\n",
      "[6 8 2 9 3 1 4 7 0 5]\n",
      "[5 0 7 4 1 3 9 2 8 6]\n",
      "[5 0 7 4 1 3 9 2 8 6]\n",
      "[5 0 7 4 1 3 9 2 8 6]\n",
      "[6 2 3 4 0]\n",
      "[5 7 1 9 8]\n"
     ]
    }
   ],
   "source": [
    "import numpy as np\n",
    "array = np.array([6, 8, 2, 9, 3, 1, 4, 7, 0, 5])\n",
    "print(array)\n",
    "print(array[1:5:1]) #[8 2 9 3] 5th index not included\n",
    "print(array[1:5:]) #[8 2 9 3] default step size is 1\n",
    "\n",
    "print(array[1:5:2]) #[8 9]\n",
    "print(array[0:5:1]) #[6 8 2 9 3]\n",
    "print(array[:5:1])\n",
    "print(array[30:35:1]) #empty list\n",
    "#even if you go beyond the existing limit of the array it still runs\n",
    "\n",
    "print(array[0:10:1])\n",
    "print(array[0::1]) #default end is last index\n",
    "\n",
    "#reversing array\n",
    "#print(array[9:-1:-1])  --> to reverse difficult to reach index 0\n",
    "print(array[9::-1])\n",
    "print(array[-1::-1])\n",
    "print(array[::-1])\n",
    "#print(array[9:5:]) --> you need stepsize of -1 or higher to trigger reversing\n",
    "\n",
    "print(array[::2]) #[6 2 3 4 0]\n",
    "print(array[::-2]) #[5 7 1 9 8]"
   ]
  },
  {
   "cell_type": "markdown",
   "metadata": {},
   "source": [
    "## Working with arrays"
   ]
  },
  {
   "cell_type": "code",
   "execution_count": 102,
   "metadata": {},
   "outputs": [
    {
     "name": "stdout",
     "output_type": "stream",
     "text": [
      "this is array a [0 1 2 3 4 5 6 7 8 9] \n",
      "This is array b [9 8 7 6 5 4 3 2 1 0]\n",
      "[9 9 9 9 9 9 9 9 9 9]\n",
      "[-9 -7 -5 -3 -1  1  3  5  7  9]\n",
      "[ 0  8 14 18 20 20 18 14  8  0]\n",
      "[1 1 3 3 5 5 7 7 9 9]\n",
      "(array([0, 1, 2, 3]),)\n",
      "[9 8 7 6 0 0 0 0 0 0]\n",
      "\n",
      "[[9 8 7 6 5]\n",
      " [4 3 2 1 0]]\n",
      "\n",
      "[13 11  9  7  5]\n",
      "[35 10]\n",
      "[[ 9 17 24 30 35]\n",
      " [ 4  7  9 10 10]]\n",
      "\n",
      "45\n",
      "0\n",
      "9\n",
      "\n",
      "[0.         1.         1.41421356 1.73205081 2.         2.23606798\n",
      " 2.44948974 2.64575131 2.82842712 3.        ]\n",
      "3.0\n"
     ]
    }
   ],
   "source": [
    "import numpy as np\n",
    "a = np.arange(0,10) #[0 1 2 3 4 5 6 7 8 9]\n",
    "b = np.arange(9, -1, -1) #[9 8 7 6 5 4 3 2 1 0]\n",
    "print(\"this is array a\", a, \"\\nThis is array b\",b)\n",
    "\n",
    "print(a + b)\n",
    "print(a - b)\n",
    "print(a * b)\n",
    "print(np.where(a % 2 == 0, a + 1, a))\n",
    "# --> condition, true, false --> condition, x, y\n",
    "\n",
    "print(np.where(b > 5))\n",
    "print(np.where(b > 5, b, 0))\n",
    "print()\n",
    "\n",
    "b = np.reshape(b, (2,5))\n",
    "print(b)\n",
    "print()\n",
    "\n",
    "print(b.sum(axis = 0)) #sum of columns\n",
    "print(b.sum(axis = 1)) #sum of rows\n",
    "print(b.cumsum(axis = 1))\n",
    "\n",
    "print()\n",
    "print(a.sum())\n",
    "print(a.min())\n",
    "print(a.max())\n",
    "print()\n",
    "\n",
    "print(np.sqrt(a))\n",
    "print(np.sqrt(a.max()))\n"
   ]
  },
  {
   "cell_type": "markdown",
   "metadata": {},
   "source": [
    "### Exercise: It's magic time!\n",
    "Read in a 1D array and a number of rows! \n",
    "Convert the array to 2D, calculate the sum of each column and if all the columns are equal --> you're dealing with\n",
    "a magic table<br>\n",
    "**input**<br>\n",
    "2 7 0 8 4 1 1 0 10<br>\n",
    "3<br>\n",
    "**output**<br>\n",
    "MAGIC TABLE OR NOT MAGIC TABLE\n",
    "<pre>\n",
    "2 7 0\n",
    "8 4 1\n",
    "1 0 10\n",
    "\n",
    "11 11 11 --> MAGIC TABLE\n",
    "</pre>"
   ]
  },
  {
   "cell_type": "code",
   "execution_count": null,
   "metadata": {},
   "outputs": [
    {
     "name": "stdout",
     "output_type": "stream",
     "text": [
      "[[ 2  7  0  8  4]\n",
      " [ 1  1  0 10 19]]\n",
      "[ 3  8  0 18 23]\n",
      "NO MAGIC TABLE\n"
     ]
    }
   ],
   "source": [
    "import numpy as np\n",
    "string = input()\n",
    "rows = int(input())\n",
    "array = np.array(string.split(\" \"))\n",
    "\n",
    "array2D = np.reshape(array.astype(int), (rows, len(array) // rows))\n",
    "print(array2D)\n",
    "\n",
    "sums = np.sum(array2D, axis = 0) #0 is columns\n",
    "print(sums)\n",
    "total = np.sum(sums)\n",
    "\n",
    "if total // rows == sums[0]:\n",
    "    print(\"MAGIC TABLE\")\n",
    "else:\n",
    "    print(\"NO MAGIC TABLE\")\n",
    "\n",
    "\n",
    "#or other approach\n",
    "check = True\n",
    "for value in sums:\n",
    "    if value != sums[0]:\n",
    "        check = False\n",
    "        break\n",
    "if check is True:\n",
    "    print(\"MAGIC TABLE\")\n",
    "else:\n",
    "    print(\"NO MAGIC TABLE\")\n",
    "\n",
    "\n"
   ]
  }
 ],
 "metadata": {
  "kernelspec": {
   "display_name": "Python 3",
   "language": "python",
   "name": "python3"
  },
  "language_info": {
   "codemirror_mode": {
    "name": "ipython",
    "version": 3
   },
   "file_extension": ".py",
   "mimetype": "text/x-python",
   "name": "python",
   "nbconvert_exporter": "python",
   "pygments_lexer": "ipython3",
   "version": "3.12.4"
  }
 },
 "nbformat": 4,
 "nbformat_minor": 2
}
