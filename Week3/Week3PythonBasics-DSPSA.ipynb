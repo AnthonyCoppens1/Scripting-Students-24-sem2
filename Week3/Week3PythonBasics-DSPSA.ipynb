{
 "cells": [
  {
   "cell_type": "markdown",
   "metadata": {},
   "source": [
    "# Python basics Week 3: class of 24/02\n",
    "working with packages and especially Numpy and Pythonic code"
   ]
  },
  {
   "cell_type": "code",
   "execution_count": 1,
   "metadata": {},
   "outputs": [
    {
     "name": "stdout",
     "output_type": "stream",
     "text": [
      "Requirement already satisfied: numpy in c:\\python312\\lib\\site-packages (2.1.1)\n"
     ]
    },
    {
     "name": "stderr",
     "output_type": "stream",
     "text": [
      "\n",
      "[notice] A new release of pip is available: 24.0 -> 25.0.1\n",
      "[notice] To update, run: python.exe -m pip install --upgrade pip\n"
     ]
    }
   ],
   "source": [
    "! pip install numpy"
   ]
  },
  {
   "cell_type": "code",
   "execution_count": 2,
   "metadata": {},
   "outputs": [],
   "source": [
    "import numpy\n",
    "import numpy as np\n",
    "from numpy import arange"
   ]
  },
  {
   "cell_type": "markdown",
   "metadata": {},
   "source": [
    "## Creating arrays\n",
    "arrays elements must be of the same type"
   ]
  },
  {
   "cell_type": "code",
   "execution_count": 49,
   "metadata": {},
   "outputs": [
    {
     "name": "stdout",
     "output_type": "stream",
     "text": [
      "[1, 5, 8, 10, 3]\n",
      "[ 1  5  8 10  3]\n",
      "[1, 5, 8, 10, 3, 1, 5, 8, 10, 3]\n",
      "[ 2 10 16 20  6]\n",
      "[1, 5, 8, 10, 3, 2]\n",
      "[0 1 2 3 4 5 6 7 8 9]\n",
      "[0. 0. 0. 0. 0. 0. 0. 0. 0. 0.]\n",
      "[1. 1. 1. 1. 1. 1. 1. 1. 1. 1.]\n",
      "[5 5 5 5 5 5 5 5 5 5]\n",
      "[ 5  0 -4  0  2 -4  3  0  2  1  1  0]\n",
      "[0.06558873 0.82179132 0.77776575 0.24751755 0.79969843 0.99473842\n",
      " 0.26961952 0.7522418  0.62158533 0.86003736 0.00952053 0.04819052\n",
      " 0.27419779 0.1227931  0.89463777]\n"
     ]
    }
   ],
   "source": [
    "import numpy as np\n",
    "\n",
    "list = [1, 5, 8, 10, 3]\n",
    "print(list)\n",
    "\n",
    "array = np.array(list)\n",
    "print(array)\n",
    "\n",
    "#list --> seen as a whole and now can be added twice.\n",
    "#array will store each element and multiply each element\n",
    "print(list * 2)\n",
    "print(array * 2)\n",
    "\n",
    "list.append(2)\n",
    "print(list)\n",
    "#array.append(2) --> not possible, because of fixed size.\n",
    "#print(array)\n",
    "\n",
    "#1D arrays\n",
    "print(np.arange(10)) #evenly spaced interval with given key, without upper bounds\n",
    "print(np.zeros(10)) #new array with x amount of 0's\n",
    "print(np.ones(10)) #new array with x amount of 0's\n",
    "print(np.full(10,5)) #new array of given length with every item being a given number\n",
    "\n",
    "print(np.random.randint(-5,6,12)) #new array filled with random numbers between given low (included), \n",
    "#given high (not included) and of a given size\n",
    "print(np.random.random(15))\n"
   ]
  },
  {
   "cell_type": "markdown",
   "metadata": {},
   "source": [
    "## Reshaping & converting an array"
   ]
  },
  {
   "cell_type": "code",
   "execution_count": 69,
   "metadata": {},
   "outputs": [
    {
     "name": "stdout",
     "output_type": "stream",
     "text": [
      "[ 5 -2  2 -3 -2 -1 -3 -2 -3 -1]\n",
      "(10,)\n",
      "1\n",
      "array is of type: int32\n",
      "[ 5. -2.  2. -3. -2. -1. -3. -2. -3. -1.]\n",
      "['5' '-2' '2' '-3' '-2' '-1' '-3' '-2' '-3' '-1']\n",
      "[[ 5 -2  2 -3 -2]\n",
      " [-1 -3 -2 -3 -1]]\n",
      "(2, 5)\n",
      "2\n",
      "[[ 5 -2]\n",
      " [ 2 -3]\n",
      " [-2 -1]\n",
      " [-3 -2]\n",
      " [-3 -1]]\n"
     ]
    }
   ],
   "source": [
    "import numpy as np\n",
    "#change the array in case of changes\n",
    "array = np.random.randint(-5,6,10)\n",
    "print(array)\n",
    "print(array.shape) #display elements of dimensions (10,)\n",
    "print(array.ndim) #number of dimensions\n",
    "print(\"array is of type:\", array.dtype)\n",
    "\n",
    "array_float = array.astype('f') #astype() converts an array to specific datatype\n",
    "#possiblities: i - integer / b - boolean / f - float / S - string / M - datetime\n",
    "#what also works, you can also do the wording: str, int, bool, ...\n",
    "print(array_float)\n",
    "\n",
    "array_string = array.astype(str)\n",
    "print(array_string)\n",
    "\n",
    "#2D array\n",
    "array_2D = np.reshape(array,(2,5))\n",
    "print(array_2D)\n",
    "print(array_2D.shape)\n",
    "print(array_2D.ndim)\n",
    "\n",
    "array_2D = np.reshape(array, (5,2))\n",
    "print(array_2D)\n",
    "\n",
    "#array_2D = np.reshape(array,(3,3)) --> needs to be perfect fit. Can't split 10 elements in 3 groups of 3."
   ]
  },
  {
   "cell_type": "markdown",
   "metadata": {},
   "source": [
    "## Slicing arrays\n",
    "[start : end : step]\n",
    "- start: starting index\n",
    "- end: ending index\n",
    "- step: stepsize"
   ]
  },
  {
   "cell_type": "code",
   "execution_count": null,
   "metadata": {},
   "outputs": [
    {
     "name": "stdout",
     "output_type": "stream",
     "text": [
      "[6 8 2 9 3 1 4 7 0 5]\n",
      "8\n",
      "[8 2 9 3]\n",
      "[8 2 9 3]\n",
      "[8 9]\n",
      "[6 8 2 9 3]\n",
      "[6 8 2 9 3]\n",
      "[6 8 2 9 3]\n",
      "[6 8 2 9 3 1 4 7 0 5]\n",
      "[6 8 2 9 3 1 4 7 0 5]\n",
      "[6 8 2 9 3 1 4 7 0 5]\n",
      "[5 0 7 4 1 3 9 2 8 6]\n",
      "[5 0 7 4 1 3 9 2 8 6]\n",
      "[5 7 1 9 8]\n"
     ]
    }
   ],
   "source": [
    "import numpy as np\n",
    "array = np.array([6,8,2,9,3,1,4,7,0,5])\n",
    "print(array)\n",
    "\n",
    "print(array[1])\n",
    "print(array[1:5:1]) #[8 2 9 3]\n",
    "#there is a default step if you leave out the step size. It is 0 --> : has to be there.\n",
    "print(array[1:5:]) #[8 2 9 3]\n",
    "\n",
    "#print(array[1:5:12]) --> doesn't print next number because you go beyond the limit of array. Only prints first\n",
    "print(array[1:5:2]) #[8 9]\n",
    "\n",
    "print(array[0:5:1]) #[6 8 2 9 3]\n",
    "#there is a default starting point(0) if you leave out the first number. : has to be present\n",
    "print(array[:5:1]) #[6 8 2 9 3]\n",
    "print(array[:5:]) #[6 8 2 9 3]\n",
    "\n",
    "print(array[::]) #prints the whole array\n",
    "print(array[0::1]) #[6 8 2 9 3 1 4 7 0 5]\n",
    "print(array[0:10:1])\n",
    "\n",
    "#reverse array\n",
    "print(array[::-1]) #[5 0 7 4 1 3 9 2 8 6]\n",
    "print(array[10::-1]) #if you fill in the end point as 0, it will go up until index 1.\n",
    "print(array[::-2]) #reverse slice with step 2 [5 7 1 9 8]\n"
   ]
  },
  {
   "cell_type": "markdown",
   "metadata": {},
   "source": [
    "## Working with arrays"
   ]
  },
  {
   "cell_type": "code",
   "execution_count": null,
   "metadata": {},
   "outputs": [
    {
     "name": "stdout",
     "output_type": "stream",
     "text": [
      "[0 1 2 3 4 5 6 7 8 9] [9 8 7 6 5 4 3 2 1 0]\n",
      "[9 9 9 9 9 9 9 9 9 9]\n",
      "[-9 -7 -5 -3 -1  1  3  5  7  9]\n",
      "[ 0  8 14 18 20 20 18 14  8  0]\n",
      "[1 1 3 3 5 5 7 7 9 9]\n",
      "(array([0, 1, 2, 3]),)\n",
      "[9 8 7 6 0 0 0 0 0 0]\n",
      "\n",
      "[[9 8 7 6 5]\n",
      " [4 3 2 1 0]]\n",
      "\n",
      "[13 11  9  7  5]\n",
      "[35 10]\n",
      "[[ 9 17 24 30 35]\n",
      " [ 4  7  9 10 10]]\n",
      "\n",
      "45\n",
      "0\n",
      "9\n",
      "\n",
      "[0.         1.         1.41421356 1.73205081 2.         2.23606798\n",
      " 2.44948974 2.64575131 2.82842712 3.        ]\n",
      "3.0\n"
     ]
    }
   ],
   "source": [
    "import numpy as np\n",
    "a = np.arange(0,10) #[0 1 2 3 4 5 6 7 8 9]\n",
    "b = np.arange(9,-1,-1) #[9 8 7 6 5 4 3 2 1 0]\n",
    "print(a,b)\n",
    "print(a + b)\n",
    "print(a - b)\n",
    "print(a * b)\n",
    "print(np.where(a % 2 == 0,a + 1, a))\n",
    "#--> condition, x, y --> if the condition is True return x, else return y\n",
    "print(np.where(b>5)) #you get indexes back\n",
    "print(np.where(b>5, b, 0))\n",
    "\n",
    "print()\n",
    "b = np.reshape(b, (2,5))\n",
    "print(b)\n",
    "print()\n",
    "\n",
    "print(b.sum(axis=0)) #sum of columns\n",
    "print(b.sum(axis=1)) #sum of each row\n",
    "print(b.cumsum(axis=1)) #sum of all elements in row, adding up element by element and showing temporary sum\n",
    "print()\n",
    "\n",
    "print(a.sum())\n",
    "print(a.min())\n",
    "print(a.max())\n",
    "\n",
    "print()\n",
    "print(np.sqrt(a)) #returns the square root of everything.\n",
    "print(np.sqrt(a.max())) #returns square root of highest number in array"
   ]
  },
  {
   "cell_type": "markdown",
   "metadata": {},
   "source": [
    "### Exercise: MAGIC TABLE! It's magic time\n",
    "Read in a series of numbers split by a space.\n",
    "Also read in a number of rows\n",
    "Calculate the sum of each column and if all the sums of all the columns are the same\n",
    "--> MAGIC TABLE<br>\n",
    "**input**<br>\n",
    "2 7 0 8 4 1 1 0 10<br>\n",
    "3<br>\n",
    "**output**<br>\n",
    "<pre>\n",
    "2 7 0\n",
    "8 4 1\n",
    "1 0 10\n",
    "11 11 11\n",
    "MAGIC TABLE (or not)\n",
    "</pre>"
   ]
  },
  {
   "cell_type": "code",
   "execution_count": null,
   "metadata": {},
   "outputs": [
    {
     "name": "stdout",
     "output_type": "stream",
     "text": [
      "[[ 2  7  0  8  4]\n",
      " [ 1  1  0 10 25]]\n",
      "[ 3  8  0 18 29]\n"
     ]
    }
   ],
   "source": [
    "import numpy as np\n",
    "string = input()\n",
    "array = np.array(string.split(\" \"))\n",
    "array = array.astype('i') #or int\n",
    "rows = int(input())\n",
    "\n",
    "array2D = np.reshape(array, (rows, len(array) // rows))\n",
    "print(array2D)\n",
    "\n",
    "sums = array2D.sum(axis=0)\n",
    "print(sums)\n",
    "#np.sum(array2D, axis = 0)\n",
    "\n",
    "total = np.sum(sums)\n",
    "if total // rows == sums[0]:\n",
    "    print(\"MAGIC TABLE\")\n",
    "else:\n",
    "    print(\"NO MAGIC TABLE\")\n",
    "\n",
    "\n",
    "#other approach\n",
    "check = True\n",
    "for value in sums:\n",
    "    if value != sums[0]:\n",
    "        check = False\n",
    "        break\n",
    "\n",
    "if check is True:\n",
    "    print(\"MAGIC TABLE\")\n",
    "else:\n",
    "    print(\"NO MAGIC TABLE\")\n",
    "\n",
    "\n"
   ]
  }
 ],
 "metadata": {
  "kernelspec": {
   "display_name": "Python 3",
   "language": "python",
   "name": "python3"
  },
  "language_info": {
   "codemirror_mode": {
    "name": "ipython",
    "version": 3
   },
   "file_extension": ".py",
   "mimetype": "text/x-python",
   "name": "python",
   "nbconvert_exporter": "python",
   "pygments_lexer": "ipython3",
   "version": "3.12.4"
  }
 },
 "nbformat": 4,
 "nbformat_minor": 2
}
