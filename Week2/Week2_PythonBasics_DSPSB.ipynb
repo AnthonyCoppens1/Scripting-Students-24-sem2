{
 "cells": [
  {
   "cell_type": "markdown",
   "metadata": {},
   "source": [
    "# Python Basics: week 2, class of 20/02\n",
    "## Recap exercise from last week\n",
    "68 34 17 52 26 13 40 20 10 5 16 8 4 2 1\n",
    "\n",
    "### Hailstone sequence\n",
    "rules:\n",
    "- Ask for a number n\n",
    "- Keep on repeating the sequence until you reach the number 1. \n",
    "- Print both the first, last and every number in between. (68 ... ... 1)\n",
    "- If the number is even --> / 2\n",
    "- If the number is odd --> (3 * n) + 1"
   ]
  },
  {
   "cell_type": "code",
   "execution_count": 4,
   "metadata": {},
   "outputs": [
    {
     "name": "stdout",
     "output_type": "stream",
     "text": [
      "68 34 17 52 26 13 40 20 10 5 16 8 4 2 1\n"
     ]
    }
   ],
   "source": [
    "#Hailstone sequence\n",
    "n = int(input(\"Give me a number: \"))\n",
    "while n != 1:\n",
    "    print(n, end=\" \")\n",
    "    if n % 2 == 0:\n",
    "        n //= 2 \n",
    "    else:\n",
    "        n = (3 * n) + 1\n",
    "    \n",
    "print(n)"
   ]
  },
  {
   "cell_type": "markdown",
   "metadata": {},
   "source": [
    "## Functions (methods of c#)\n",
    "It's a reusable block that performs a specific task or set of tasks.\n",
    "It can take input with parameters and possibly return something.\n",
    "To define a function --> use def keyword\n",
    "\n",
    "def name(par1, par2, ...):\n",
    "    //do some bit of code\n",
    "    return value\n",
    "\n",
    "Write a function that counts the vowels (aeiou) in a word or a sentence in 4 different ways\n",
    "- function --> no par, no return (NPNR)\n",
    "- function --> no par, return (NPR)\n",
    "- function --> par, no return (PNR)\n",
    "- function --> par, return (best bet!) (PR)\n"
   ]
  },
  {
   "cell_type": "code",
   "execution_count": 5,
   "metadata": {},
   "outputs": [
    {
     "name": "stdout",
     "output_type": "stream",
     "text": [
      "Attack the captain has 6 vowels\n"
     ]
    }
   ],
   "source": [
    "#function --> no par, no return\n",
    "def CountVowelNPNR():\n",
    "    string = input() #This is the final countdown\n",
    "    count = 0\n",
    "\n",
    "    for c in string.lower():\n",
    "        if c in \"aeiouAEIOU\":\n",
    "            count += 1\n",
    "    print(string, \"has\", count, \"vowels\")\n",
    "\n",
    "CountVowelNPNR()\n"
   ]
  },
  {
   "cell_type": "code",
   "execution_count": 6,
   "metadata": {},
   "outputs": [
    {
     "name": "stdout",
     "output_type": "stream",
     "text": [
      "Check has 1 vowels!\n"
     ]
    }
   ],
   "source": [
    "#function --> no parameters, return (NPR)\n",
    "def CountVowelNPR():\n",
    "    string = input() #This is the final countdown\n",
    "    count = 0\n",
    "\n",
    "    for c in string.lower():\n",
    "        if c in \"aeiouAEIOU\":\n",
    "            count += 1\n",
    "    \n",
    "    return string + \" has \" + str(count) + \" vowels!\"\n",
    "\n",
    "print(CountVowelNPR())\n"
   ]
  },
  {
   "cell_type": "code",
   "execution_count": 7,
   "metadata": {},
   "outputs": [
    {
     "name": "stdout",
     "output_type": "stream",
     "text": [
      "Help, I have no idea what I am doing has 13 vowels\n"
     ]
    }
   ],
   "source": [
    "#function --> parameters, no return (PNR)\n",
    "def CountVowelPNR(string):\n",
    "    count = 0\n",
    "    for c in string.lower():\n",
    "        if c in \"aeiou\":\n",
    "            count += 1\n",
    "    print(string, \"has\", count, \"vowels\")\n",
    "\n",
    "string = input()\n",
    "CountVowelPNR(string)"
   ]
  },
  {
   "cell_type": "code",
   "execution_count": null,
   "metadata": {},
   "outputs": [],
   "source": [
    "#function --> parameters and return (PR)\n",
    "def CountVowelPR(string):\n",
    "    count = 0\n",
    "    for c in string.lower():\n",
    "        if c in \"aeiou\":\n",
    "            count += 1\n",
    "    return count\n",
    "\n",
    "string = input()\n",
    "print(string, \"has\", CountVowelPR(string), \"vowels\")"
   ]
  },
  {
   "cell_type": "markdown",
   "metadata": {},
   "source": [
    "### Exercise: next prime number\n",
    "Find out if the current number is a prime number to be able to check the next prime number\n",
    "2 function:\n",
    "IsPrime(number) --> True or False\n",
    "NextPrime(number) --> next prime number\n",
    "\n",
    "What is a prime number?\n",
    "whole number that is only divisible by 1 and itself. --> positive integer > 1\n",
    "e.g. 2 3 5 7 11 13 17 19 23 29 31 37 ..."
   ]
  },
  {
   "cell_type": "code",
   "execution_count": 11,
   "metadata": {},
   "outputs": [
    {
     "name": "stdout",
     "output_type": "stream",
     "text": [
      "False 67\n",
      "True 1013\n"
     ]
    }
   ],
   "source": [
    "def IsPrime(number):\n",
    "    for x in range(2, number):\n",
    "        if number % x == 0:\n",
    "            return False\n",
    "    return True\n",
    "    \n",
    "\n",
    "\n",
    "def NextPrime(number):\n",
    "    number += 1\n",
    "    while IsPrime(number) != True:\n",
    "        number += 1\n",
    "    return number\n",
    "\n",
    "number = int(input())\n",
    "print(IsPrime(number), NextPrime(number))\n",
    "print(IsPrime(1009), NextPrime(1009))\n"
   ]
  },
  {
   "cell_type": "markdown",
   "metadata": {},
   "source": [
    "## Collections\n",
    "A collection is a datatype that groups multiple values into a single object. Several types are possible:\n",
    "List, Dictionary, Tuple, Set\n",
    "Keep in mind, every type of collection has its own rules and limitations\n",
    "\n",
    "### List\n",
    "List is one of the most commonly used data structures in Python. They are ordered, indexed, changeable, allow duplicates. Created with [] and can contain any datatype. They are mutable. --> contents are changeable after creation."
   ]
  },
  {
   "cell_type": "code",
   "execution_count": 49,
   "metadata": {},
   "outputs": [
    {
     "name": "stdout",
     "output_type": "stream",
     "text": [
      "[3, 17, 'apple', True, 3.4]\n",
      "[3, 17, 'apple', True, 3.4, 3, 8, 9]\n",
      "[3, 'seventeen', 17, 'apple', True, 3.4, 3, 8, 9, 'word']\n",
      "[3, 'seventeen', 17, 'apple', True, 3.4, 3, 8, 9]\n",
      "9\n",
      "9\n",
      "[9, 8, 7, 5, 4, 3, 2, 1]\n",
      "3-seventeen-17-apple-True-3.4-3-8-9-\n",
      "Yes, there is an apple in the text\n",
      "[0, 2, 4, 6, 8, 10, 12, 14, 16, 18, 20, 22, 24, 26, 28, 30, 32, 34, 36, 38, 40, 42, 44, 46, 48, 50, 52, 54, 56, 58, 60, 62, 64, 66, 68, 70, 72, 74, 76, 78, 80, 82, 84, 86, 88, 90, 92, 94, 96, 98]\n",
      "[0, 1, 4, 9, 16, 25, 36, 49, 64, 81]\n",
      "[2, 2, 2, 2, 2, 2, 2, 2, 2, 2]\n",
      "[2, 20, 2, 2, 2, 2, 2, 2, 2, 2]\n",
      "[3, 17, 3, 8, 9]\n",
      "[[1, 2, 3], [4, 5, 6], [7, 8, 9]]\n",
      "1 2 3 \n",
      "4 5 6 \n",
      "7 8 9 \n",
      "\n",
      "1 2 3 \n",
      "4 5 6 \n",
      "7 8 9 \n"
     ]
    }
   ],
   "source": [
    "list = []\n",
    "list.append(3)\n",
    "list.append(17) #append adds to back of list\n",
    "list.append(\"apple\")\n",
    "list.append(True)\n",
    "list.append(3.4)\n",
    "\n",
    "print(list)\n",
    "\n",
    "list += [3, 8, 9]\n",
    "#list.append([17,2,5]) --> beware, this will become a list in a list.\n",
    "print(list)\n",
    "\n",
    "list += [\"word\"]\n",
    "list.insert(1, \"seventeen\") #insert at specific index, don't replace, everything moves back 1 index\n",
    "print(list)\n",
    "\n",
    "list.pop()\n",
    "print(list)\n",
    "print(list[-1])\n",
    "print(list[len(list)-1])\n",
    "\n",
    "#list.sort() --> doesn't work, needs to be list of same datatype!!!\n",
    "\n",
    "\n",
    "ints = [7, 2, 9, 8, 1, 5, 4, 3]\n",
    "ints.sort()\n",
    "ints.reverse()\n",
    "print(ints)\n",
    "\n",
    "\n",
    "for element in list:\n",
    "    print(element, end = \"-\")\n",
    "\n",
    "print()\n",
    "\n",
    "if \"apple\" in list:\n",
    "    print(\"Yes, there is an apple in the text\")\n",
    "\n",
    "newlist = [x for x in range(0,100,2)]\n",
    "print(newlist)\n",
    "#adds every number from 0 - 100 (not included) to the list\n",
    "\n",
    "newlist = [x ** 2 for x in range(0, 10)]\n",
    "print(newlist)\n",
    "\n",
    "newlist = [2] * 10 #multiplies the amount of elements in a list\n",
    "print(newlist)\n",
    "\n",
    "newlist[1] *= 10\n",
    "print(newlist)\n",
    "\n",
    "\n",
    "#removing everything that's not an int\n",
    "newlist = []\n",
    "for element in list:\n",
    "    if type(element) == int:\n",
    "        newlist.append(element)\n",
    "print(newlist)\n",
    "\n",
    "matrix = [[1,2,3], [4,5,6], [7,8,9]]\n",
    "print(matrix)\n",
    "\n",
    "for row in matrix:\n",
    "    for element in row:\n",
    "        print(element, end= \" \")\n",
    "    print() #new line after printing each row\n",
    "\n",
    "print()\n",
    "for i in range(0, len(matrix)):\n",
    "    for j in range(0, len(matrix[i])):\n",
    "        print(matrix[i][j], end = \" \")\n",
    "    print()"
   ]
  },
  {
   "cell_type": "markdown",
   "metadata": {},
   "source": [
    "### Tuple ()\n",
    "Tuples are similar to lists, but they are immutable --> can't be modified after being created. \n",
    "They are ordered and they allow duplicate values.\n",
    "Created with () and can contain ANY datatype"
   ]
  },
  {
   "cell_type": "code",
   "execution_count": 50,
   "metadata": {},
   "outputs": [
    {
     "name": "stdout",
     "output_type": "stream",
     "text": [
      "('mon', 'tue', 'wed', 'thu', 'fri', 'sat', 'sun')\n"
     ]
    }
   ],
   "source": [
    "weekdays = (\"mon\", \"tue\", \"wed\", \"thu\", \"fri\", \"sat\", \"sun\")\n",
    "print(weekdays)\n",
    "\n",
    "#weekdays += (\"test\") --> can never add, remove or adjust anything to a tuple after creation\n",
    "#print(weekdays) "
   ]
  },
  {
   "cell_type": "markdown",
   "metadata": {},
   "source": [
    "### Set {}\n",
    "Sets are unordered and don't allow duplicates.\n",
    "Created using {} ir the set() constructor function.\n",
    "Can still contain any datatype, but they must be hashable (immutable) so they can be stored in a set.\n",
    "Useful for removing duplicates and performing set operations such as union and intersection."
   ]
  },
  {
   "cell_type": "code",
   "execution_count": 51,
   "metadata": {},
   "outputs": [
    {
     "name": "stdout",
     "output_type": "stream",
     "text": [
      "LIST [2, 3, 5, 5, 7, 7, 11, 11, 11, 11, 13, 13, 17, 17, 17, 17, 19, 19, 23, 23, 23, 23, 29, 29, 29, 29, 29, 29, 31, 31, 37, 37, 37, 37, 37, 37, 41, 41, 41, 41, 43, 43, 47, 47, 47, 47, 53, 53, 53, 53, 53, 53, 59, 59, 59, 59, 59, 59, 61, 61, 67, 67, 67, 67, 67, 67, 71, 71, 71, 71, 73, 73, 79, 79, 79, 79, 79, 79, 83, 83, 83, 83, 89, 89, 89, 89, 89, 89, 97, 97, 97, 97, 97, 97, 97, 97, 101, 101, 101]\n",
      "SET {2, 3, 5, 7, 11, 13, 17, 19, 23, 29, 31, 37, 41, 43, 47, 53, 59, 61, 67, 71, 73, 79, 83, 89, 97, 101}\n"
     ]
    }
   ],
   "source": [
    "prime_list = [2]\n",
    "prime_set = {2}\n",
    "\n",
    "#CFR:\n",
    "def IsPrime(number):\n",
    "    for x in range(2, number):\n",
    "        if number % x == 0:\n",
    "            return False\n",
    "    return True\n",
    "    \n",
    "\n",
    "\n",
    "def NextPrime(number):\n",
    "    number += 1\n",
    "    while IsPrime(number) != True:\n",
    "        number += 1\n",
    "    return number\n",
    "\n",
    "\n",
    "for x in range(2, 100):\n",
    "    prime_list.append(NextPrime(x))\n",
    "    prime_set.add(NextPrime(x))\n",
    "\n",
    "print(\"LIST\", prime_list)\n",
    "print(\"SET\", prime_set)\n"
   ]
  },
  {
   "cell_type": "markdown",
   "metadata": {},
   "source": [
    "### Dictionaries {key : value}\n",
    "--> unordered, changeable and indexed by keys\n",
    "--> contain key-value pairs seperated by : and created with {}\n",
    "--> can contain any datatype as values, but keys must be hashable (immutable)"
   ]
  },
  {
   "cell_type": "code",
   "execution_count": 57,
   "metadata": {},
   "outputs": [
    {
     "name": "stdout",
     "output_type": "stream",
     "text": [
      "{'a': 'apple', 'b': 'banana'}\n",
      "{'a': 'apple', 'b': 'banana', 'c': 'coconut'}\n",
      "{'a': 'apple', 'b': 'banana', 'c': 'cucumber'}\n",
      "{'a': ['apple', 'appricot', 'almond'], 'c': ['coconut', 'cucumber', 'cranberries', 'cherry']}\n",
      "apple\n",
      "appricot\n",
      "almond\n",
      "coconut\n",
      "cucumber\n",
      "cranberries\n",
      "cherry\n"
     ]
    }
   ],
   "source": [
    "dictionary = {\"a\": \"apple\", \"b\" : \"banana\"}\n",
    "print(dictionary)\n",
    "\n",
    "dictionary[\"c\"] = \"coconut\"\n",
    "print(dictionary)\n",
    "\n",
    "dictionary[\"c\"] = \"cucumber\"\n",
    "print(dictionary)\n",
    "\n",
    "dictionary = {\"a\": [\"apple\", \"appricot\", \"almond\"], \"c\" : [\"coconut\", \"cucumber\", \"cranberries\", \"cherry\"]}\n",
    "print(dictionary)\n",
    "\n",
    "for key in dictionary:\n",
    "    for value in dictionary[key]:\n",
    "        print(value)"
   ]
  }
 ],
 "metadata": {
  "kernelspec": {
   "display_name": "Python 3",
   "language": "python",
   "name": "python3"
  },
  "language_info": {
   "codemirror_mode": {
    "name": "ipython",
    "version": 3
   },
   "file_extension": ".py",
   "mimetype": "text/x-python",
   "name": "python",
   "nbconvert_exporter": "python",
   "pygments_lexer": "ipython3",
   "version": "3.12.4"
  }
 },
 "nbformat": 4,
 "nbformat_minor": 2
}
