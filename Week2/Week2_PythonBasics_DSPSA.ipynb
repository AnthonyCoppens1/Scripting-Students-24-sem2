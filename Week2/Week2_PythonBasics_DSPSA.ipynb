{
 "cells": [
  {
   "cell_type": "markdown",
   "metadata": {},
   "source": [
    "# Scripting Python Basics week 2\n",
    "## Repetition is key\n",
    "1 2 Fizz 4 Buzz Fizz 7 8 Fizz Buzz 11 Fizz 13 14 FizzBuzz 16 17 Fizz....\n",
    "Write a program that prints the numbers from 1 - 100 and check for the following items:\n",
    "If it is divisble by only 3, print Fizz, If it is divisible by only 5, print Buzz, if divisible by both FizzBuzz\n",
    "Else the regular number!\n",
    "\n",
    "\n",
    "Syntax hints:\n",
    "\n",
    "for ... in \" \":\n",
    "    code\n",
    "\n",
    "for ... in range(x, y):\n",
    "    code\n",
    "\n",
    "if ... :\n",
    "    code\n",
    "elif ... :\n",
    "    code\n",
    "else:\n",
    "    code\n"
   ]
  },
  {
   "cell_type": "code",
   "execution_count": null,
   "metadata": {},
   "outputs": [
    {
     "name": "stdout",
     "output_type": "stream",
     "text": [
      "1\n",
      "2\n",
      "Fizz\n",
      "4\n",
      "Buzz\n",
      "Fizz\n",
      "7\n",
      "8\n",
      "Fizz\n",
      "Buzz\n",
      "11\n",
      "Fizz\n",
      "13\n",
      "14\n",
      "Fizz\n",
      "16\n",
      "17\n",
      "Fizz\n",
      "19\n",
      "Buzz\n",
      "Fizz\n",
      "22\n",
      "23\n",
      "Fizz\n",
      "Buzz\n",
      "26\n",
      "Fizz\n",
      "28\n",
      "29\n",
      "Fizz\n",
      "31\n",
      "32\n",
      "Fizz\n",
      "34\n",
      "Buzz\n",
      "Fizz\n",
      "37\n",
      "38\n",
      "Fizz\n",
      "Buzz\n",
      "41\n",
      "Fizz\n",
      "43\n",
      "44\n",
      "Fizz\n",
      "46\n",
      "47\n",
      "Fizz\n",
      "49\n",
      "Buzz\n",
      "Fizz\n",
      "52\n",
      "53\n",
      "Fizz\n",
      "Buzz\n",
      "56\n",
      "Fizz\n",
      "58\n",
      "59\n",
      "Fizz\n",
      "61\n",
      "62\n",
      "Fizz\n",
      "64\n",
      "Buzz\n",
      "Fizz\n",
      "67\n",
      "68\n",
      "Fizz\n",
      "Buzz\n",
      "71\n",
      "Fizz\n",
      "73\n",
      "74\n",
      "Fizz\n",
      "76\n",
      "77\n",
      "Fizz\n",
      "79\n",
      "Buzz\n",
      "Fizz\n",
      "82\n",
      "83\n",
      "Fizz\n",
      "Buzz\n",
      "86\n",
      "Fizz\n",
      "88\n",
      "89\n",
      "Fizz\n",
      "91\n",
      "92\n",
      "Fizz\n",
      "94\n",
      "Buzz\n",
      "Fizz\n",
      "97\n",
      "98\n",
      "Fizz\n",
      "Buzz\n"
     ]
    }
   ],
   "source": [
    "#FizzBuzz\n",
    "for x in range(1,101):\n",
    "    if x % 3 == 0 and x % 5 != 0:\n",
    "        print(\"Fizz\")\n",
    "    elif x % 5 == 0 and x % 3 != 0:\n",
    "        print(\"Buzz\")\n",
    "    elif x % 3 == 0 and x % 5 == 0:\n",
    "        print(\"FizzBuzz\")\n",
    "    else:\n",
    "        print(x)\n",
    "\n",
    "#OR\n",
    "\n",
    "for x in range(1,101):\n",
    "    if x % 3 == 0 and x % 5 == 0:\n",
    "        print(\"FizzBuzz\")\n",
    "    elif x % 5 == 0:\n",
    "        print(\"Buzz\")\n",
    "    elif x % 3 == 0:\n",
    "        print(\"Fizz\")\n",
    "    else:\n",
    "        print(x)"
   ]
  },
  {
   "cell_type": "markdown",
   "metadata": {},
   "source": [
    "Exercise 2:\n",
    "Start with a given number (whole number) \n",
    "Keep on going with the sequence until the number reaches one.\n",
    "If the number is even --> / 2, If the number is odd --> (3 * n) + 1\n",
    "Print the sequence in 1 row and keep going until you reach 1 (the final number in the sequence)."
   ]
  },
  {
   "cell_type": "code",
   "execution_count": 6,
   "metadata": {},
   "outputs": [
    {
     "name": "stdout",
     "output_type": "stream",
     "text": [
      "Hailstone sequence 71 214 107 322 161 484 242 121 364 182 91 274 137 412 206 103 310 155 466 233 700 350 175 526 263 790 395 1186 593 1780 890 445 1336 668 334 167 502 251 754 377 1132 566 283 850 425 1276 638 319 958 479 1438 719 2158 1079 3238 1619 4858 2429 7288 3644 1822 911 2734 1367 4102 2051 6154 3077 9232 4616 2308 1154 577 1732 866 433 1300 650 325 976 488 244 122 61 184 92 46 23 70 35 106 53 160 80 40 20 10 5 16 8 4 2 1 "
     ]
    }
   ],
   "source": [
    "#68 34 17 52 26 13 \n",
    "n = int(input(\"Give me a number: \"))\n",
    "print(\"Hailstone sequence\", n, end=\" \")\n",
    "\n",
    "while n != 1:\n",
    "    if n % 2 == 0:\n",
    "        n //= 2\n",
    "    else:\n",
    "        n = (3 * n) + 1\n",
    "    print(n, end=\" \")"
   ]
  },
  {
   "cell_type": "markdown",
   "metadata": {},
   "source": [
    "## Functions (Methods of c#)\n",
    "In Python a function is a reuable block of code that performs a specific task. Functions can take input parameters, process them and optionally return a result. To define a function you need to use the keyword def.\n",
    "\n",
    "def name(par 1, par 2, ...):\n",
    "    code that needs to be executed with parameters\n",
    "    return value\n",
    "\n",
    "Create 4 functions that count vowels (aeiou) in a word 4 different ways:\n",
    "- function --> no parameters no return\n",
    "- function --> no parameters RETURN\n",
    "- function --> parameters no return\n",
    "- function --> parameters RETURN"
   ]
  },
  {
   "cell_type": "code",
   "execution_count": 8,
   "metadata": {},
   "outputs": [
    {
     "name": "stdout",
     "output_type": "stream",
     "text": [
      "hottentottententententoonstelling has 11 vowels\n"
     ]
    }
   ],
   "source": [
    "#function --> no params no return\n",
    "def CountVowelNPNR():\n",
    "    word = input(\"Give me a word: \")\n",
    "    count = 0\n",
    "    for c in word:\n",
    "        if c in \"aeiou\":\n",
    "            count += 1\n",
    "    print(word, \"has\", count, \"vowels\")\n",
    "\n",
    "CountVowelNPNR()"
   ]
  },
  {
   "cell_type": "code",
   "execution_count": 11,
   "metadata": {},
   "outputs": [
    {
     "name": "stdout",
     "output_type": "stream",
     "text": [
      "help has 1 vowels\n"
     ]
    }
   ],
   "source": [
    "#function -->  no params RETURN\n",
    "def CountVowelNPR():\n",
    "    word = input(\"Give me a word: \")\n",
    "    count = 0\n",
    "    for c in word:\n",
    "        if c in \"aeiou\":\n",
    "            count += 1\n",
    "    return word + \" has \" + str(count) + \" vowels\"\n",
    "\n",
    "print(CountVowelNPR())"
   ]
  },
  {
   "cell_type": "code",
   "execution_count": null,
   "metadata": {},
   "outputs": [
    {
     "name": "stdout",
     "output_type": "stream",
     "text": [
      "time has 2 vowels\n"
     ]
    }
   ],
   "source": [
    "#function --> params & no return\n",
    "def CountVowelPNR(word):\n",
    "    count = 0\n",
    "    for c in word:\n",
    "        if c in \"aeiou\":\n",
    "            count += 1\n",
    "    print(word, \"has\", count, \"vowels\")\n",
    "\n",
    "word = input(\"Give me a word: \")\n",
    "CountVowelPNR(word) #can also put input inside of function call\n"
   ]
  },
  {
   "cell_type": "code",
   "execution_count": null,
   "metadata": {},
   "outputs": [
    {
     "name": "stdout",
     "output_type": "stream",
     "text": [
      "Apple has 2 vowels\n"
     ]
    }
   ],
   "source": [
    "#function --> params & return\n",
    "#BEST APPROACH\n",
    "def CountVowelPR(word):\n",
    "    count = 0\n",
    "    for c in word.lower():\n",
    "        if c in \"aeiou\":\n",
    "            count += 1\n",
    "    return count\n",
    "\n",
    "word = input(\"Give me a word: \")\n",
    "print(word, \"has\", CountVowelPR(word), \"vowels\")"
   ]
  },
  {
   "cell_type": "markdown",
   "metadata": {},
   "source": [
    "### Exercise: Next Prime Number\n",
    "Find a next prime number using a function.\n",
    "Prime number is a positive integer > 1 only divisible by itself and 1.\n",
    "e.g. 2, 3, 5, 7, 11, 13, 17, 23, 29, 31, 37, ...\n",
    "\n",
    "12\n",
    "IsPrime(number) --> return True or False\n",
    "NextPrime(number) "
   ]
  },
  {
   "cell_type": "code",
   "execution_count": 26,
   "metadata": {},
   "outputs": [
    {
     "name": "stdout",
     "output_type": "stream",
     "text": [
      "True 7\n",
      "True 1013\n",
      "True 41\n"
     ]
    }
   ],
   "source": [
    "def IsPrime(number):\n",
    "    count = 0\n",
    "    for x in range(1, number + 1):\n",
    "        if number % x == 0:\n",
    "            count += 1\n",
    "    if count == 2:\n",
    "        return True\n",
    "    else:\n",
    "        return False\n",
    "\n",
    "def NextPrime(number):\n",
    "    number += 1 #adding 1 to the original number\n",
    "\n",
    "    while not IsPrime(number):\n",
    "        number += 1\n",
    "    \n",
    "    return number\n",
    "\n",
    "print(IsPrime(5), NextPrime(5))\n",
    "print(IsPrime(1009), NextPrime(1009))\n",
    "print(IsPrime(37), NextPrime(37))"
   ]
  },
  {
   "cell_type": "markdown",
   "metadata": {},
   "source": [
    "## Collections\n",
    "In python a collection is a datatype that groups multiple values into a single object. There are several types of collections, including Lists, tuples, sets and dictionaries. Each type has its own properties and use cases.\n",
    "\n",
    "### List []\n",
    "Most commonly used. Ordered, changeable and they allow duplicates. Can have multiple datatypes!\n",
    "They are mutable --> the contents can be modified after creation."
   ]
  },
  {
   "cell_type": "code",
   "execution_count": 15,
   "metadata": {},
   "outputs": [
    {
     "name": "stdout",
     "output_type": "stream",
     "text": [
      "[3, 'apple', True]\n",
      "[3, 'apple', True, 3, 8, 9, 3, 'apple', True, 3, 8, 9]\n",
      "[3, 'second', 'apple', True, 3, 8, 9, 3, 'apple', True, 3, 8, 9, 'word']\n",
      "[3, 'second', 'apple', True, 3, 8, 9, 3, 'apple', True, 3, 8, 9]\n",
      "9\n",
      "9\n",
      "8\n",
      "3\n",
      "13\n",
      "[8, 5, 3, 2, 1]\n",
      "3 second apple True 3 8 9 3 apple True 3 8 9 \n",
      "[0, 2, 4, 6, 8, 10, 12, 14, 16, 18, 20, 22, 24, 26, 28, 30, 32, 34, 36, 38, 40, 42, 44, 46, 48, 50, 52, 54, 56, 58, 60, 62, 64, 66, 68, 70, 72, 74, 76, 78, 80, 82, 84, 86, 88, 90, 92, 94, 96, 98]\n",
      "[0, 1, 4, 9, 16, 25, 36, 49, 64, 81]\n",
      "[2, 2, 2, 2, 2, 2, 2, 2, 2, 2]\n",
      "[2, 20, 2, 2, 2, 2, 2, 2, 2, 2]\n",
      "['second', 'apple', 'apple']\n",
      "[[1, 2, 3], [4, 5, 6], [7, 8, 9]]\n",
      "1 2 3 \n",
      "4 5 6 \n",
      "7 8 9 \n",
      "\n",
      "1 2 3 \n",
      "4 5 6 \n",
      "7 8 9 \n",
      "[3, 'second', 'apple', True, 3, 8, 9, 3, 'apple', True, 3, 8, 9]\n"
     ]
    }
   ],
   "source": [
    "list = [] #empty list\n",
    "list.append(3) #adding an item to the end of a list\n",
    "list.append(\"apple\")\n",
    "list.append(True)\n",
    "print(list)\n",
    "\n",
    "list += [3,8,9] #adds an extra list\n",
    "list += list\n",
    "print(list)\n",
    "\n",
    "list = list + [\"word\"]\n",
    "list.insert(1,\"second\") #insert at specific index\n",
    "print(list)\n",
    "\n",
    "list.pop() #remove last element\n",
    "print(list)\n",
    "print(list[-1]) #last element\n",
    "print(list[len(list)-1]) #another last element\n",
    "print(list[-2])\n",
    "print(list[0])\n",
    "print(len(list))\n",
    "\n",
    "ints = [1,5,2,8,3]\n",
    "ints.sort()\n",
    "ints.reverse()\n",
    "print(ints)\n",
    "\n",
    "for element in list:\n",
    "    print(element, end=\" \")\n",
    "\n",
    "print()\n",
    "newlist = [x for x in range(0, 100, 2)]\n",
    "print(newlist)\n",
    "#adds elements to list through a loop, steps of 2, 100 not included\n",
    "\n",
    "newlist = [x ** 2 for x in range(0, 10)]\n",
    "print(newlist) #override existing list\n",
    "\n",
    "newlist = [2] * 10\n",
    "print(newlist) #number between [] added to list for 10 times\n",
    "\n",
    "newlist[1] *= 10\n",
    "print(newlist)\n",
    "\n",
    "#remove all non numbers from a list\n",
    "newlist = []\n",
    "for element in list:\n",
    "    if (type(element) == str):\n",
    "        newlist.append(element)\n",
    "print(newlist)\n",
    "\n",
    "matrix = [[1,2,3],[4,5,6], [7,8,9]]\n",
    "print(matrix)\n",
    "\n",
    "for row in matrix:\n",
    "    for element in row:\n",
    "        print(element, end=\" \")\n",
    "    print()\n",
    "print()\n",
    "\n",
    "for i in range(0, len(matrix)):\n",
    "    for j in range(0, len(matrix[i])):\n",
    "        print(matrix[i][j], end = \" \")\n",
    "    print()\n",
    "\n",
    "print(list)"
   ]
  },
  {
   "cell_type": "markdown",
   "metadata": {},
   "source": [
    "### Tuple ()\n",
    "Tuples are similar to lists, but they are immutable (can't be changed after creation)\n",
    "They are ordered and they allow duplicates.\n",
    "e.g --> months, weekdays, colours, seaons, planets, ..."
   ]
  },
  {
   "cell_type": "code",
   "execution_count": null,
   "metadata": {},
   "outputs": [
    {
     "name": "stdout",
     "output_type": "stream",
     "text": [
      "('mon', 'tue', 'wed', 'thu', 'fri', 'sat', 14, 'mon')\n",
      "mon\n",
      "('This', 'is', 'a', 'test')\n"
     ]
    }
   ],
   "source": [
    "weekdays = (\"mon\", \"tue\", \"wed\", \"thu\", \"fri\", \"sat\", 14, \"mon\")\n",
    "print(weekdays)\n",
    "print(weekdays[0])\n",
    "\n",
    "#weekdays += [\"test\"] --> cannot adjust anything to a tuple.\n",
    "#print(weekdays)\n",
    "\n",
    "#onl if you override the whole, you can change stuff.\n",
    "weekdays = (\"This\", \"is\", \"a\", \"test\")\n",
    "print(weekdays)"
   ]
  },
  {
   "cell_type": "markdown",
   "metadata": {},
   "source": [
    "### Set {}\n",
    "Sets are unordered and they don't allow duplicate values.\n",
    "Created using {} or the set() constructor function.\n",
    "Can contain any datatype, but they must be hashable (immutable) so they can be stored in a set\n",
    "Usedful to remove duplicates and performing set operations such as union and intersection."
   ]
  },
  {
   "cell_type": "code",
   "execution_count": 16,
   "metadata": {},
   "outputs": [
    {
     "name": "stdout",
     "output_type": "stream",
     "text": [
      "List [2, 3, 5, 5, 7, 7, 11, 11, 11, 11, 13, 13, 17, 17, 17, 17, 19, 19, 23, 23, 23, 23, 29, 29, 29, 29, 29, 29, 31, 31, 37, 37, 37, 37, 37, 37, 41, 41, 41, 41, 43, 43, 47, 47, 47, 47, 53, 53, 53, 53, 53, 53, 59, 59, 59, 59, 59, 59, 61, 61, 67, 67, 67, 67, 67, 67, 71, 71, 71, 71, 73, 73, 79, 79, 79, 79, 79, 79, 83, 83, 83, 83, 89, 89, 89, 89, 89, 89, 97, 97, 97, 97, 97, 97, 97, 97, 101, 101, 101]\n",
      "Set {2, 3, 5, 7, 11, 13, 17, 19, 23, 29, 31, 37, 41, 43, 47, 53, 59, 61, 67, 71, 73, 79, 83, 89, 97, 101}\n"
     ]
    }
   ],
   "source": [
    "prime_list = [2]\n",
    "prime_set = {2}\n",
    "\n",
    "\n",
    "#CFR:\n",
    "def IsPrime(number):\n",
    "    count = 0\n",
    "    for x in range(1, number + 1):\n",
    "        if number % x == 0:\n",
    "            count += 1\n",
    "    if count == 2:\n",
    "        return True\n",
    "    else:\n",
    "        return False\n",
    "\n",
    "def NextPrime(number):\n",
    "    number += 1 #adding 1 to the original number\n",
    "\n",
    "    while not IsPrime(number):\n",
    "        number += 1\n",
    "    \n",
    "    return number\n",
    "\n",
    "\n",
    "for x in range(2, 100):\n",
    "    prime_list.append(NextPrime(x))\n",
    "    prime_set.add(NextPrime(x))\n",
    "\n",
    "print(\"List\", prime_list)\n",
    "print(\"Set\", prime_set)"
   ]
  },
  {
   "cell_type": "markdown",
   "metadata": {},
   "source": [
    "### Dictionary {key : value}\n",
    "--> unordered, changeable and indexed by keys\n",
    "--> contain key-value pairs seperated by : and created with {}\n",
    "--> can contain any datatype as values, but the keys have to be hashable (immutable)\n",
    "--> useful to store datat in a structured way."
   ]
  },
  {
   "cell_type": "code",
   "execution_count": 22,
   "metadata": {},
   "outputs": [
    {
     "name": "stdout",
     "output_type": "stream",
     "text": [
      "{'a': 'apple', 'b': 'banana'}\n",
      "{'a': 'apple', 'b': 'banana', 'c': 'carrot'}\n",
      "{'a': 'apple', 'b': 'banana', 'c': 'cucumber'}\n",
      "{'a': ['apple', 'appricot', 'almond'], 'c': ['coconut', 'cucumber', 'carrot', 'cherry']}\n",
      "apple\n",
      "appricot\n",
      "almond\n",
      "coconut\n",
      "cucumber\n",
      "carrot\n",
      "cherry\n",
      "t\n",
      "e\n",
      "s\n",
      "t\n",
      "t\n",
      "h\n",
      "i\n",
      "s\n"
     ]
    }
   ],
   "source": [
    "dictionary = {\"a\" : \"apple\", \"b\" : \"banana\"}\n",
    "print(dictionary)\n",
    "\n",
    "dictionary[\"c\"] = \"carrot\"\n",
    "print(dictionary)\n",
    "\n",
    "dictionary[\"c\"] = \"cucumber\"\n",
    "print(dictionary)\n",
    "\n",
    "dictionary_list = {\"a\" : [\"apple\", \"appricot\", \"almond\"], \"c\" : [\"coconut\", \"cucumber\", \"carrot\", \"cherry\"]}\n",
    "print(dictionary_list)\n",
    "\n",
    "for key in dictionary_list:\n",
    "    for value in dictionary_list[key]:\n",
    "        print(value)\n",
    "\n",
    "dictionary_test = {\"a\" : \"test\", \"b\" : \"this\"}\n",
    "for key in dictionary_test:\n",
    "    for value in dictionary_test[key]:\n",
    "        print(value)"
   ]
  },
  {
   "cell_type": "code",
   "execution_count": 29,
   "metadata": {},
   "outputs": [
    {
     "name": "stdout",
     "output_type": "stream",
     "text": [
      "{'t': 2, 'h': 1, 'i': 2, 's': 3, 'a': 2, 'n': 3, 'e': 5, 'x': 1, 'm': 1, 'p': 1, 'l': 1, 'c': 1}\n"
     ]
    }
   ],
   "source": [
    "#create a program with a dictionary and count how many times a specific character appears in a given sentence\n",
    "\n",
    "sentence = input()\n",
    "dictionary = {}\n",
    "\n",
    "for char in sentence.lower():\n",
    "    if char.isalpha():\n",
    "        if char in dictionary:\n",
    "            dictionary[char] += 1\n",
    "        else:\n",
    "            dictionary[char] = 1\n",
    "\n",
    "print(dictionary)"
   ]
  }
 ],
 "metadata": {
  "kernelspec": {
   "display_name": "Python 3",
   "language": "python",
   "name": "python3"
  },
  "language_info": {
   "codemirror_mode": {
    "name": "ipython",
    "version": 3
   },
   "file_extension": ".py",
   "mimetype": "text/x-python",
   "name": "python",
   "nbconvert_exporter": "python",
   "pygments_lexer": "ipython3",
   "version": "3.12.4"
  }
 },
 "nbformat": 4,
 "nbformat_minor": 2
}
