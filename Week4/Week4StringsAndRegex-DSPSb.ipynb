{
 "cells": [
  {
   "cell_type": "markdown",
   "metadata": {},
   "source": [
    "# Week 4: strings and regex - class of 06/03\n",
    "## Strings\n",
    "### Raw strings"
   ]
  },
  {
   "cell_type": "code",
   "execution_count": null,
   "metadata": {},
   "outputs": [
    {
     "name": "stdout",
     "output_type": "stream",
     "text": [
      "This is a string\n",
      "This is also a string\n",
      "This is a string with a ' single quote\n",
      "This is also a string\n",
      "that works on \n",
      "multiple \n",
      "lines\n",
      "\n",
      "This also works\n",
      "on multiple levels\n",
      "This is a sentence with a \"single double quote\n",
      "This is a ' single quote and this is a \" single quote\n",
      "This is a ' single quote and this is a \" single quote\n",
      "This is a ' single quote, a \" double quote and a \n",
      " new line\n",
      "This is a ' single quote, a \" double quote and a \\n new line\n",
      "This is a ' single quote, a \" double quote and a \\n new line\n"
     ]
    }
   ],
   "source": [
    "s = \"This is a string\"\n",
    "print(s)\n",
    "\n",
    "s = 'This is also a string'\n",
    "print(s)\n",
    "\n",
    "s = \"This is a string with a ' single quote\"\n",
    "print(s)\n",
    "\n",
    "#s = 'This is also a string with a ' single quote' --> doesn't work\n",
    "\n",
    "s = \"\"\"This is also a string\n",
    "that works on \n",
    "multiple \n",
    "lines\"\"\"\n",
    "print(s)\n",
    "print()\n",
    "\n",
    "s = '''This also works\n",
    "on multiple levels'''\n",
    "print(s)\n",
    "\n",
    "#escpecially useful for sentences like --> \"\"\"Harry's mom said: \"Don't do that!\".\"\"\" or with triple '\n",
    "\n",
    "s = 'This is a sentence with a \"single double quote'\n",
    "print(s)\n",
    "\n",
    "s = \"This is a ' single quote and this is a \\\" single quote\"\n",
    "print(s)\n",
    "\n",
    "s = 'This is a \\' single quote and this is a \" single quote'\n",
    "print(s)\n",
    "\n",
    "s = \"This is a ' single quote, a \\\" double quote and a \\n new line\"\n",
    "print(s)\n",
    "\n",
    "s = \"This is a ' single quote, a \\\" double quote and a \\\\n new line\"\n",
    "print(s)\n",
    "\n",
    "#make it a raw string to show everything. Raw strings can also work with single double quotes.\n",
    "s = r\"\"\"This is a ' single quote, a \" double quote and a \\n new line\"\"\"\n",
    "print(s)"
   ]
  },
  {
   "cell_type": "markdown",
   "metadata": {},
   "source": [
    "### Slicing strings\n",
    "\n",
    "[ START : END : STEP ]"
   ]
  },
  {
   "cell_type": "code",
   "execution_count": 32,
   "metadata": {},
   "outputs": [
    {
     "name": "stdout",
     "output_type": "stream",
     "text": [
      ".gninrom yadsruhT no nohtyP ni gnitpircs evol I\n",
      ".gninrom yadsruhT no nohtyP ni gnitpircs evol \n",
      "\n",
      "Python\n",
      "\n",
      "True\n",
      "False\n",
      "True\n"
     ]
    }
   ],
   "source": [
    "s = \"I love scripting in Python on Thursday morning.\"\n",
    "print(s[::-1])\n",
    "\n",
    "#reverse without first char\n",
    "print(s[47:0:-1])\n",
    "print(s[47:0:]) #does nothing\n",
    "\n",
    "print(s[20:26:])\n",
    "print()\n",
    "\n",
    "print(\"Python\" in s)\n",
    "print(\"python\" in s)\n",
    "print(\"python\" not in s)\n"
   ]
  },
  {
   "cell_type": "markdown",
   "metadata": {},
   "source": [
    "### Splitting and joining\n",
    "splitting a string into a list of strings / getting a list and returning a string"
   ]
  },
  {
   "cell_type": "code",
   "execution_count": null,
   "metadata": {},
   "outputs": [
    {
     "name": "stdout",
     "output_type": "stream",
     "text": [
      "['I', 'love', 'Python,', 'scripting!']\n",
      "['I', 'love', 'Python,', 'scripting!', '']\n",
      "['1,2,3,4,5,6,7,8,9']\n",
      "['1', '2', '3', '4', '5', '6', '7', '8', '9']\n",
      "[1, 2, 3, 4, 5, 6, 7, 8, 9]\n",
      "1 - 2 - 3 - 4 - 5 - 6 - 7 - 8 - 9\n"
     ]
    }
   ],
   "source": [
    "s = \"I love Python, scripting! \"\n",
    "list = s.split()\n",
    "print(list)\n",
    "\n",
    "list = s.split(\" \")\n",
    "print(list)\n",
    "\n",
    "s = \"1,2,3,4,5,6,7,8,9\"\n",
    "list = s.split()\n",
    "print(list) #string is seen as 1 singular item in list\n",
    "\n",
    "list = s.split(\",\")\n",
    "print(list)\n",
    "\n",
    "#beware of different datatypes in list\n",
    "list_int = [int(x) for x in list]\n",
    "print(list_int)\n",
    "\n",
    "#joins a list of strings with given string part\n",
    "print(\" - \".join(list))\n"
   ]
  },
  {
   "cell_type": "code",
   "execution_count": null,
   "metadata": {},
   "outputs": [
    {
     "name": "stdout",
     "output_type": "stream",
     "text": [
      "tHIS_IS_A_string_WITH_NUMBERS_NR_NR_NR"
     ]
    }
   ],
   "source": [
    "#WRITE a piece of code that would detect and transform the given characters\n",
    "#upper into lower // lower into upper // space into _ // number into NR\n",
    "\n",
    "s = \"This is a STRING with numbers 7 8 9\"\n",
    "\n",
    "for c in s:\n",
    "    if c.isupper():\n",
    "        print(c.lower(), end= \"\")\n",
    "    elif c.islower():\n",
    "        print(c.upper(), end=\"\")\n",
    "    elif c.isspace():\n",
    "        print(\"_\", end=\"\")\n",
    "    elif c.isnumeric():\n",
    "        print(\"NR\", end=\"\")"
   ]
  },
  {
   "cell_type": "markdown",
   "metadata": {},
   "source": [
    "### Stripping of code\n",
    "(not what you think it is)"
   ]
  },
  {
   "cell_type": "code",
   "execution_count": null,
   "metadata": {},
   "outputs": [
    {
     "name": "stdout",
     "output_type": "stream",
     "text": [
      "*          a lot of spaces                *\n",
      "*          a lot of spaces *\n",
      "* a lot of spaces                *\n",
      "* a lot of spaces *\n",
      "a lot of spaces\n",
      "97\n",
      "v\n"
     ]
    }
   ],
   "source": [
    "s = \"         a lot of spaces               \"\n",
    "print(\"*\", s, \"*\")\n",
    "print(\"*\", s.rstrip(), \"*\")\n",
    "print(\"*\", s.lstrip(), \"*\")\n",
    "print(\"*\", s.strip(), \"*\")\n",
    "#if your string is completely alone with spaces up front and/or in the back, it removes ALL of them.\n",
    "print(s.strip())\n",
    "\n",
    "c = \"a\"\n",
    "print(ord(c)) #ordinal number linked to char\n",
    "print(chr(118)) #char linked to decimal value\n"
   ]
  },
  {
   "cell_type": "markdown",
   "metadata": {},
   "source": [
    "### Exercise on PIG LATIN\n",
    "\n",
    "I love python scripting\n",
    "Iway ovelay thonpyay riptingscay\n",
    "\n",
    "RULES:\n",
    "- word starts with 1 consonant (followed by a vowel) --> move consonant to the back and add \"ay\"\n",
    "happy --> appyhay\n",
    "- word starts with 2 consonants (followed by a vowel OR consonant) --> move both consonants to the back and add \"ay\"\n",
    "child --> ildchay\n",
    "- word starts with a vowel --> add \"way\" \n",
    "awesome --> awesomeway\n",
    "\n",
    "\n",
    "\n",
    "def Piglatin(sentence):\n",
    "    code...\n",
    "\n",
    "INPUT\n",
    "Piglatin(INPUT)"
   ]
  },
  {
   "cell_type": "code",
   "execution_count": 63,
   "metadata": {},
   "outputs": [
    {
     "data": {
      "text/plain": [
       "'Iway ovelay iprintgscay inway thonPyay'"
      ]
     },
     "execution_count": 63,
     "metadata": {},
     "output_type": "execute_result"
    }
   ],
   "source": [
    "def Piglatin(sentence):\n",
    "    list = sentence.split()\n",
    "    newlist = []\n",
    "    for word in list:\n",
    "        if word[0].lower() in \"aeiou\":\n",
    "            newlist.append(word + \"way\")\n",
    "        else:\n",
    "            if word[1].lower() not in \"aeiou\":\n",
    "                newlist.append(word[2::] + word[0:2:] + \"ay\")\n",
    "            else:\n",
    "                newlist.append(word[1::] + word[0] + \"ay\")\n",
    "    return \" \".join(newlist)\n",
    "\n",
    "\n",
    "sentence = input()\n",
    "Piglatin(sentence)\n"
   ]
  },
  {
   "cell_type": "markdown",
   "metadata": {},
   "source": [
    "# REGEX --> regular expressions\n",
    "re-module\n",
    "\n",
    "- [] --> collection\n",
    "- [A-z] --> all alphabetical chars\n",
    "- \\w --> word characters\n",
    "- \\W --> non word chars\n",
    "- \\d --> digits\n",
    "- \\D --> non digits\n",
    "- [0-9] --> all digits\n",
    "- \\s --> spaces\n",
    "- \\S --> non  spaces\n",
    "- \\b --> word boundary (space, or special symbol)\n",
    "- \\B --> non word boundary\n",
    "- [A-Z] --> all capital\n",
    "- [a-z] --> all lower\n",
    "- + --> 1 or more [A-z]+\n",
    "- * --> 0 or more [A-z]*\n",
    "- ? --> 0 or 1 --> if immediately behind a range [A-z]?\n",
    "- ? --> as few as possible --> [A-z]+?\n",
    "- {} --> exact amount of x --> [A-z]{4} --> words of 4 chars\n",
    "- [A-z]{4,} --> length 4 or higher // if you fill in the second value, that's your upper boundary\n",
    "- () --> group of a set --> ($\\w+!){2}\\w+\n",
    "--> $hello!$Anthony!This Is the rest of the sentence"
   ]
  },
  {
   "cell_type": "code",
   "execution_count": 85,
   "metadata": {},
   "outputs": [
    {
     "name": "stdout",
     "output_type": "stream",
     "text": [
      "['Etiam', 'harry', 'et', 'sem', 'in', 'leo', 'efficitur', 'imperdiet', 'ut', 'non', 'nisl', 'Suspendisse', 'aliquam', 'non', 'arcu', 'et', 'vehicula', 'Pellentesque', 'ac', 'arcu', 'vel', 'dui', 'ultricies', 'lacinia', 'sit', 'amet', 'augue', 'Class', 'aptent', 'taciti', 'sociosqu', 'ad', 'litora', 'torquent', 'per', 'conubia', 'nostra', 'per', 'inceptos', 'himenaeos', 'Nunc', 'tristique', 'hendrerit', 'mi', 'id', 'condimentum', 'Sed', 'id', 'porta', 'metus', 'Aenean', 'mollis', 'rutrum', 'sem', 'non', 'maximus', 'Proin', 'dictum', 'eu', 'enim', 'nec', 'consequat', 'Nullam', 'orci', 'augue', 'maximus', 'eget', 'lobortis', 'ut', 'malesuada', 'non', 'dui', 'In', 'hac', 'habitasse', 'platea', 'dictumst', 'Aenean', 'sollicitudin', 'sollicitudin', 'euismod', 'Suspendisse', 'sodales', 'facilisis', 'urna', 'ut', 'molestie', 'magna', 'luctus', 'at', 'Donec', 'mattis', 'interdum', 'tellus', 'vitae', 'ultricies', 'ex', 'egestas', 'quis', 'Suspendisse', 'lobortis', 'ut', 'ipsum', 'sagittis', 'Pellentesque', 'pretium', 'turpis', 'arcu', 'tempus', 'pellentesque', 'felis', 'scelerisque']\n",
      "['nisl', 'arcu', '7835', 'arcu', 'amet', 'Nunc', '6789', '6743', 'enim', 'orci', 'eget', '2476', '8901', 'urna', 'quis', 'arcu']\n",
      "<re.Match object; span=(56, 60), match='nisl'>\n",
      "nisl\n",
      "(56, 60)\n",
      "['nisl', 'arcu', '7835', 'arcu', 'amet', 'Nunc', '6789', '6743', 'enim', 'orci', 'eget', '2476', '8901', 'urna', 'quis', 'arcu']\n",
      "[\"Etiam harry's et sem, in leo efficitur imperdiet ut non \", '. \\nSuspendisse aliquam non ', ' et vehicula. ', ' Pellentesque ac ', ' vel dui ultricies lacinia a sit ', ' augue. \\nClass aptent taciti sociosqu ad litora torquent per conubia nostra, per inceptos himenaeos. \\n', ' ', ' tristique hendrerit mi id condimentum. Sed id porta metus. Aenean mollis ', ' rutrum sem non maximus. \\nProin dictum eu ', ' nec consequat. Nullam ', ' augue, maximus ', ' ', ' lobortis ut, malesuada non dui. \\nIn hac habitasse platea dictumst. Aenean sollicitudin sollicitudin euismod. \\nSuspendisse sodales facilisis ', ' ', ', ut molestie magna luctus at. \\nDonec mattis interdum tellus, vitae ultricies ex egestas ', '. Suspendisse lobortis ut ipsum a sagittis. \\nPellentesque pretium turpis ', ', tempus pellentesque felis scelerisque a.']\n",
      "\n",
      "Etiam harry's et sem, in leo efficitur imperdiet ut non FOUR. \n",
      "Suspendisse aliquam non FOUR et vehicula. FOUR Pellentesque ac FOUR vel dui ultricies lacinia a sit FOUR augue. \n",
      "Class aptent taciti sociosqu ad litora torquent per conubia nostra, per inceptos himenaeos. \n",
      "FOUR FOUR tristique hendrerit mi id condimentum. Sed id porta metus. Aenean mollis FOUR rutrum sem non maximus. \n",
      "Proin dictum eu FOUR nec consequat. Nullam FOUR augue, maximus FOUR FOUR lobortis ut, malesuada non dui. \n",
      "In hac habitasse platea dictumst. Aenean sollicitudin sollicitudin euismod. \n",
      "Suspendisse sodales facilisis FOUR FOUR, ut molestie magna luctus at. \n",
      "Donec mattis interdum tellus, vitae ultricies ex egestas FOUR. Suspendisse lobortis ut ipsum a sagittis. \n",
      "Pellentesque pretium turpis FOUR, tempus pellentesque felis scelerisque a.\n"
     ]
    }
   ],
   "source": [
    "import re\n",
    "\n",
    "text = \"\"\"Etiam harry's et sem, in leo efficitur imperdiet ut non nisl. \n",
    "Suspendisse aliquam non arcu et vehicula. 7835 Pellentesque ac arcu vel dui ultricies lacinia a sit amet augue. \n",
    "Class aptent taciti sociosqu ad litora torquent per conubia nostra, per inceptos himenaeos. \n",
    "Nunc 6789 tristique hendrerit mi id condimentum. Sed id porta metus. Aenean mollis 6743 rutrum sem non maximus. \n",
    "Proin dictum eu enim nec consequat. Nullam orci augue, maximus eget 2476 lobortis ut, malesuada non dui. \n",
    "In hac habitasse platea dictumst. Aenean sollicitudin sollicitudin euismod. \n",
    "Suspendisse sodales facilisis 8901 urna, ut molestie magna luctus at. \n",
    "Donec mattis interdum tellus, vitae ultricies ex egestas quis. Suspendisse lobortis ut ipsum a sagittis. \n",
    "Pellentesque pretium turpis arcu, tempus pellentesque felis scelerisque a.\"\"\"\n",
    "\n",
    "regex = r\"[A-z]\\w+\"\n",
    "list = re.findall(regex,text)\n",
    "print(list)\n",
    "\n",
    "regex = r\"\\b\\w{4}\\b\"\n",
    "list = re.findall(regex, text)\n",
    "print(list)\n",
    "\n",
    "print(re.search(regex, text)) #information on the very first regex hit\n",
    "result = re.search(regex, text)\n",
    "print(result.group()) #shows the word\n",
    "print(result.span()) #index of first occurence\n",
    "\n",
    "regex_object = re.compile(regex)\n",
    "print(regex_object.findall(text))\n",
    "print(regex_object.split(text)) #r\"\\b\\w{4}\\b\" --> splits text at point of 4 letter words\n",
    "\n",
    "print()\n",
    "print(regex_object.sub(\"FOUR\", text))\n",
    "\n"
   ]
  }
 ],
 "metadata": {
  "kernelspec": {
   "display_name": "Python 3",
   "language": "python",
   "name": "python3"
  },
  "language_info": {
   "codemirror_mode": {
    "name": "ipython",
    "version": 3
   },
   "file_extension": ".py",
   "mimetype": "text/x-python",
   "name": "python",
   "nbconvert_exporter": "python",
   "pygments_lexer": "ipython3",
   "version": "3.12.4"
  }
 },
 "nbformat": 4,
 "nbformat_minor": 2
}
