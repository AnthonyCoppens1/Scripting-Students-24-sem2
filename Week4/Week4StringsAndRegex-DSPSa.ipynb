{
 "cells": [
  {
   "cell_type": "markdown",
   "metadata": {},
   "source": [
    "# Week4 Strings and Regex: class of 03/03\n",
    "## Strings and Raw Strings"
   ]
  },
  {
   "cell_type": "code",
   "execution_count": null,
   "metadata": {},
   "outputs": [
    {
     "name": "stdout",
     "output_type": "stream",
     "text": [
      "This is a string\n",
      "This is also a string\n",
      "This is a third string with a' quotation mark\n",
      "This is a fourth string with a ' single quote and a \" double quote\n",
      "This is a fifth string with a ' single quote, a double quote \" and \\n a new line\n",
      "This is another string with a ' single quote, a double quote \\\" and \\n a new line\n"
     ]
    }
   ],
   "source": [
    "s = \"This is a string\"\n",
    "print(s)\n",
    "\n",
    "s = 'This is also a string'\n",
    "print(s)\n",
    "\n",
    "s = \"This is a third string with a' quotation mark\"\n",
    "print(s)\n",
    "\n",
    "s = \"This is a fourth string with a ' single quote and a \\\" double quote\"\n",
    "#provide character with backslash to escape the sequence and print the \"\n",
    "print(s)\n",
    "\n",
    "s = \"This is a fifth string with a ' single quote, a double quote \\\" and \\\\n a new line\" #\\\\n to show printing of \\n\n",
    "print(s)\n",
    "\n",
    "s = r\"This is another string with a ' single quote, a double quote \\\" and \\n a new line\"\n",
    "#r indicates it is a raw string, escape characters will be printed.\n",
    "print(s)\n",
    "\n",
    "#a way of combining double and single quotes however many times you like with \"\"\" \"\"\" or ''' '''\n",
    "\"\"\"Harry's mother said: \"this is a test\".\"\"\"\n"
   ]
  },
  {
   "cell_type": "markdown",
   "metadata": {},
   "source": [
    "### Slicing strings\n",
    "Similar to slicing arrays from week 3\n",
    "\n",
    "[ start : end : step ]"
   ]
  },
  {
   "cell_type": "code",
   "execution_count": 24,
   "metadata": {},
   "outputs": [
    {
     "name": "stdout",
     "output_type": "stream",
     "text": [
      "#c rof etah on evah dna nohtyP ni gnidoc evol \n",
      "#c rof etah on evah dna nohtyP ni gnidoc evol I\n",
      "#c rof etah on evah dna nohtyP ni gnidoc evol I\n",
      "Ilv oigi yhnadhv oht o #\n",
      "Python\n",
      "\n",
      "True\n",
      "False\n",
      "True\n"
     ]
    }
   ],
   "source": [
    "s = \"I love coding in Python and have no hate for c#\"\n",
    "print(s[len(s)-1:0:-1]) #index 0 (end point) is not included. Doesn't print the I\n",
    "print(s[len(s)-1::-1]) #Full sentence is reversed\n",
    "print(s[::-1]) #Full sentence is reversed.\n",
    "\n",
    "print(s[::2])\n",
    "print(s[17:23:])\n",
    "print()\n",
    "print(\"Python\" in s)\n",
    "print(\"python\" in s)\n",
    "print(not \"python\" in s)"
   ]
  },
  {
   "cell_type": "markdown",
   "metadata": {},
   "source": [
    "### Splitting and joining\n",
    "split --> split string in list of strings / get list and return string"
   ]
  },
  {
   "cell_type": "code",
   "execution_count": 42,
   "metadata": {},
   "outputs": [
    {
     "name": "stdout",
     "output_type": "stream",
     "text": [
      "['I', 'love', 'Python', 'scripting']\n",
      "['1', '2', '3', '4', '5', '6', '7', '8', '9', '10']\n",
      "[1, 2, 3, 4, 5, 6, 7, 8, 9, 10]\n",
      "1 - 2 - 3 - 4 - 5 - 6 - 7 - 8 - 9 - 10\n"
     ]
    }
   ],
   "source": [
    "s = \"I love Python scripting \"\n",
    "list = s.split() #beware for split(\" \") --> forces entries after space even without any text\n",
    "print(list) #beware of !.?,;:...\n",
    "\n",
    "s = \"1,2,3,4,5,6,7,8,9,10\"\n",
    "list = s.split(\",\") #beware, if you do a default split s.split() --> 1 singular entry '12345678910'\n",
    "print(list)\n",
    "\n",
    "list_int = [int(x) for x in list]\n",
    "print(list_int)\n",
    "\n",
    "print(\" - \".join(list)) #concatenates any number of strings here with a given ' - '\n",
    "\n"
   ]
  },
  {
   "cell_type": "markdown",
   "metadata": {},
   "source": [
    "### Useful methods\n",
    "https://www.w3schools.com/python/python_ref_string.asp"
   ]
  },
  {
   "cell_type": "code",
   "execution_count": 43,
   "metadata": {},
   "outputs": [
    {
     "name": "stdout",
     "output_type": "stream",
     "text": [
      "tHIS-IS-A-string-WITH-NUMBERS-NR-NR-NR"
     ]
    }
   ],
   "source": [
    "s = \"This is a STRING with numbers 7 8 1\"\n",
    "for c in s:\n",
    "    if c.isupper():\n",
    "        print(c.lower(), end=\"\")\n",
    "    elif c.islower():\n",
    "        print(c.upper(), end=\"\")\n",
    "    elif c.isnumeric():\n",
    "        print(\"NR\", end=\"\")\n",
    "    elif c.isspace():\n",
    "        print(\"-\", end=\"\")\n",
    "\n"
   ]
  },
  {
   "cell_type": "markdown",
   "metadata": {},
   "source": [
    "### Stripping a string\n",
    "--> string stripper (not what you think it is)"
   ]
  },
  {
   "cell_type": "code",
   "execution_count": null,
   "metadata": {},
   "outputs": [
    {
     "name": "stdout",
     "output_type": "stream",
     "text": [
      "*            a lot of space                       *\n",
      "*            a lot of space *\n",
      "* a lot of space                       *\n",
      "* a lot of space *\n"
     ]
    }
   ],
   "source": [
    "s = \"           a lot of space                      \"\n",
    "print(\"*\",s,\"*\")\n",
    "print(\"*\",s.rstrip(),\"*\") #removes all spaces but 1 on right side\n",
    "print(\"*\",s.lstrip(),\"*\") #removes all spaces but 1 on left side\n",
    "print(\"*\",s.strip(),\"*\") #removes all spaces left and right, but 1 on both sides"
   ]
  },
  {
   "cell_type": "markdown",
   "metadata": {},
   "source": [
    "### Refresher ASCII TABLE\n",
    "https://www.asciitable.com/"
   ]
  },
  {
   "cell_type": "code",
   "execution_count": null,
   "metadata": {},
   "outputs": [
    {
     "name": "stdout",
     "output_type": "stream",
     "text": [
      "97\n",
      "b\n"
     ]
    }
   ],
   "source": [
    "c = \"a\"\n",
    "print(ord(c)) #prints numeric (ordinal) number of character\n",
    "print(chr(98)) #print char of given number"
   ]
  },
  {
   "cell_type": "markdown",
   "metadata": {},
   "source": [
    "### Exercise: Pig Latin\n",
    "Write a function that detects a sentence and reads each word correctly and returns a whole sentence in PIGLATIN\n",
    "RULES OF PIG LATIN:\n",
    "- word starts with consonant --> add consonant + \"ay\" --> happy --> appyhay\n",
    "- word starts with 2 consonants --> add consonants + \"ay\" --> childish --> ildishay\n",
    "- word starts with a vowel --> keep the word and add way --> awesome --> awesomeway\n",
    "I love python scripting --> iway overlay thonpyay riptingscay"
   ]
  },
  {
   "cell_type": "code",
   "execution_count": 56,
   "metadata": {},
   "outputs": [
    {
     "data": {
      "text/plain": [
       "'iway ovelay thonpyay riptingscay'"
      ]
     },
     "execution_count": 56,
     "metadata": {},
     "output_type": "execute_result"
    }
   ],
   "source": [
    "def Piglatin(sentence):\n",
    "    list = sentence.lower().split()\n",
    "    newlist = []\n",
    "    for word in list:\n",
    "        if word[0] in \"aeiou\":\n",
    "            newlist.append(word + \"way\")\n",
    "        else:\n",
    "            if not word[1] in \"aeiou\":\n",
    "                newlist.append(word[2::] + word[0:2:] + \"ay\")\n",
    "            else:\n",
    "                newlist.append(word[1::] + word[0] + \"ay\")\n",
    "    return \" \".join(newlist)\n",
    "\n",
    "s = input()\n",
    "Piglatin(s)"
   ]
  },
  {
   "cell_type": "markdown",
   "metadata": {},
   "source": [
    "## Regular expressions\n",
    "re-module\n",
    "\n",
    "- [] --> collection\n",
    "- [... - ...] --> range: [a-z] or [A-Z] or [A-z] or [0-9]\n",
    "- + sign --> 1 or more --> [A-z]+ --> 1 or more\n",
    "- * sign --> 0 or more --> [A-z]* 0 or more\n",
    "- ? sign --> 0 or 1 --> [A-z]? 0 or 1 alphabetical char upper or lower\n",
    "- second meaning of ? --> [A-z]+? --> returns always 1 character --> AS FEW AS POSSIBLE\n",
    "- {} exact number of times --> {... , } --> number or higher --> {... , ...} --> between and including both numbers\n",
    "- \\w word characters, \\W non-word characters\n",
    "- \\b word boundary, \\B non word boundary\n",
    "- \\d digit, \\D non digit\n",
    "- \\s space, \\S non space\n",
    "- () --> group of characters --> ($\\w+\\d){3}\\w+\n",
    "$hello9$Is4$am8and no idea"
   ]
  },
  {
   "cell_type": "code",
   "execution_count": 25,
   "metadata": {},
   "outputs": [
    {
     "name": "stdout",
     "output_type": "stream",
     "text": [
      "Donec eget s'em iaculis, viverra d 8023 olor non, fringilla nisi. \n",
      "Sed egestas justo sed purus sagittis, non tincidunt augue tincidunt. \n",
      "Morbi posuere et 8927 tellus at tincidunt. Quisque facilisis 2349 ullamcorper magna at hendrerit. \n",
      "Duis placerat, odio sed malesuada volutpat, massa urna lobortis massa, et commodo ligula diam et mauris. \n",
      "Mauris eui 2349 smod tincidunt urna, id ultricies justo ullamcorper elementum. \n",
      "Aenean ultrices, arcu quis bibendum cursus, quam massa consequat lectus, eget ornare turpis lorem et dui. \n",
      "Nam nulla turpis, feugiat eu malesuada ut, sollicitudin vel lacus.\n",
      "\n",
      "['eget', \"s'em\", 'olor', 'nisi', 'Duis', 'odio', 'urna', 'diam', 'smod', 'urna', 'arcu', 'quis', 'quam', 'eget']\n",
      "['eget', '8023', 'olor', 'nisi', '8927', '2349', 'Duis', 'odio', 'urna', 'diam', '2349', 'smod', 'urna', 'arcu', 'quis', 'quam', 'eget']\n",
      "<re.Match object; span=(6, 10), match='eget'>\n",
      "eget\n",
      "(6, 10)\n",
      "['eget', '8023', 'olor', 'nisi', '8927', '2349', 'Duis', 'odio', 'urna', 'diam', '2349', 'smod', 'urna', 'arcu', 'quis', 'quam', 'eget']\n",
      "None\n",
      "['Donec ', \" s'em iaculis, viverra d \", ' ', ' non, fringilla ', '. \\nSed egestas justo sed purus sagittis, non tincidunt augue tincidunt. \\nMorbi posuere et ', ' tellus at tincidunt. Quisque facilisis ', ' ullamcorper magna at hendrerit. \\n', ' placerat, ', ' sed malesuada volutpat, massa ', ' lobortis massa, et commodo ligula ', ' et mauris. \\nMauris eui ', ' ', ' tincidunt ', ', id ultricies justo ullamcorper elementum. \\nAenean ultrices, ', ' ', ' bibendum cursus, ', ' massa consequat lectus, ', ' ornare turpis lorem et dui. \\nNam nulla turpis, feugiat eu malesuada ut, sollicitudin vel lacus.']\n",
      "\n",
      "Donec TWELVE s'em iaculis, viverra d TWELVE TWELVE non, fringilla TWELVE. \n",
      "Sed egestas justo sed purus sagittis, non tincidunt augue tincidunt. \n",
      "Morbi posuere et TWELVE tellus at tincidunt. Quisque facilisis TWELVE ullamcorper magna at hendrerit. \n",
      "TWELVE placerat, TWELVE sed malesuada volutpat, massa TWELVE lobortis massa, et commodo ligula TWELVE et mauris. \n",
      "Mauris eui TWELVE TWELVE tincidunt TWELVE, id ultricies justo ullamcorper elementum. \n",
      "Aenean ultrices, TWELVE TWELVE bibendum cursus, TWELVE massa consequat lectus, TWELVE ornare turpis lorem et dui. \n",
      "Nam nulla turpis, feugiat eu malesuada ut, sollicitudin vel lacus.\n"
     ]
    }
   ],
   "source": [
    "import re\n",
    "\n",
    "text = \"\"\"Donec eget s'em iaculis, viverra d 8023 olor non, fringilla nisi. \n",
    "Sed egestas justo sed purus sagittis, non tincidunt augue tincidunt. \n",
    "Morbi posuere et 8927 tellus at tincidunt. Quisque facilisis 2349 ullamcorper magna at hendrerit. \n",
    "Duis placerat, odio sed malesuada volutpat, massa urna lobortis massa, et commodo ligula diam et mauris. \n",
    "Mauris eui 2349 smod tincidunt urna, id ultricies justo ullamcorper elementum. \n",
    "Aenean ultrices, arcu quis bibendum cursus, quam massa consequat lectus, eget ornare turpis lorem et dui. \n",
    "Nam nulla turpis, feugiat eu malesuada ut, sollicitudin vel lacus.\"\"\"\n",
    "\n",
    "print(text)\n",
    "print()\n",
    "regex = r\"\\b[A-z']{4}\\b\" #exactly 4 letter words\n",
    "list = re.findall(regex, text)\n",
    "print(list)\n",
    "\n",
    "regex = r\"\\b\\w{4}\\b\"\n",
    "list = re.findall(regex, text)\n",
    "print(list)\n",
    "\n",
    "print(re.search(regex, text)) #returns first match of regex, with indexes (upper 1 higher than last index)\n",
    "result = re.search(regex,text)\n",
    "print(result.group())\n",
    "print(result.span())\n",
    "\n",
    "regex_object = re.compile(regex) #compile regex first\n",
    "print(regex_object.findall(text))\n",
    "print(regex_object.match(text))\n",
    "print(regex_object.split(text))\n",
    "\n",
    "print()\n",
    "print(regex_object.sub(\"TWELVE\", text))\n",
    "\n"
   ]
  }
 ],
 "metadata": {
  "kernelspec": {
   "display_name": "Python 3",
   "language": "python",
   "name": "python3"
  },
  "language_info": {
   "codemirror_mode": {
    "name": "ipython",
    "version": 3
   },
   "file_extension": ".py",
   "mimetype": "text/x-python",
   "name": "python",
   "nbconvert_exporter": "python",
   "pygments_lexer": "ipython3",
   "version": "3.12.4"
  }
 },
 "nbformat": 4,
 "nbformat_minor": 2
}
