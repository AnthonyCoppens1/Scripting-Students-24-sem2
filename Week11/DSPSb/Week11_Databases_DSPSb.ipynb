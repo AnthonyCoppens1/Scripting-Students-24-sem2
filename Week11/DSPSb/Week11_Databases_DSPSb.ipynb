{
 "cells": [
  {
   "cell_type": "markdown",
   "id": "f09fed46",
   "metadata": {},
   "source": [
    "# Databases - week 11\n",
    "install package mysql-connector-python"
   ]
  },
  {
   "cell_type": "code",
   "execution_count": null,
   "id": "3c6a3eb4",
   "metadata": {},
   "outputs": [],
   "source": [
    "! pip install mysql-connector-python"
   ]
  },
  {
   "cell_type": "markdown",
   "id": "bdb59620",
   "metadata": {},
   "source": [
    "## Connect to the database"
   ]
  },
  {
   "cell_type": "code",
   "execution_count": null,
   "id": "672b5173",
   "metadata": {},
   "outputs": [
    {
     "name": "stdout",
     "output_type": "stream",
     "text": [
      "movies_db\n"
     ]
    }
   ],
   "source": [
    "import mysql.connector\n",
    "\n",
    "dbconnection = mysql.connector.connect(\n",
    "    host = \"localhost\",\n",
    "    user = \"root\",\n",
    "    password = \"\",\n",
    "    database = \"movies_db\"\n",
    ")\n",
    "\n",
    "cursor = dbconnection.cursor()\n",
    "\n",
    "print(dbconnection.database)\n",
    "# do some stuff\n",
    "cursor.close()\n",
    "dbconnection.close()"
   ]
  },
  {
   "cell_type": "markdown",
   "id": "e55d0967",
   "metadata": {},
   "source": [
    "## CREATE OPERATION"
   ]
  },
  {
   "cell_type": "code",
   "execution_count": 3,
   "id": "25a93fde",
   "metadata": {},
   "outputs": [],
   "source": [
    "import mysql.connector\n",
    "\n",
    "dbconnection = mysql.connector.connect(\n",
    "    host = \"localhost\",\n",
    "    user = \"root\",\n",
    "    password = \"\",\n",
    "    database = \"movies_db\"\n",
    ")\n",
    "\n",
    "cursor = dbconnection.cursor()\n",
    "query = \"insert into actors(name) values('Keanu Reeves');\"\n",
    "cursor.execute(query)\n",
    "dbconnection.commit()\n",
    "\n",
    "cursor.close()\n",
    "dbconnection.close()"
   ]
  },
  {
   "cell_type": "code",
   "execution_count": 4,
   "id": "aaf02040",
   "metadata": {},
   "outputs": [],
   "source": [
    "import mysql.connector\n",
    "\n",
    "dbconnection = mysql.connector.connect(\n",
    "    host = \"localhost\",\n",
    "    user = \"root\",\n",
    "    password = \"\",\n",
    "    database = \"movies_db\"\n",
    ")\n",
    "\n",
    "cursor = dbconnection.cursor()\n",
    "query = \"insert into actors(name) values(%s);\"\n",
    "\n",
    "data = [[\"Brandon Fraser\"], [\"Jean-Clause Van Damme\"], [\"Leonardo Di Caprio\"], [\"Dwayne 'the rock' Johnson\"],\n",
    "        [\"Margot Robbie\"], [\"Brad Pitt\"], [\"Angelina Jolie\"]]\n",
    "\n",
    "cursor.executemany(query, data)\n",
    "\n",
    "query = \"insert into movies(title, synopsis) values(%s, %s);\"\n",
    "data = (\"The Matrix\", \"Computer hacker discovers that everything is fake, joins the fight against the rebels and discovers his role in the fate of the war against controllers\")\n",
    "\n",
    "cursor.execute(query, data)\n",
    "\n",
    "movies = [(\"Interstellar\", \"Earth is doomed, need to find new planet, tries a lot of failed discoveries, ends up discovering laws of time and space\"),\n",
    "          (\"Jurassic Park\", \"Weird scientists close dinosaur dna and make a amusement park out of it that turns south quickly.\"),\n",
    "          (\"John Wick\", \"Super assassin loses his dog and goes bonkers.\"),\n",
    "          (\"Halloween\", \"Michael Meyers tries to make Halloween a fun time by killing random strangers. Lots of blood and scare\")]\n",
    "\n",
    "#insert each and every movie\n",
    "for movie in movies:\n",
    "    cursor.execute(query, movie)\n",
    "\n",
    "dbconnection.commit()\n",
    "\n",
    "cursor.close()\n",
    "dbconnection.close()"
   ]
  },
  {
   "cell_type": "markdown",
   "id": "9414f631",
   "metadata": {},
   "source": [
    "## READ OPERATION"
   ]
  },
  {
   "cell_type": "code",
   "execution_count": 9,
   "id": "6a91a324",
   "metadata": {},
   "outputs": [
    {
     "name": "stdout",
     "output_type": "stream",
     "text": [
      "[(1, 'Michelle Yeoh'), (2, 'Stephan James'), (3, 'Jamie Lee Curtis'), (4, 'Tom Cruise'), (5, 'Keanu Reeves'), (6, 'Brandon Fraser'), (7, 'Jean-Clause Van Damme'), (8, 'Leonardo Di Caprio'), (9, \"Dwayne 'the rock' Johnson\"), (10, 'Margot Robbie'), (11, 'Brad Pitt'), (12, 'Angelina Jolie')]\n",
      "(1, 'Michelle Yeoh')\n",
      "(2, 'Stephan James')\n",
      "(3, 'Jamie Lee Curtis')\n",
      "(4, 'Tom Cruise')\n",
      "(5, 'Keanu Reeves')\n",
      "(6, 'Brandon Fraser')\n",
      "(7, 'Jean-Clause Van Damme')\n",
      "(8, 'Leonardo Di Caprio')\n",
      "(9, \"Dwayne 'the rock' Johnson\")\n",
      "(10, 'Margot Robbie')\n",
      "(11, 'Brad Pitt')\n",
      "(12, 'Angelina Jolie')\n",
      "Michelle Yeoh\n",
      "Stephan James\n",
      "Jamie Lee Curtis\n",
      "Tom Cruise\n",
      "Keanu Reeves\n",
      "Brandon Fraser\n",
      "Jean-Clause Van Damme\n",
      "Leonardo Di Caprio\n",
      "Dwayne 'the rock' Johnson\n",
      "Margot Robbie\n",
      "Brad Pitt\n",
      "Angelina Jolie\n",
      "1 + Michelle Yeoh\n",
      "2 + Stephan James\n",
      "3 + Jamie Lee Curtis\n",
      "4 + Tom Cruise\n",
      "5 + Keanu Reeves\n",
      "6 + Brandon Fraser\n",
      "7 + Jean-Clause Van Damme\n",
      "8 + Leonardo Di Caprio\n",
      "9 + Dwayne 'the rock' Johnson\n",
      "10 + Margot Robbie\n",
      "11 + Brad Pitt\n",
      "12 + Angelina Jolie\n"
     ]
    }
   ],
   "source": [
    "import mysql.connector\n",
    "\n",
    "dbconnection = mysql.connector.connect(\n",
    "    host = \"localhost\",\n",
    "    user = \"root\",\n",
    "    password = \"\",\n",
    "    database = \"movies_db\"\n",
    ")\n",
    "\n",
    "cursor = dbconnection.cursor()\n",
    "query = \"select * from actors;\"\n",
    "cursor.execute(query)\n",
    "\n",
    "data = cursor.fetchall()\n",
    "print(data)\n",
    "\n",
    "#also possible to print in different ways through your data\n",
    "for actor in data: #everything\n",
    "    print(actor)\n",
    "\n",
    "for actor in data:\n",
    "    print(actor[1]) #only names\n",
    "\n",
    "for id, name in data:\n",
    "    print(id, \"+\", name)\n",
    "\n",
    "cursor.close()\n",
    "dbconnection.close()\n"
   ]
  },
  {
   "cell_type": "code",
   "execution_count": 13,
   "id": "485d72d1",
   "metadata": {},
   "outputs": [
    {
     "name": "stdout",
     "output_type": "stream",
     "text": [
      "[('Everything Everywhere All at Once', 'Michelle Yeoh'), ('Everything Everywhere All at Once', 'Stephan James'), ('Everything Everywhere All at Once', 'Jamie Lee Curtis'), ('Top Gun: Maverick', 'Tom Cruise')]\n",
      "('Everything Everywhere All at Once', 'Michelle Yeoh')\n",
      "('Everything Everywhere All at Once', 'Stephan James')\n",
      "('Everything Everywhere All at Once', 'Jamie Lee Curtis')\n",
      "('Top Gun: Maverick', 'Tom Cruise')\n",
      "Michelle Yeoh played in Everything Everywhere All at Once\n",
      "Stephan James played in Everything Everywhere All at Once\n",
      "Jamie Lee Curtis played in Everything Everywhere All at Once\n",
      "Tom Cruise played in Top Gun: Maverick\n"
     ]
    }
   ],
   "source": [
    "import mysql.connector\n",
    "\n",
    "dbconnection = mysql.connector.connect(\n",
    "    host = \"localhost\",\n",
    "    user = \"root\",\n",
    "    password = \"\",\n",
    "    database = \"movies_db\"\n",
    ")\n",
    "\n",
    "cursor = dbconnection.cursor()\n",
    "\n",
    "query = \"\"\"\n",
    "        select movies.title, actors.name from movies\n",
    "        inner join movie_actor on movies.id = movie_actor.movie_id\n",
    "        inner join actors on actors.id = movie_actor.actor_id;\n",
    "\"\"\"\n",
    "\n",
    "cursor.execute(query)\n",
    "data = cursor.fetchall()\n",
    "\n",
    "print(data)\n",
    "\n",
    "for row in data:\n",
    "    print(row)\n",
    "\n",
    "for movie, actor in data:\n",
    "    print(actor, \"played in\", movie)\n",
    "\n",
    "cursor.close()\n",
    "dbconnection.close()"
   ]
  },
  {
   "cell_type": "markdown",
   "id": "ac91dfeb",
   "metadata": {},
   "source": [
    "## UPDATE OPERATION"
   ]
  },
  {
   "cell_type": "code",
   "execution_count": null,
   "id": "d4cb5d4a",
   "metadata": {},
   "outputs": [],
   "source": [
    "import mysql.connector\n",
    "\n",
    "dbconnection = mysql.connector.connect(\n",
    "    host = \"localhost\",\n",
    "    user = \"root\",\n",
    "    password = \"\",\n",
    "    database = \"movies_db\"\n",
    ")\n",
    "\n",
    "cursor = dbconnection.cursor()\n",
    "\n",
    "#cursor.execute(\"insert into movies(title) values('Barbie')\")\n",
    "query = \"\"\"\n",
    "        update movies set synopsis ='Girls standing up against the Kens of the world'\n",
    "        where title like 'Barbie'\n",
    "\"\"\"\n",
    "\n",
    "cursor.execute(query)\n",
    "\n",
    "dbconnection.commit()\n",
    "cursor.close()\n",
    "dbconnection.close()\n"
   ]
  },
  {
   "cell_type": "markdown",
   "id": "697ca759",
   "metadata": {},
   "source": [
    "## SCRAPE DATA INTO DATABASE\n",
    "https://en.wikipedia.org/wiki/List_of_Academy_Award-winning_films"
   ]
  },
  {
   "cell_type": "code",
   "execution_count": null,
   "id": "a6cf6ca1",
   "metadata": {},
   "outputs": [],
   "source": [
    "import requests\n",
    "from bs4 import BeautifulSoup\n",
    "import mysql.connector\n",
    "\n",
    "url = \"https://en.wikipedia.org/wiki/List_of_Academy_Award-winning_films\"\n",
    "response = requests.get(url)\n",
    "soup = BeautifulSoup(response.text)\n",
    "\n",
    "#opening the db\n",
    "dbconnection = mysql.connector.connect(\n",
    "    host = \"localhost\",\n",
    "    user = \"root\",\n",
    "    password = \"\",\n",
    "    database = \"movies_db\"\n",
    ")\n",
    "\n",
    "cursor = dbconnection.cursor()\n",
    "\n",
    "table = soup.find(\"table\")\n",
    "rows = table.find_all(\"tr\")\n",
    "for row in rows:\n",
    "    td = row.find_all(\"td\")\n",
    "    if len(td) > 0:\n",
    "        title = td[0].get_text().strip().replace(\"'\",\"\")\n",
    "        year = td[1].get_text().strip()\n",
    "        awards = td[2].get_text().strip()\n",
    "        nominations = td[3].get_text().strip()\n",
    "    \n",
    "        #check for duplicates\n",
    "        query = f\"select * from movies where title like '{title}'\"\n",
    "        print(query)\n",
    "        cursor.execute(query)\n",
    "        \n",
    "        data = cursor.fetchall()\n",
    "        if len(data) == 0:\n",
    "            query = f\"insert into movies(title) values('{title}')\"\n",
    "            cursor.execute(query)\n",
    "            dbconnection.commit()\n",
    "\n",
    "            movie_id = cursor.lastrowid\n",
    "\n",
    "            query = f\"insert into awards(awardshow_id, year, movie_id, awards, nominations) values('1', {year}, {movie_id}, {awards}, {nominations})\"\n",
    "\n",
    "            #values = (1, {year}, {movie_id}, {awards}, {nominations})\n",
    "            cursor.execute(query)\n",
    "            dbconnection.commit()\n",
    "\n",
    "cursor.close()\n",
    "dbconnection.close()\n"
   ]
  }
 ],
 "metadata": {
  "kernelspec": {
   "display_name": "Python 3",
   "language": "python",
   "name": "python3"
  },
  "language_info": {
   "codemirror_mode": {
    "name": "ipython",
    "version": 3
   },
   "file_extension": ".py",
   "mimetype": "text/x-python",
   "name": "python",
   "nbconvert_exporter": "python",
   "pygments_lexer": "ipython3",
   "version": "3.11.9"
  }
 },
 "nbformat": 4,
 "nbformat_minor": 5
}
