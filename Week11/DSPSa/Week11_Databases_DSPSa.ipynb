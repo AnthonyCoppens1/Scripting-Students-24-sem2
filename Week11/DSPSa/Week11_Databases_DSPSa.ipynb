{
 "cells": [
  {
   "cell_type": "markdown",
   "id": "1fc5bccd",
   "metadata": {},
   "source": [
    "# DATABASES\n",
    "install packages mysql-connector-python"
   ]
  },
  {
   "cell_type": "code",
   "execution_count": 1,
   "id": "6e6ab45e",
   "metadata": {},
   "outputs": [
    {
     "name": "stdout",
     "output_type": "stream",
     "text": [
      "Requirement already satisfied: mysql-connector-python in c:\\users\\antho\\appdata\\local\\packages\\pythonsoftwarefoundation.python.3.11_qbz5n2kfra8p0\\localcache\\local-packages\\python311\\site-packages (8.4.0)\n"
     ]
    },
    {
     "name": "stderr",
     "output_type": "stream",
     "text": [
      "\n",
      "[notice] A new release of pip is available: 24.0 -> 25.1.1\n",
      "[notice] To update, run: C:\\Users\\antho\\AppData\\Local\\Microsoft\\WindowsApps\\PythonSoftwareFoundation.Python.3.11_qbz5n2kfra8p0\\python.exe -m pip install --upgrade pip\n"
     ]
    }
   ],
   "source": [
    "! pip install mysql-connector-python"
   ]
  },
  {
   "cell_type": "markdown",
   "id": "91035a96",
   "metadata": {},
   "source": [
    "## Connecting to the database"
   ]
  },
  {
   "cell_type": "code",
   "execution_count": 2,
   "id": "ff275d7b",
   "metadata": {},
   "outputs": [
    {
     "name": "stdout",
     "output_type": "stream",
     "text": [
      "movies_db\n"
     ]
    }
   ],
   "source": [
    "import mysql.connector\n",
    "\n",
    "dbconnection = mysql.connector.connect(\n",
    "    host = \"localhost\",\n",
    "    user = \"root\",\n",
    "    password = \"\",\n",
    "    database = \"movies_db\"\n",
    ")\n",
    "\n",
    "cursor = dbconnection.cursor()\n",
    "print(dbconnection.database)\n",
    "#do stuff\n",
    "cursor.close()\n",
    "dbconnection.close()"
   ]
  },
  {
   "cell_type": "markdown",
   "id": "8eb2fcc8",
   "metadata": {},
   "source": [
    "## CREATE OPERATION"
   ]
  },
  {
   "cell_type": "code",
   "execution_count": null,
   "id": "5f1492d3",
   "metadata": {},
   "outputs": [],
   "source": [
    "import mysql.connector\n",
    "\n",
    "dbconnection = mysql.connector.connect(\n",
    "    host = \"localhost\",\n",
    "    user = \"root\",\n",
    "    password = \"\",\n",
    "    database = \"movies_db\"\n",
    ")\n",
    "\n",
    "cursor = dbconnection.cursor()\n",
    "\n",
    "query = \"INSERT INTO actors(name) VALUES('Jason Statham');\"\n",
    "cursor.execute(query)\n",
    "dbconnection.commit()\n",
    "\n",
    "cursor.close()\n",
    "dbconnection.close()"
   ]
  },
  {
   "cell_type": "code",
   "execution_count": null,
   "id": "469dba92",
   "metadata": {},
   "outputs": [],
   "source": [
    "import mysql.connector\n",
    "\n",
    "dbconnection = mysql.connector.connect(\n",
    "    host = \"localhost\",\n",
    "    user = \"root\",\n",
    "    password = \"\",\n",
    "    database = \"movies_db\"\n",
    ")\n",
    "\n",
    "cursor = dbconnection.cursor()\n",
    "\n",
    "query = \"INSERT INTO actors(name) VALUES(%s);\"\n",
    "data = [[\"Leonardo Dicaprio\"], [\"Leonardo DaVinci\"], [\"Brad Pitt\"], [\"Matthew McConaughey\"], [\"Christen Bale\"], \n",
    "        [\"Kevin Hart\"], [\"Denzel Washington\"], [\"Margot Robbie\"]]\n",
    "\n",
    "cursor.executemany(query, data)\n",
    "dbconnection.commit()\n",
    "\n",
    "cursor.close()\n",
    "dbconnection.close()"
   ]
  },
  {
   "cell_type": "code",
   "execution_count": 6,
   "id": "c150c04e",
   "metadata": {},
   "outputs": [],
   "source": [
    "import mysql.connector\n",
    "\n",
    "dbconnection = mysql.connector.connect(\n",
    "    host = \"localhost\",\n",
    "    user = \"root\",\n",
    "    password = \"\",\n",
    "    database = \"movies_db\"\n",
    ")\n",
    "\n",
    "cursor = dbconnection.cursor()\n",
    "\n",
    "query = \"INSERT INTO movies(title, synopsis) VALUES(%s, %s)\"\n",
    "data = (\"The Matrix\", \"Computer hackers learns about mysterious rebels and true nature of reality, big war!\")\n",
    "\n",
    "cursor.execute(query, data)\n",
    "\n",
    "movies = [(\"The Maze Runner\", \"Trapped in a maze, have to get out or DIE\"),\n",
    "          (\"Venom\", \"Aliens attacking, astronauts and some other stuff\"),\n",
    "          (\"Madagascar\", \"Four spoiled animals from NY central zoo escaped, and let's not forget the penguins\"),\n",
    "          (\"Jurassic Park\", \"Scientists create theme park with cloned dinosaurs, shit hits the fan!\")]\n",
    "\n",
    "#insert every movie\n",
    "for movie in movies:\n",
    "    cursor.execute(query, movie)\n",
    "\n",
    "dbconnection.commit()\n",
    "\n",
    "cursor.close()\n",
    "dbconnection.close()"
   ]
  },
  {
   "cell_type": "markdown",
   "id": "f7d9d256",
   "metadata": {},
   "source": [
    "## READ OPERATION"
   ]
  },
  {
   "cell_type": "code",
   "execution_count": null,
   "id": "28b5015f",
   "metadata": {},
   "outputs": [
    {
     "name": "stdout",
     "output_type": "stream",
     "text": [
      "[(1, 'Michelle Yeoh'), (2, 'Stephan James'), (3, 'Jamie Lee Curtis'), (4, 'Tom Cruise'), (5, 'Jason Statham'), (6, 'Leonardo Dicaprio'), (7, 'Leonardo DaVinci'), (8, 'Brad Pitt'), (9, 'Matthew McConaughey'), (10, 'Christen Bale'), (11, 'Kevin Hart'), (12, 'Denzel Washington'), (13, 'Margot Robbie')]\n",
      "(1, 'Michelle Yeoh')\n",
      "(2, 'Stephan James')\n",
      "(3, 'Jamie Lee Curtis')\n",
      "(4, 'Tom Cruise')\n",
      "(5, 'Jason Statham')\n",
      "(6, 'Leonardo Dicaprio')\n",
      "(7, 'Leonardo DaVinci')\n",
      "(8, 'Brad Pitt')\n",
      "(9, 'Matthew McConaughey')\n",
      "(10, 'Christen Bale')\n",
      "(11, 'Kevin Hart')\n",
      "(12, 'Denzel Washington')\n",
      "(13, 'Margot Robbie')\n",
      "Michelle Yeoh\n",
      "Stephan James\n",
      "Jamie Lee Curtis\n",
      "Tom Cruise\n",
      "Jason Statham\n",
      "Leonardo Dicaprio\n",
      "Leonardo DaVinci\n",
      "Brad Pitt\n",
      "Matthew McConaughey\n",
      "Christen Bale\n",
      "Kevin Hart\n",
      "Denzel Washington\n",
      "Margot Robbie\n",
      "1 Michelle Yeoh\n",
      "2 Stephan James\n",
      "3 Jamie Lee Curtis\n",
      "4 Tom Cruise\n",
      "5 Jason Statham\n",
      "6 Leonardo Dicaprio\n",
      "7 Leonardo DaVinci\n",
      "8 Brad Pitt\n",
      "9 Matthew McConaughey\n",
      "10 Christen Bale\n",
      "11 Kevin Hart\n",
      "12 Denzel Washington\n",
      "13 Margot Robbie\n"
     ]
    }
   ],
   "source": [
    "import mysql.connector\n",
    "\n",
    "dbconnection = mysql.connector.connect(\n",
    "    host = \"localhost\",\n",
    "    user = \"root\",\n",
    "    password = \"\",\n",
    "    database = \"movies_db\"\n",
    ")\n",
    "\n",
    "cursor = dbconnection.cursor()\n",
    "\n",
    "# query = \"select * from actors;\"\n",
    "# cursor.execute(query)\n",
    "\n",
    "cursor.execute(\"select * from actors;\")\n",
    "\n",
    "data = cursor.fetchall()\n",
    "print(data)\n",
    "\n",
    "for actor in data:\n",
    "    print(actor)\n",
    "\n",
    "for actor in data:\n",
    "    print(actor[1])\n",
    "\n",
    "for id, name in data:\n",
    "    print(id, name)\n",
    "\n",
    "cursor.close()\n",
    "dbconnection.close()"
   ]
  },
  {
   "cell_type": "code",
   "execution_count": 16,
   "id": "23709f20",
   "metadata": {},
   "outputs": [
    {
     "name": "stdout",
     "output_type": "stream",
     "text": [
      "('Everything Everywhere All at Once', 'Michelle Yeoh')\n",
      "('Everything Everywhere All at Once', 'Stephan James')\n",
      "('Everything Everywhere All at Once', 'Jamie Lee Curtis')\n",
      "('Top Gun: Maverick', 'Tom Cruise')\n",
      "Michelle Yeoh played in Everything Everywhere All at Once\n",
      "Stephan James played in Everything Everywhere All at Once\n",
      "Jamie Lee Curtis played in Everything Everywhere All at Once\n",
      "Tom Cruise played in Top Gun: Maverick\n"
     ]
    }
   ],
   "source": [
    "import mysql.connector\n",
    "\n",
    "dbconnection = mysql.connector.connect(\n",
    "    host = \"localhost\",\n",
    "    user = \"root\",\n",
    "    password = \"\",\n",
    "    database = \"movies_db\"\n",
    ")\n",
    "\n",
    "cursor = dbconnection.cursor()\n",
    "\n",
    "query = \"\"\"select movies.title, actors.name\n",
    "            from movies\n",
    "                inner join movie_actor on movies.id = movie_actor.movie_id\n",
    "                inner join actors on actors.id = movie_actor.actor_id;\"\"\"\n",
    "\n",
    "cursor.execute(query)\n",
    "data = cursor.fetchall()\n",
    "\n",
    "for row in data:\n",
    "    print(row)\n",
    "\n",
    "for movie, actor in data:\n",
    "    print(actor, \"played in\", movie)\n",
    "\n",
    "cursor.close()\n",
    "dbconnection.close()"
   ]
  }
 ],
 "metadata": {
  "kernelspec": {
   "display_name": "Python 3",
   "language": "python",
   "name": "python3"
  },
  "language_info": {
   "codemirror_mode": {
    "name": "ipython",
    "version": 3
   },
   "file_extension": ".py",
   "mimetype": "text/x-python",
   "name": "python",
   "nbconvert_exporter": "python",
   "pygments_lexer": "ipython3",
   "version": "3.11.9"
  }
 },
 "nbformat": 4,
 "nbformat_minor": 5
}
