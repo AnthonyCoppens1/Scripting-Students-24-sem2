{
 "cells": [
  {
   "cell_type": "markdown",
   "metadata": {},
   "source": [
    "# Python Basics: class 10/02"
   ]
  },
  {
   "cell_type": "code",
   "execution_count": 1,
   "metadata": {},
   "outputs": [
    {
     "name": "stdout",
     "output_type": "stream",
     "text": [
      "Hello, World!\n"
     ]
    }
   ],
   "source": [
    "print(\"Hello, World!\")"
   ]
  },
  {
   "cell_type": "markdown",
   "metadata": {},
   "source": [
    "## Input & output\n",
    "Conversion between types\n",
    "- int --> integer number\n",
    "- float --> decimal number\n",
    "- str --> string = text!"
   ]
  },
  {
   "cell_type": "code",
   "execution_count": 14,
   "metadata": {},
   "outputs": [
    {
     "name": "stdout",
     "output_type": "stream",
     "text": [
      "608\n",
      "value of x:  608\n",
      "<class 'str'>\n",
      "608\n",
      "<class 'int'>\n",
      "608.0\n",
      "<class 'float'>\n",
      "this is testnumber: <class 'float'>\n",
      "<class 'str'>\n"
     ]
    }
   ],
   "source": [
    "#find sign of x\n",
    "\n",
    "x = input(\"Give me a number: \")\n",
    "print(x)\n",
    "print(\"value of x: \", x)\n",
    "print(type(x))\n",
    "\n",
    "#converting from one datatype to another\n",
    "int_number = int(x)\n",
    "print(int_number)\n",
    "print(type(int_number))\n",
    "\n",
    "dec_number = float(x)\n",
    "print(dec_number)\n",
    "print(type(dec_number))\n",
    "\n",
    "#you can also convert from the original or from a converted variable\n",
    "testnumber = float(int_number)\n",
    "print(\"this is testnumber:\", type(testnumber))\n",
    "print(type(str(dec_number)))"
   ]
  },
  {
   "cell_type": "markdown",
   "metadata": {},
   "source": [
    "## Combining outputs --> concatenation\n",
    "- '+' --> combine 2 strings or add 2 numbers. You have to provide a space and all parts have to be strings\n",
    "- ',' --> provides an actual space and allows the use of different datatypes"
   ]
  },
  {
   "cell_type": "code",
   "execution_count": 4,
   "metadata": {},
   "outputs": [
    {
     "name": "stdout",
     "output_type": "stream",
     "text": [
      "The number is 5\n",
      "10\n",
      "The number is 5\n",
      "55\n",
      "10\n"
     ]
    }
   ],
   "source": [
    "number = 5\n",
    "print(\"The number is\", number)\n",
    "print(number + number) #10\n",
    "print(\"The number is \" + str(5))\n",
    "print(str(number) + str(number)) #55\n",
    "print(str(number + number)) #10"
   ]
  },
  {
   "cell_type": "markdown",
   "metadata": {},
   "source": [
    "## Expressions\n",
    "### Arithmetic operations"
   ]
  },
  {
   "cell_type": "code",
   "execution_count": 15,
   "metadata": {},
   "outputs": [
    {
     "name": "stdout",
     "output_type": "stream",
     "text": [
      "15 8\n",
      "23\n",
      "This is what we want to check:  8\n",
      "7\n",
      "30\n",
      "3.3333333333333335\n",
      "3\n",
      "1\n",
      "1000\n"
     ]
    }
   ],
   "source": [
    "x = 15\n",
    "y = 8\n",
    "# mind the difference in how you print if you want to check the values\n",
    "print(x,y)\n",
    "print(x + y)\n",
    "\n",
    "#change or assign multiple values at the same time\n",
    "x,y = 10,3\n",
    "print(x + y) #13\n",
    "print(x - y) #7\n",
    "print(x * y) #30\n",
    "print(x / y) #3,3333333...\n",
    "print(x // y) #3 --> integer division (divide in equal groups of ... without adding the remainder)\n",
    "print(x % y) #1 --> remainder after integer division\n",
    "#division 10//3 = 3 --> 10 - (3*3) = 1\n",
    "\n",
    "print(x**y) #1000"
   ]
  },
  {
   "cell_type": "markdown",
   "metadata": {},
   "source": [
    "### Assignment operators"
   ]
  },
  {
   "cell_type": "code",
   "execution_count": 22,
   "metadata": {},
   "outputs": [
    {
     "name": "stdout",
     "output_type": "stream",
     "text": [
      "13 <class 'int'>\n",
      "10 <class 'int'>\n",
      "30 <class 'int'>\n",
      "10.0 <class 'float'>\n",
      "3.0 <class 'float'>\n",
      "1000 <class 'int'>\n"
     ]
    }
   ],
   "source": [
    "x,y = 10,3\n",
    "x += y; print(x, type(x)) #13 --> x = x + y\n",
    "x -= y; print(x, type(x)) #10 --> x = x - y\n",
    "x *= y; print(x, type(x)) #30\n",
    "x /= y; print(x, type(x)) #10.0\n",
    "x //= y; print(x, type(x)) #3.0\n",
    "\n",
    "x = 10\n",
    "x**=y; print(x, type(x)) #1000\n",
    "\n",
    "#x++ --> not available\n",
    "x+=1 #--> this is the python alternative"
   ]
  },
  {
   "cell_type": "markdown",
   "metadata": {},
   "source": [
    "### Comparison operators"
   ]
  },
  {
   "cell_type": "code",
   "execution_count": 30,
   "metadata": {},
   "outputs": [
    {
     "name": "stdout",
     "output_type": "stream",
     "text": [
      "False\n",
      "False\n",
      "True\n",
      "True\n",
      "True\n",
      "False\n"
     ]
    }
   ],
   "source": [
    "x,y = 5,5.0\n",
    "print(x < y)\n",
    "print(x > y)\n",
    "print(x <= y)\n",
    "print(x >= y)\n",
    "print(x == y)\n",
    "print(x != y)"
   ]
  },
  {
   "cell_type": "markdown",
   "metadata": {},
   "source": [
    "### Python build in functions\n",
    "https://www.w3schools.com/python/python_ref_string.asp\n",
    "https://www.w3schools.com/python/python_ref_functions.asp\n"
   ]
  },
  {
   "cell_type": "code",
   "execution_count": 38,
   "metadata": {},
   "outputs": [
    {
     "name": "stdout",
     "output_type": "stream",
     "text": [
      "Some text\n",
      "some text\n",
      "SOME TEXT\n",
      "som3 t3xt\n",
      "5.1235421\n",
      "-5.1235\n"
     ]
    }
   ],
   "source": [
    "text = \"some text\"\n",
    "print(text.capitalize())\n",
    "print(text.lower())\n",
    "print(text.upper())\n",
    "print(text.replace(\"e\", \"3\")) #replaces every occurence\n",
    "\n",
    "x = -5.1235421\n",
    "print(abs(x))\n",
    "print(round(x,4))\n"
   ]
  },
  {
   "cell_type": "markdown",
   "metadata": {},
   "source": [
    "## Conditional statements\n",
    "if-structure!\n",
    "https://www.bbc.com/news/magazine-20559052\n"
   ]
  },
  {
   "cell_type": "code",
   "execution_count": 44,
   "metadata": {},
   "outputs": [
    {
     "name": "stdout",
     "output_type": "stream",
     "text": [
      "0 is zero\n",
      "0 is zero\n",
      "0 is even\n"
     ]
    }
   ],
   "source": [
    "#find the sign of the number\n",
    "#input() is always a string, therefore you have to always convert this function\n",
    "\n",
    "number = int(input(\"Give me a number: \"))\n",
    "\n",
    "if number > 0:\n",
    "    print(number, \"is positive\")\n",
    "elif number < 0:\n",
    "    print(number, \"is negative\")\n",
    "else:\n",
    "    print(number, \"is zero\")\n",
    "\n",
    "#other implementation\n",
    "if number == 0:\n",
    "    print(number, \"is zero\")\n",
    "elif number > 0:\n",
    "    print(number, \"is positive\")\n",
    "else:\n",
    "    print(number, \"is negative\")\n",
    "\n",
    "\n",
    "#determine if a number is even or odd (zero is even)\n",
    "if number % 2 == 0:\n",
    "    print(number, \"is even\")\n",
    "else:\n",
    "    print(number, \"is odd\")\n"
   ]
  },
  {
   "cell_type": "markdown",
   "metadata": {},
   "source": [
    "### some exercises on conditional statements\n",
    "- write an if-statement that checks if you are eligible to vote --> have to be 18 or older. INPUT: year of birth / OUTPUT: \"You are eligible to vote\" or \"You are NOT eligible to vote\"\n",
    "- write an if-statement that checks if a string is empty or not --> \"String is empty\" or \"String is not empty\"\n",
    "- write an if-statement that checks if a password is secure --> at least 8 characters (8 or above) / has to contain both numbers and digits."
   ]
  },
  {
   "cell_type": "code",
   "execution_count": null,
   "metadata": {},
   "outputs": [],
   "source": [
    "#ex 1\n",
    "from datetime import datetime as dt\n",
    "birthyear = int(input(\"Give me a year of birth: \"))\n",
    "age = dt.now().year - birthyear\n",
    "\n",
    "if age >= 18:\n",
    "    print(\"You are eligible to vote\")\n",
    "else:\n",
    "    print(\"You are NOT eligible to vote\")"
   ]
  },
  {
   "cell_type": "code",
   "execution_count": 2,
   "metadata": {},
   "outputs": [
    {
     "name": "stdout",
     "output_type": "stream",
     "text": [
      "String is NOT empty\n",
      "String is NOT empty\n"
     ]
    }
   ],
   "source": [
    "#ex 2\n",
    "text = input(\"Give me a string or not\")\n",
    "if len(text) == 0: #text == \"\"\n",
    "    print(\"String is empty\")\n",
    "else:\n",
    "    print(\"String is NOT empty\")\n",
    "\n",
    "\n",
    "if not text:\n",
    "    print(\"String is empty\")\n",
    "else:\n",
    "    print(\"String is NOT empty\")"
   ]
  },
  {
   "cell_type": "code",
   "execution_count": null,
   "metadata": {},
   "outputs": [],
   "source": [
    "#ex 3\n",
    "charCheck = input(\"Give me a password\")\n",
    "if len(charCheck) >= 8 and any(c.isdigit() for c in charCheck) and any(c.isalpha() for c in charCheck):\n",
    "    print(\"Password is secure\")\n",
    "else:\n",
    "    print(\"Password is NOT secure\")"
   ]
  },
  {
   "cell_type": "markdown",
   "metadata": {},
   "source": [
    "## Loops\n",
    "- **for-loop**: iterates over a sequence or a range, so you know exactly how many times it repeats\n",
    "- **while-loop**: keeps on repeating as long as a specific condition is met. You don't know how many times it repeats"
   ]
  },
  {
   "cell_type": "code",
   "execution_count": 10,
   "metadata": {},
   "outputs": [
    {
     "name": "stdout",
     "output_type": "stream",
     "text": [
      "a\n",
      " \n",
      "w\n",
      "o\n",
      "r\n",
      "d\n",
      "a word\n",
      "0\n",
      "1\n",
      "2\n",
      "3\n",
      "4\n",
      "5\n",
      "6\n",
      "7\n",
      "8\n",
      "9\n",
      "-5\n",
      "-4\n",
      "-3\n",
      "-2\n",
      "-1\n",
      "0\n",
      "1\n",
      "2\n",
      "3\n",
      "4\n"
     ]
    }
   ],
   "source": [
    "#a sequence can also be a word, a sequence of characters\n",
    "for c in \"a word\":\n",
    "    print(c)\n",
    "\n",
    "for c in \"a word\":\n",
    "    print(c, end=\"\")\n",
    "\n",
    "print()\n",
    "for x in range(0,10):\n",
    "    print(x)\n",
    "\n",
    "for x in range(-5, 5):\n",
    "    print(x)"
   ]
  },
  {
   "cell_type": "code",
   "execution_count": 19,
   "metadata": {},
   "outputs": [
    {
     "name": "stdout",
     "output_type": "stream",
     "text": [
      "5 25 125 625 3125 \n",
      "25 125 625 3125 15625 "
     ]
    }
   ],
   "source": [
    "value = input()\n",
    "while value != \"STOP\":\n",
    "    print(value)\n",
    "    value = input()\n",
    "\n",
    "\n",
    "x = 5\n",
    "while x <= 10000:\n",
    "    print(x, end=\" \")\n",
    "    x *= 5\n",
    "\n",
    "\n",
    "print()\n",
    "x = 5\n",
    "while x <= 10000:\n",
    "    x *= 5\n",
    "    print(x, end=\" \")"
   ]
  },
  {
   "cell_type": "markdown",
   "metadata": {},
   "source": [
    "## Combining conditions\n",
    "- **and**: both or all conditions need to be True\n",
    "- **or**: at least one condition has to be True\n",
    "- **not**: reverse of a condition"
   ]
  },
  {
   "cell_type": "code",
   "execution_count": 24,
   "metadata": {},
   "outputs": [
    {
     "name": "stdout",
     "output_type": "stream",
     "text": [
      "True\n",
      "False\n",
      "False\n",
      "True\n",
      "False\n",
      "True\n"
     ]
    }
   ],
   "source": [
    "x,y,z = 1,2,3\n",
    "print(x < y and y < z) #True\n",
    "print(x > y or y > z) #False\n",
    "print(x > y and y < z) #False\n",
    "print(x < y or y > z) #True\n",
    "print(not(x < y or y > z))\n",
    "print(not(x < y and y > z))"
   ]
  }
 ],
 "metadata": {
  "kernelspec": {
   "display_name": "Python 3",
   "language": "python",
   "name": "python3"
  },
  "language_info": {
   "codemirror_mode": {
    "name": "ipython",
    "version": 3
   },
   "file_extension": ".py",
   "mimetype": "text/x-python",
   "name": "python",
   "nbconvert_exporter": "python",
   "pygments_lexer": "ipython3",
   "version": "3.12.4"
  }
 },
 "nbformat": 4,
 "nbformat_minor": 2
}
