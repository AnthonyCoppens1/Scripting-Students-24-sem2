{
 "cells": [
  {
   "cell_type": "markdown",
   "metadata": {},
   "source": [
    "# Python basics: les van 12/02"
   ]
  },
  {
   "cell_type": "code",
   "execution_count": 1,
   "metadata": {},
   "outputs": [
    {
     "name": "stdout",
     "output_type": "stream",
     "text": [
      "Hello, world!\n"
     ]
    }
   ],
   "source": [
    "print(\"Hello, world!\")"
   ]
  },
  {
   "cell_type": "markdown",
   "metadata": {},
   "source": [
    "## Input en output\n",
    "Variabelen en conversie tussen beide\n",
    "- int --> gehele getallen\n",
    "- float --> kommagetallen\n",
    "- str --> string = tekst!"
   ]
  },
  {
   "cell_type": "code",
   "execution_count": null,
   "metadata": {},
   "outputs": [],
   "source": [
    "#zoeken naar het datatype van variabele x\n",
    "x = input(\"Geef mij een getal: \")\n",
    "print(x)\n",
    "print(type(x))\n",
    "print(\"De waarde van x is: \" + x)\n",
    "print(\"De waarde van x is:\", x)\n",
    "\n",
    "#converteren tussen verschillende datatypes\n",
    "xAlsInt = int(x); print(xAlsInt); print(type(xAlsInt))\n",
    "\n",
    "xAlsFloat = float(x); print(xAlsFloat); print(type(xAlsFloat))\n",
    "\n",
    "print(\"Dit is het datatype van x momenteel:\", type(str(xAlsFloat)))\n",
    "\n",
    "#int() , float(), str() "
   ]
  },
  {
   "cell_type": "markdown",
   "metadata": {},
   "source": [
    "## Combineren van outputs --> concatenatie\n",
    "- '+' --> 2 strings combineren, of 2 getallen optellen/ belangrijk: je moet wel een spatie zelf toevoegen en alle onderdelen moeten strings zijn.\n",
    "- ',' --> zorgt automatisch voor een spatie en geeft de kans om verschillende datatypes samen te voegen zonder te hoeven converteren."
   ]
  },
  {
   "cell_type": "code",
   "execution_count": null,
   "metadata": {},
   "outputs": [
    {
     "name": "stdout",
     "output_type": "stream",
     "text": [
      "Het getal is 5\n",
      "Het getal is toch 5\n",
      "10\n",
      "55\n",
      "10\n"
     ]
    }
   ],
   "source": [
    "getal = 5\n",
    "print(\"Het getal is\", getal)\n",
    "print(\"Het getal is toch \" + str(getal))\n",
    "print(getal + getal)\n",
    "print(str(getal) + str(getal)) #55\n",
    "print(str(getal + getal)) #10"
   ]
  },
  {
   "cell_type": "markdown",
   "metadata": {},
   "source": [
    "## Expressions\n",
    "### Rekenkundige operatoren"
   ]
  },
  {
   "cell_type": "code",
   "execution_count": null,
   "metadata": {},
   "outputs": [],
   "source": [
    "x = 15\n",
    "y = 8\n",
    "\n",
    "#let hier duidelijk op het verschil tussen hoe je print en hoe je waarden wil weergeven\n",
    "print(x,y)\n",
    "print(x + y)\n",
    "\n",
    "#in 1 lijn variabelen meegeven, moet niet zelfde datatype zijn, volgorde wel belangrijk\n",
    "x,y = 10,3\n",
    "\n",
    "print(x + y) #13\n",
    "print(x - y) #7\n",
    "print(x * y) #30\n",
    "print(x / y) #3.3333\n",
    "print(x // y) #gehele deling: eerste getal opdelen in gelijke groepen van 2e getal --> 3\n",
    "print(x % y) #rest NA gehele deling --> 1\n",
    "print(x**y) #1000 --> pow() is ook een functie die hierbij werkt"
   ]
  },
  {
   "cell_type": "markdown",
   "metadata": {},
   "source": [
    "### Assignment operators / compound operators"
   ]
  },
  {
   "cell_type": "code",
   "execution_count": null,
   "metadata": {},
   "outputs": [
    {
     "name": "stdout",
     "output_type": "stream",
     "text": [
      "13 <class 'int'>\n",
      "10 <class 'int'>\n",
      "30 <class 'int'>\n",
      "10.0 <class 'float'>\n",
      "3.0 <class 'float'>\n",
      "1 <class 'int'>\n",
      "1000 <class 'int'>\n",
      "1001\n"
     ]
    }
   ],
   "source": [
    "x,y = 10,3\n",
    "\n",
    "x += y; print(x, type(x)) #13 --> x = x + y\n",
    "x -= y; print(x, type(x)) #10 --> x = x - y\n",
    "x *= y; print(x, type(x)) #30\n",
    "x /= y; print(x, type(x)) #10.0 --> deling tussen 2 gehele getallen resulteert altijd in een kommagetal (float)\n",
    "x //= y; print(x, type(x)) #3.0\n",
    "\n",
    "x = 10\n",
    "x %= y; print(x, type(x))\n",
    "\n",
    "x = 10\n",
    "x **= y; print(x, type(x))\n",
    "\n",
    "x+=1\n",
    "print(x)"
   ]
  },
  {
   "cell_type": "markdown",
   "metadata": {},
   "source": [
    "### Vergelijkingsoperatoren (Comparison operators)"
   ]
  },
  {
   "cell_type": "code",
   "execution_count": null,
   "metadata": {},
   "outputs": [
    {
     "name": "stdout",
     "output_type": "stream",
     "text": [
      "False\n",
      "False\n",
      "True\n",
      "True\n",
      "True\n",
      "False\n"
     ]
    }
   ],
   "source": [
    "x,y = 10,3\n",
    "print(x < y)\n",
    "print(x > y)\n",
    "print(x <= y)\n",
    "print(x >= y)\n",
    "print(x == y)\n",
    "print(x != y)"
   ]
  },
  {
   "cell_type": "markdown",
   "metadata": {},
   "source": [
    "### Pyhton built in functies\n",
    "https://www.w3schools.com/python/python_ref_string.asp\n",
    "https://www.w3schools.com/python/python_ref_functions.asp\n",
    "\n",
    "functies voor strings (link 1) en standaard built in functies (link 2)"
   ]
  },
  {
   "cell_type": "code",
   "execution_count": 49,
   "metadata": {},
   "outputs": [
    {
     "name": "stdout",
     "output_type": "stream",
     "text": [
      "Beetje tekst\n",
      "beetje tekst\n",
      "BEETJE TEKST\n",
      "b33tj3 t3kst\n",
      "5.123575481\n",
      "-5.1236\n"
     ]
    }
   ],
   "source": [
    "tekst = \"beetje tekst\"\n",
    "print(tekst.capitalize()) #Alles wordt lowercase, behalve 1e letter\n",
    "print(tekst.lower())\n",
    "print(tekst.upper())\n",
    "print(tekst.replace(\"e\", \"3\")) #vervangt IEDER character dat wordt opgegeven (alle e's)\n",
    "\n",
    "x = -5.123575481\n",
    "print(abs(x))\n",
    "print(round(x,4))"
   ]
  },
  {
   "cell_type": "markdown",
   "metadata": {},
   "source": [
    "## Conditional statements (voorwaardelijke statement)\n",
    "--> IF-structure\n",
    "0 is even --> https://www.bbc.com/news/magazine-20559052\n"
   ]
  },
  {
   "cell_type": "code",
   "execution_count": null,
   "metadata": {},
   "outputs": [
    {
     "name": "stdout",
     "output_type": "stream",
     "text": [
      "0 is nul\n",
      "0 is nul\n",
      "0 is even\n"
     ]
    }
   ],
   "source": [
    "#Zoek of een getal positief, negatief of 0 is\n",
    "getal = int(input())\n",
    "\n",
    "if getal > 0:\n",
    "    print(getal, \"is positief\")\n",
    "elif getal < 0:\n",
    "    print(getal, \"is negatief\")\n",
    "else:\n",
    "    print(getal, \"is nul\")\n",
    "\n",
    "\n",
    "#andere implementatie\n",
    "if getal == 0:\n",
    "    print(getal, \"is nul\")\n",
    "elif getal < 0: \n",
    "    print(getal, \"is negatief\")\n",
    "else:\n",
    "    print(getal, \"is positef\")\n",
    "\n",
    "\n",
    "#checken of getal even of oneven is\n",
    "if getal % 2 == 0:\n",
    "    print(getal, \"is even\")\n",
    "else:\n",
    "    print(getal, \"is oneven\")"
   ]
  },
  {
   "cell_type": "markdown",
   "metadata": {},
   "source": [
    "### Aantal oefeningen op if-statements\n",
    "- Schrijf een if-statement dat checkt of een persoon legaal mag gaan stemmen, gebaseerd op de geboortejaar van de persoon (legaal stemmen voor alles --> 18) --> check NU of persoon legaal kan stemmen, zoja --> \"Je mag gaan stemmen\" /// anders: \"Je mag niet gaan stemmen\"\n",
    "- Schrijf een if-statement dat checkt of een string leeg is. --> \"string is leeg\" of \"string is niet leeg\"\n",
    "- Schrijf een if-statement dat een password checker is --> minstens 8 characters en zowel letters als cijfers --> \"Wachtwoord is veilig\" of \"Wachtwoord is NIET veilig\"\n"
   ]
  },
  {
   "cell_type": "code",
   "execution_count": 60,
   "metadata": {},
   "outputs": [
    {
     "name": "stdout",
     "output_type": "stream",
     "text": [
      "Je mag gaan stemmen\n"
     ]
    }
   ],
   "source": [
    "#oef 1 --> legaal stemmen checker\n",
    "from datetime import datetime as dt\n",
    "\n",
    "geboortejaar = int(input(\"Geef een geboortejaar: \"))\n",
    "leeftijd = dt.now().year - geboortejaar\n",
    "\n",
    "if leeftijd >= 18:\n",
    "    print(\"Je mag gaan stemmen\")\n",
    "else:\n",
    "    print(\"Je mag niet gaan stemmen\")"
   ]
  },
  {
   "cell_type": "code",
   "execution_count": null,
   "metadata": {},
   "outputs": [
    {
     "name": "stdout",
     "output_type": "stream",
     "text": [
      "string is niet leeg\n"
     ]
    }
   ],
   "source": [
    "#oef 2 --> lege string checker\n",
    "string = input(\"Geef iets of niets: \")\n",
    "\n",
    "\n",
    "#ook mogelijk --> len(string) == 0 /// string == \"\"\n",
    "if not string:\n",
    "    print(\"string is leeg\")\n",
    "else:\n",
    "    print(\"string is niet leeg\")"
   ]
  },
  {
   "cell_type": "code",
   "execution_count": 66,
   "metadata": {},
   "outputs": [
    {
     "name": "stdout",
     "output_type": "stream",
     "text": [
      "Wachtwoord is niet veilig\n"
     ]
    }
   ],
   "source": [
    "#oef 3 --> wachtwoord checker (>= 8 chars, letters en cijfers)\n",
    "charcheck = input(\"Geef mij een wachtwoord: \")\n",
    "\n",
    "if len(charcheck) >= 8 and any(char.isdigit() for char in charcheck) and any(char.isalpha() for char in charcheck):\n",
    "    print(\"Wachtwoord is veilig\")\n",
    "else:\n",
    "    print(\"Wachtwoord is niet veilig\")\n"
   ]
  },
  {
   "cell_type": "markdown",
   "metadata": {},
   "source": [
    "## Loops\n",
    "- <b>for-loop</b>: loopen over een sequentie of een range, je weet exact hoeveel keer je loopt.\n",
    "- **while-loop**: loopen zolang aan een bepaalde voorwaarde wordt voldaan. Geen idee hoeveel keer op voorhand."
   ]
  },
  {
   "cell_type": "code",
   "execution_count": null,
   "metadata": {},
   "outputs": [],
   "source": [
    "#een woord is ook een sesuentie --> een sequentie of opeenvolging van characters\n",
    "\n",
    "for c in \"een woord\":\n",
    "    print(c)\n",
    "\n",
    "for c in \"een woord\":\n",
    "    print(c,end=\"\") #end weglaten uit print() --> standaard \\n voor nieuwe lijn \n",
    "    #// indien wel ingevuld, opgegeven char na c\n"
   ]
  },
  {
   "cell_type": "code",
   "execution_count": 78,
   "metadata": {},
   "outputs": [
    {
     "name": "stdout",
     "output_type": "stream",
     "text": [
      "-5-4-3-2-101234\n",
      "5 * 0 = 0\n",
      "5 * 1 = 5\n",
      "5 * 2 = 10\n",
      "5 * 3 = 15\n",
      "5 * 4 = 20\n",
      "5 * 5 = 25\n",
      "5 * 6 = 30\n",
      "5 * 7 = 35\n",
      "5 * 8 = 40\n",
      "5 * 9 = 45\n",
      "5 * 10 = 50\n"
     ]
    }
   ],
   "source": [
    "for x in range(-5,5): #5 als bovengrens wordt niet mee geprint\n",
    "    print(x, end=\"\")\n",
    "\n",
    "print()\n",
    "for x in range(0,11):\n",
    "    print(\"5 *\", x, \"=\", x * 5)"
   ]
  },
  {
   "cell_type": "code",
   "execution_count": null,
   "metadata": {},
   "outputs": [
    {
     "name": "stdout",
     "output_type": "stream",
     "text": [
      "8\n",
      "Tien\n",
      "help\n",
      "ik\n",
      "stop\n"
     ]
    }
   ],
   "source": [
    "waarde = input(\"Geef iets in, stopt pas bij 'STOP'\")\n",
    "\n",
    "while waarde != \"STOP\":\n",
    "    print(waarde)\n",
    "    waarde = input(\"Geef iets in, stopt pas bij 'STOP'\")\n"
   ]
  },
  {
   "cell_type": "code",
   "execution_count": 82,
   "metadata": {},
   "outputs": [
    {
     "name": "stdout",
     "output_type": "stream",
     "text": [
      "25 125 625 3125 15625 \n",
      "5 25 125 625 3125 \n"
     ]
    }
   ],
   "source": [
    "x = 5\n",
    "while x <= 10000:\n",
    "    x *= 5\n",
    "    print(x, end=\" \")\n",
    "print()\n",
    "\n",
    "x = 5\n",
    "while x <= 10000:\n",
    "    print(x, end=\" \")\n",
    "    x *= 5\n",
    "print()\n"
   ]
  },
  {
   "cell_type": "markdown",
   "metadata": {},
   "source": [
    "## Voorwaarden combineren\n",
    "- **and**: beide moeten kloppen\n",
    "- **or**: minstens 1 voorwaarde moet kloppen\n",
    "- **not**: omgekeerde van voorwaarde"
   ]
  },
  {
   "cell_type": "code",
   "execution_count": null,
   "metadata": {},
   "outputs": [
    {
     "name": "stdout",
     "output_type": "stream",
     "text": [
      "True\n",
      "True\n",
      "False\n",
      "False\n",
      "False\n",
      "True\n",
      "True\n",
      "False\n"
     ]
    }
   ],
   "source": [
    "x,y,z = 1,2,3\n",
    "\n",
    "print(x < y and y < z) #True\n",
    "print(x < y or y < z) #True\n",
    "print(x > y or y > z) #False\n",
    "print(x > y and y > z) #False\n",
    "print(x < y and y > z) #False\n",
    "print(x < y or y > z) #True\n",
    "print(not(x < y and y > z)) #True\n",
    "print(not(x < y or y > z)) #False"
   ]
  },
  {
   "cell_type": "markdown",
   "metadata": {},
   "source": [
    "### Nog enkele oefeningen op LOOPS\n",
    "- Oef 1: FizzBuzz: Getallen printen van 1 --> 100, veelvoud van 3 --> Fizz, veelvoud van 5 --> Buzz, Beide? --> FizzBuzz"
   ]
  },
  {
   "cell_type": "code",
   "execution_count": 93,
   "metadata": {},
   "outputs": [
    {
     "name": "stdout",
     "output_type": "stream",
     "text": [
      "1\n",
      "2\n",
      "Fizz\n",
      "4\n",
      "Buzz\n",
      "Fizz\n",
      "7\n",
      "8\n",
      "Fizz\n",
      "Buzz\n",
      "11\n",
      "Fizz\n",
      "13\n",
      "14\n",
      "FizzBuzz\n",
      "16\n",
      "17\n",
      "Fizz\n",
      "19\n",
      "Buzz\n",
      "Fizz\n",
      "22\n",
      "23\n",
      "Fizz\n",
      "Buzz\n",
      "26\n",
      "Fizz\n",
      "28\n",
      "29\n",
      "FizzBuzz\n",
      "31\n",
      "32\n",
      "Fizz\n",
      "34\n",
      "Buzz\n",
      "Fizz\n",
      "37\n",
      "38\n",
      "Fizz\n",
      "Buzz\n",
      "41\n",
      "Fizz\n",
      "43\n",
      "44\n",
      "FizzBuzz\n",
      "46\n",
      "47\n",
      "Fizz\n",
      "49\n",
      "Buzz\n",
      "Fizz\n",
      "52\n",
      "53\n",
      "Fizz\n",
      "Buzz\n",
      "56\n",
      "Fizz\n",
      "58\n",
      "59\n",
      "FizzBuzz\n",
      "61\n",
      "62\n",
      "Fizz\n",
      "64\n",
      "Buzz\n",
      "Fizz\n",
      "67\n",
      "68\n",
      "Fizz\n",
      "Buzz\n",
      "71\n",
      "Fizz\n",
      "73\n",
      "74\n",
      "FizzBuzz\n",
      "76\n",
      "77\n",
      "Fizz\n",
      "79\n",
      "Buzz\n",
      "Fizz\n",
      "82\n",
      "83\n",
      "Fizz\n",
      "Buzz\n",
      "86\n",
      "Fizz\n",
      "88\n",
      "89\n",
      "FizzBuzz\n",
      "91\n",
      "92\n",
      "Fizz\n",
      "94\n",
      "Buzz\n",
      "Fizz\n",
      "97\n",
      "98\n",
      "Fizz\n",
      "Buzz\n"
     ]
    }
   ],
   "source": [
    "for x in range(1, 101):\n",
    "    if x % 3 == 0 and x % 5 == 0:\n",
    "        print(\"FizzBuzz\")\n",
    "    elif x % 3 == 0:\n",
    "        print(\"Fizz\")\n",
    "    elif x % 5 == 0:\n",
    "        print(\"Buzz\")\n",
    "    else:\n",
    "        print(x)\n"
   ]
  }
 ],
 "metadata": {
  "kernelspec": {
   "display_name": "Python 3",
   "language": "python",
   "name": "python3"
  },
  "language_info": {
   "codemirror_mode": {
    "name": "ipython",
    "version": 3
   },
   "file_extension": ".py",
   "mimetype": "text/x-python",
   "name": "python",
   "nbconvert_exporter": "python",
   "pygments_lexer": "ipython3",
   "version": "3.12.4"
  }
 },
 "nbformat": 4,
 "nbformat_minor": 2
}
