{
 "cells": [
  {
   "cell_type": "markdown",
   "metadata": {},
   "source": [
    "# Python Basics Week 1: class of 13/02"
   ]
  },
  {
   "cell_type": "code",
   "execution_count": 1,
   "metadata": {},
   "outputs": [
    {
     "name": "stdout",
     "output_type": "stream",
     "text": [
      "Hello, world!\n"
     ]
    }
   ],
   "source": [
    "print(\"Hello, world!\")"
   ]
  },
  {
   "cell_type": "markdown",
   "metadata": {},
   "source": [
    "## Input & output\n",
    "Conversion between types\n",
    "- int --> integer or a whole number\n",
    "- float --> decimal numbers\n",
    "- str --> string = text!"
   ]
  },
  {
   "cell_type": "code",
   "execution_count": null,
   "metadata": {},
   "outputs": [],
   "source": [
    "#find the sign of x\n",
    "x = input(\"Give me a number: \")\n",
    "print(x)\n",
    "print(type(x))\n",
    "\n",
    "#converting from one datatype to the other\n",
    "intNumber = int(x)\n",
    "print(intNumber)\n",
    "print(type(intNumber))\n",
    "\n",
    "floatNumber = float(x)\n",
    "print(floatNumber)\n",
    "print(type(floatNumber))\n",
    "\n",
    "#you can also convert to a string\n",
    "testnumber = float(intNumber)\n",
    "print(testnumber)\n",
    "print(\"The datatype of testnumber is:\", type(str(testnumber)))\n"
   ]
  },
  {
   "cell_type": "markdown",
   "metadata": {},
   "source": [
    "## Combining outputs --> Concatenation\n",
    "- '+' --> combining 2 strings or adding 2 numbers together. Keep in mind that you have to provide a space and all parts have to be strings\n",
    "- ',' --> it provides a space for you and allows the use of different datatypes."
   ]
  },
  {
   "cell_type": "code",
   "execution_count": 14,
   "metadata": {},
   "outputs": [
    {
     "name": "stdout",
     "output_type": "stream",
     "text": [
      "The number is 5\n",
      "10\n",
      "The number is 5\n",
      "55\n",
      "10\n"
     ]
    }
   ],
   "source": [
    "number = 5\n",
    "print(\"The number is\", number)\n",
    "\n",
    "print(number + number) #10\n",
    "print(\"The number is \" + str(number))\n",
    "#print(\"The number is \" + number) --> error, because impossible to concatenate int and string\n",
    "\n",
    "print(str(number) + str(number)) #55\n",
    "print(str(number + number)) #10"
   ]
  },
  {
   "cell_type": "markdown",
   "metadata": {},
   "source": [
    "## Expressions\n",
    "### Arithmetic operators"
   ]
  },
  {
   "cell_type": "code",
   "execution_count": null,
   "metadata": {},
   "outputs": [
    {
     "name": "stdout",
     "output_type": "stream",
     "text": [
      "15 8\n",
      "23\n",
      "13\n",
      "7\n",
      "30\n",
      "3.3333333333333335\n",
      "3\n",
      "1\n"
     ]
    }
   ],
   "source": [
    "x = 15\n",
    "y = 8\n",
    "\n",
    "#BEWARE: especially of how you print multiple numbers\n",
    "print(x,y)\n",
    "print(x + y)\n",
    "\n",
    "#if you want to assign multiple variables at once:\n",
    "x,y = 10,3\n",
    "\n",
    "print(x + y) #13\n",
    "print(x - y) #7\n",
    "print(x * y) #30\n",
    "print(x / y) #3.3333333\n",
    "print(x // y) #3 --> Whole division --> divide x in equal groups of y without the remainder\n",
    "print(x % y) #1 --> remainder AFTER whole division\n",
    "print(x ** y) #1000 \n"
   ]
  },
  {
   "cell_type": "markdown",
   "metadata": {},
   "source": [
    "## Assignment operators --> compound operators"
   ]
  },
  {
   "cell_type": "code",
   "execution_count": null,
   "metadata": {},
   "outputs": [],
   "source": [
    "x,y = 10,3\n",
    "\n",
    "x += y; print(x, type(x)) #13\n",
    "x -= y; print(x, type(x)) #10\n",
    "x *= y; print(x, type(x)) #30\n",
    "x /= y; print(x, type(x)) #10.0 --> any division always results in a float\n",
    "x //= y; print(x, type(x)) #3.0\n",
    "\n",
    "x = 10\n",
    "x %= y; print(x, type(x)) #1\n",
    "\n",
    "x = 10\n",
    "x **= y; print(x, type(x)) #1000\n",
    "\n",
    "#x++ --> doesn't exist or work\n",
    "x+=1 #--> the way to add 1 or any number to a specific variable to increment."
   ]
  },
  {
   "cell_type": "markdown",
   "metadata": {},
   "source": [
    "### Comparison operators"
   ]
  },
  {
   "cell_type": "code",
   "execution_count": 35,
   "metadata": {},
   "outputs": [
    {
     "name": "stdout",
     "output_type": "stream",
     "text": [
      "False\n",
      "False\n",
      "True\n",
      "True\n",
      "True\n",
      "False\n"
     ]
    }
   ],
   "source": [
    "x, y = 5,5.0\n",
    "print(x > y)\n",
    "print(x < y)\n",
    "print(x >= y)\n",
    "print(x <= y)\n",
    "print(x == y)\n",
    "print(x != y)"
   ]
  },
  {
   "cell_type": "markdown",
   "metadata": {},
   "source": [
    "### Python built in functions\n",
    "https://www.w3schools.com/python/python_ref_functions.asp\n",
    "https://www.w3schools.com/python/python_ref_string.asp"
   ]
  },
  {
   "cell_type": "code",
   "execution_count": null,
   "metadata": {},
   "outputs": [
    {
     "name": "stdout",
     "output_type": "stream",
     "text": [
      "Some text\n",
      "some text\n",
      "SOME TEXT\n",
      "SOME BexB\n",
      "5.746789654213\n",
      "-5.7468\n"
     ]
    }
   ],
   "source": [
    "text = \"SOME text\"\n",
    "print(text.capitalize())\n",
    "print(text.lower())\n",
    "print(text.upper())\n",
    "print(text.replace(\"t\",\"B\")) #replaces every occurence\n",
    "\n",
    "x = -5.746789654213\n",
    "print(abs(x))\n",
    "print(round(x,4)) #can also round the full number print(round(x))"
   ]
  },
  {
   "cell_type": "markdown",
   "metadata": {},
   "source": [
    "## Conditional statements\n",
    "if-statement\n",
    "zero is even!\n",
    "https://www.bbc.com/news/magazine-20559052\n"
   ]
  },
  {
   "cell_type": "code",
   "execution_count": 55,
   "metadata": {},
   "outputs": [
    {
     "name": "stdout",
     "output_type": "stream",
     "text": [
      "-78 is negative\n",
      "-78 is negative\n",
      "-78 is even\n"
     ]
    }
   ],
   "source": [
    "#find the sign of a number\n",
    "number = int(input())\n",
    "\n",
    "if number > 0:\n",
    "    print(number, \"is positive\")\n",
    "elif number < 0:\n",
    "    print(number, \"is negative\")\n",
    "else:\n",
    "    print(number, \"is zero\")\n",
    "\n",
    "\n",
    "#another implementation\n",
    "if number == 0:\n",
    "    print(number, \"is zero\")\n",
    "else:\n",
    "    if number < 0:\n",
    "        print(number, \"is negative\")\n",
    "    else:\n",
    "        print(number, \"is positive\")\n",
    "\n",
    "\n",
    "#check if number is even or odd\n",
    "if number % 2 == 0:\n",
    "    print(number, \"is even\")\n",
    "else:\n",
    "    print(number, \"is odd\")\n",
    "\n"
   ]
  },
  {
   "cell_type": "markdown",
   "metadata": {},
   "source": [
    "### some exercises on conditional statements\n",
    "- Write an if-statement that checks whether or not you're of legal age to vote --> You have to be 18 // Input needs to be year of birth. Output: \"You are allowed to vote\" or \"You are not allowed to vote\"\n",
    "- Write an if-statement to check if a string is empty: output --> \"String is empty\" or \"String is not empty\"\n",
    "- Write an if-statement that's a password checker! Requirements: += 8 characters / has to contain both numbers and letters // output: \"The password is secure\" or \"The password is NOT secure\"."
   ]
  },
  {
   "cell_type": "code",
   "execution_count": 60,
   "metadata": {},
   "outputs": [
    {
     "name": "stdout",
     "output_type": "stream",
     "text": [
      "You are not allowed to vote\n"
     ]
    }
   ],
   "source": [
    "#ex 1\n",
    "from datetime import datetime as dt\n",
    "birthyear = int(input(\"Provide a year of birth: \"))\n",
    "age = dt.now().year - birthyear\n",
    "\n",
    "if age >= 18:\n",
    "    print(\"You are allowed to vote\")\n",
    "else:\n",
    "    print(\"You are not allowed to vote\")"
   ]
  },
  {
   "cell_type": "code",
   "execution_count": null,
   "metadata": {},
   "outputs": [],
   "source": [
    "#ex 2\n",
    "stringCheck = input(\"Give me a string or not: \")\n",
    "if not stringCheck:\n",
    "    print(\"The string is empty\")\n",
    "else:\n",
    "    print(\"The string is not empty\")"
   ]
  },
  {
   "cell_type": "code",
   "execution_count": null,
   "metadata": {},
   "outputs": [],
   "source": [
    "#ex 3\n",
    "charCheck = input(\"Give me a password: \")\n",
    "if len(charCheck) >= 8 and any(c.isdigit() for c in charCheck) and any(c.isalpha() for c in charCheck):\n",
    "    print(\"The password is secure\")\n",
    "else:\n",
    "    print(\"The password is not secure\")"
   ]
  },
  {
   "cell_type": "markdown",
   "metadata": {},
   "source": [
    "## Loops\n",
    "- **for-loop**: for iterating over a sequence or a range, you know exactly how many times you need to loop.\n",
    "- **while-loop**: looping as long as a condition returns true, you don't know how many times you need to loop."
   ]
  },
  {
   "cell_type": "code",
   "execution_count": 70,
   "metadata": {},
   "outputs": [
    {
     "name": "stdout",
     "output_type": "stream",
     "text": [
      "a\n",
      " \n",
      "w\n",
      "o\n",
      "r\n",
      "d\n",
      "\n",
      "a word\n",
      "-5\n",
      "-4\n",
      "-3\n",
      "-2\n",
      "-1\n",
      "0\n",
      "1\n",
      "2\n",
      "3\n",
      "4\n",
      "7 * 0 = 0\n",
      "7 * 1 = 7\n",
      "7 * 2 = 14\n",
      "7 * 3 = 21\n",
      "7 * 4 = 28\n",
      "7 * 5 = 35\n",
      "7 * 6 = 42\n",
      "7 * 7 = 49\n",
      "7 * 8 = 56\n",
      "7 * 9 = 63\n",
      "7 * 10 = 70\n"
     ]
    }
   ],
   "source": [
    "#a word is also a sequence, it's a sequence of characters\n",
    "\n",
    "for c in \"a word\":\n",
    "    print(c) \n",
    "\n",
    "print()\n",
    "\n",
    "for c in \"a word\":\n",
    "    print(c, end=\"\") #adds nothing behind each character, but different from not including it --> if end not included = \\n\n",
    "\n",
    "print()\n",
    "for x in range(-5,5):\n",
    "    print(x)\n",
    "\n",
    "for x in range(0, 11):\n",
    "    print(\"7 *\", x, \"=\", x * 7)"
   ]
  },
  {
   "cell_type": "code",
   "execution_count": 75,
   "metadata": {},
   "outputs": [
    {
     "name": "stdout",
     "output_type": "stream",
     "text": [
      "25 125 625 3125 15625 \n",
      "5 25 125 625 3125 "
     ]
    }
   ],
   "source": [
    "value = input(\"Enter something, stops with 'STOP'\")\n",
    "while value != \"STOP\":\n",
    "    print(value)\n",
    "    value = input(\"Enter something, stops with 'STOP'\")\n",
    "\n",
    "x = 5\n",
    "while x <= 10000:\n",
    "    x *= 5\n",
    "    print(x, end = \" \")\n",
    "\n",
    "print()\n",
    "x = 5\n",
    "while x <= 10000:\n",
    "    print(x, end=\" \")\n",
    "    x *= 5"
   ]
  },
  {
   "cell_type": "markdown",
   "metadata": {},
   "source": [
    "## Combining conditions\n",
    "- **and**: both conditions need to be true\n",
    "- **or**: at least one condition needs to be true\n",
    "- **not**: reverse of a given condition"
   ]
  },
  {
   "cell_type": "code",
   "execution_count": 80,
   "metadata": {},
   "outputs": [
    {
     "name": "stdout",
     "output_type": "stream",
     "text": [
      "True\n",
      "True\n",
      "False\n",
      "False\n",
      "True\n",
      "False\n"
     ]
    }
   ],
   "source": [
    "x,y,z = 1,2,3\n",
    "print(x < y and y < z) #True\n",
    "print(x < y or y < z) #True\n",
    "print(x > y or y > z) #False\n",
    "print(x > y and y > z) #False\n",
    "print(not(x < y and y > z)) #True\n",
    "print(not (x < y or y > z)) #False\n"
   ]
  },
  {
   "cell_type": "code",
   "execution_count": 81,
   "metadata": {},
   "outputs": [
    {
     "name": "stdout",
     "output_type": "stream",
     "text": [
      "1\n",
      "2\n",
      "Fizz\n",
      "4\n",
      "Buzz\n",
      "Fizz\n",
      "7\n",
      "8\n",
      "Fizz\n",
      "Buzz\n",
      "11\n",
      "Fizz\n",
      "13\n",
      "14\n",
      "FizzBuzz\n",
      "16\n",
      "17\n",
      "Fizz\n",
      "19\n",
      "Buzz\n",
      "Fizz\n",
      "22\n",
      "23\n",
      "Fizz\n",
      "Buzz\n",
      "26\n",
      "Fizz\n",
      "28\n",
      "29\n",
      "FizzBuzz\n",
      "31\n",
      "32\n",
      "Fizz\n",
      "34\n",
      "Buzz\n",
      "Fizz\n",
      "37\n",
      "38\n",
      "Fizz\n",
      "Buzz\n",
      "41\n",
      "Fizz\n",
      "43\n",
      "44\n",
      "FizzBuzz\n",
      "46\n",
      "47\n",
      "Fizz\n",
      "49\n",
      "Buzz\n",
      "Fizz\n",
      "52\n",
      "53\n",
      "Fizz\n",
      "Buzz\n",
      "56\n",
      "Fizz\n",
      "58\n",
      "59\n",
      "FizzBuzz\n",
      "61\n",
      "62\n",
      "Fizz\n",
      "64\n",
      "Buzz\n",
      "Fizz\n",
      "67\n",
      "68\n",
      "Fizz\n",
      "Buzz\n",
      "71\n",
      "Fizz\n",
      "73\n",
      "74\n",
      "FizzBuzz\n",
      "76\n",
      "77\n",
      "Fizz\n",
      "79\n",
      "Buzz\n",
      "Fizz\n",
      "82\n",
      "83\n",
      "Fizz\n",
      "Buzz\n",
      "86\n",
      "Fizz\n",
      "88\n",
      "89\n",
      "FizzBuzz\n",
      "91\n",
      "92\n",
      "Fizz\n",
      "94\n",
      "Buzz\n",
      "Fizz\n",
      "97\n",
      "98\n",
      "Fizz\n",
      "Buzz\n"
     ]
    }
   ],
   "source": [
    "#FizzBuzz: write a program that prints the numbers from 1 - 100\n",
    "#For multiples of 3, print \"Fizz\" instead of the number, multiples of 5, print \"Buzz\" instead of the number\n",
    "#Multiples of both: \"FizzBuzz\", in all other cases print the number.\n",
    "\n",
    "for x in range(1,101):\n",
    "    if x % 3 == 0 and x % 5 == 0:\n",
    "        print(\"FizzBuzz\")\n",
    "    elif x % 3 == 0:\n",
    "        print(\"Fizz\")\n",
    "    elif x % 5 == 0:\n",
    "        print(\"Buzz\")\n",
    "    else:\n",
    "        print(x)"
   ]
  }
 ],
 "metadata": {
  "kernelspec": {
   "display_name": "Python 3",
   "language": "python",
   "name": "python3"
  },
  "language_info": {
   "codemirror_mode": {
    "name": "ipython",
    "version": 3
   },
   "file_extension": ".py",
   "mimetype": "text/x-python",
   "name": "python",
   "nbconvert_exporter": "python",
   "pygments_lexer": "ipython3",
   "version": "3.12.4"
  }
 },
 "nbformat": 4,
 "nbformat_minor": 2
}
