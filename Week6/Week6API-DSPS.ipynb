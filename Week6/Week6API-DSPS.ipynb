{
 "cells": [
  {
   "cell_type": "markdown",
   "metadata": {},
   "source": [
    "# Class of week 6 - API's\n",
    "- What are API's?\n",
    "- JSON <> XML\n",
    "- The Fun Stuff\n",
    "\n",
    "## Recap of files (continueing)\n",
    "- Zip-files\n"
   ]
  },
  {
   "cell_type": "code",
   "execution_count": 6,
   "metadata": {},
   "outputs": [
    {
     "name": "stdout",
     "output_type": "stream",
     "text": [
      "C:\\Users\\antho\\OneDrive\\Documenten\\Anthony-TM\\Scripting\\Scripting-Students-24-sem2\\Week6\n"
     ]
    }
   ],
   "source": [
    "import zipfile, os\n",
    "\n",
    "os.chdir(r\"C:\\Users\\antho\\OneDrive\\Documenten\\Anthony-TM\\Scripting\\Scripting-Students-24-sem2\\Week6\\Files\")\n",
    "file = zipfile.ZipFile(\"zipfile.zip\", \"w\")\n",
    "file.write(\"e-mail.txt\")\n",
    "file.write(\"countries.csv\")\n",
    "file.write(\"dictionary.txt\")\n",
    "file.write(\"HarryPotter.zip\")\n",
    "file.close()\n",
    "\n",
    "file = zipfile.ZipFile(\"HarryPotter.zip\", \"r\")\n",
    "file.extractall()\n",
    "file.close()\n",
    "\n",
    "#change back directory to the original folder with the week 6 jupyter notebook\n",
    "os.chdir(r\"C:\\Users\\antho\\OneDrive\\Documenten\\Anthony-TM\\Scripting\\Scripting-Students-24-sem2\\Week6\")\n"
   ]
  },
  {
   "cell_type": "markdown",
   "metadata": {},
   "source": [
    "## Recap ex for files\n",
    "download logbook.txt from canvas, read through it and group the activities per month as a dictionary\n",
    "- 2021-03-09 13:13:40 - Started work on project E\n",
    "- 2021-01-05 13:22:18 - Began coding on project B\n",
    "- 2020-09-18 16:49:34 - Reviewed code on project B\n",
    "- 2022-11-14 16:17:50 - Started work on project D\n",
    "- ...\n",
    "\n",
    "OUTPUT:<br>\n",
    "January: 70 activities <br>\n",
    "February: 75 activities <br>\n",
    "March: 88 activities <br>\n",
    "..."
   ]
  },
  {
   "cell_type": "code",
   "execution_count": 2,
   "metadata": {},
   "outputs": [
    {
     "name": "stdout",
     "output_type": "stream",
     "text": [
      "January: 70 activities\n",
      "February: 75 activities\n",
      "March: 88 activities\n",
      "April: 72 activities\n",
      "May: 94 activities\n",
      "June: 91 activities\n",
      "July: 87 activities\n",
      "August: 89 activities\n",
      "September: 87 activities\n",
      "October: 74 activities\n",
      "November: 85 activities\n",
      "December: 88 activities\n"
     ]
    }
   ],
   "source": [
    "months = [\"January\", \"February\", \"March\", \"April\", \"May\", \"June\", \"July\", \"August\", \"September\", \"October\", \"November\", \"December\"]\n",
    "\n",
    "activities = {}\n",
    "\n",
    "with open(\"logbook.txt\", \"r\") as file:\n",
    "    for line in file.readlines():\n",
    "        month = int(line.split(\"-\")[1]) - 1\n",
    "        monthInString = months[month]\n",
    "\n",
    "        if monthInString in activities.keys():\n",
    "            activities[monthInString] += 1\n",
    "        else:\n",
    "            activities[monthInString] = 1\n",
    "\n",
    "for month in months:\n",
    "    print(f\"{month}: {activities[month]} activities\")\n"
   ]
  },
  {
   "cell_type": "markdown",
   "metadata": {},
   "source": [
    "## JSON vs XML \n",
    "JSON: text based file format used for storing and transmitting data, typically between web server and a client\n",
    "nowadays this is the format for data exchange\n",
    "\n",
    "XML: More complex and requires a tag structure\n",
    "\n",
    "\n",
    "module json\n",
    "BUT always check the tree view --> makes things easier\n",
    "https://codebeautify.org/jsonviewer\n"
   ]
  },
  {
   "cell_type": "code",
   "execution_count": 11,
   "metadata": {},
   "outputs": [
    {
     "name": "stdout",
     "output_type": "stream",
     "text": [
      "Anthony\n",
      "\n",
      "Eloquent JavaScript, Second Edition\n",
      "{'books': [{'isbn': '9781593275846', 'title': 'Eloquent JavaScript, Second Edition', 'subtitle': 'A Modern Introduction to Programming', 'author': 'Marijn Haverbeke', 'published': '2014-12-14T00:00:00.000Z', 'publisher': 'No Starch Press', 'pages': 472, 'description': 'JavaScript lies at the heart of almost every modern web application, from social apps to the newest browser-based games. Though simple for beginners to pick up and play with, JavaScript is a flexible, complex language that you can use to build full-scale applications.', 'website': 'http://eloquentjavascript.net/'}, {'isbn': '9781449331818', 'title': 'Learning JavaScript Design Patterns', 'subtitle': \"A JavaScript and jQuery Developer's Guide\", 'author': 'Addy Osmani', 'published': '2012-07-01T00:00:00.000Z', 'publisher': \"O'Reilly Media\", 'pages': 254, 'description': \"With Learning JavaScript Design Patterns, you'll learn how to write beautiful, structured, and maintainable JavaScript by applying classical and modern design patterns to the language. If you want to keep your code efficient, more manageable, and up-to-date with the latest best practices, this book is for you.\", 'website': 'http://www.addyosmani.com/resources/essentialjsdesignpatterns/book/'}, {'isbn': '9781449365035', 'title': 'Speaking JavaScript', 'subtitle': 'An In-Depth Guide for Programmers', 'author': 'Axel Rauschmayer', 'published': '2014-02-01T00:00:00.000Z', 'publisher': \"O'Reilly Media\", 'pages': 460, 'description': 'Like it or not, JavaScript is everywhere these days-from browser to server to mobile-and now you, too, need to learn the language or dive deeper than you have. This concise book guides you into and through JavaScript, written by a veteran programmer who once found himself in the same position.', 'website': 'http://speakingjs.com/'}, {'isbn': '9781491950296', 'title': 'Programming JavaScript Applications', 'subtitle': 'Robust Web Architecture with Node, HTML5, and Modern JS Libraries', 'author': 'Eric Elliott', 'published': '2014-07-01T00:00:00.000Z', 'publisher': \"O'Reilly Media\", 'pages': 254, 'description': \"Take advantage of JavaScript's power to build robust web-scale or enterprise applications that are easy to extend and maintain. By applying the design patterns outlined in this practical book, experienced JavaScript developers will learn how to write flexible and resilient code that's easier-yes, easier-to work with as your code base grows.\", 'website': 'http://chimera.labs.oreilly.com/books/1234000000262/index.html'}, {'isbn': '9781593277574', 'title': 'Understanding ECMAScript 6', 'subtitle': 'The Definitive Guide for JavaScript Developers', 'author': 'Nicholas C. Zakas', 'published': '2016-09-03T00:00:00.000Z', 'publisher': 'No Starch Press', 'pages': 352, 'description': 'ECMAScript 6 represents the biggest update to the core of JavaScript in the history of the language. In Understanding ECMAScript 6, expert developer Nicholas C. Zakas provides a complete guide to the object types, syntax, and other exciting changes that ECMAScript 6 brings to JavaScript.', 'website': 'https://leanpub.com/understandinges6/read'}, {'isbn': '9781491904244', 'title': \"You Don't Know JS\", 'subtitle': 'ES6 & Beyond', 'author': 'Kyle Simpson', 'published': '2015-12-27T00:00:00.000Z', 'publisher': \"O'Reilly Media\", 'pages': 278, 'description': 'No matter how much experience you have with JavaScript, odds are you donâ€™t fully understand the language. As part of the \"You Donâ€™t Know JS\" series, this compact guide focuses on new features available in ECMAScript 6 (ES6), the latest version of the standard upon which JavaScript is built.', 'website': 'https://github.com/getify/You-Dont-Know-JS/tree/master/es6%20&%20beyond'}, {'isbn': '9781449325862', 'title': 'Git Pocket Guide', 'subtitle': 'A Working Introduction', 'author': 'Richard E. Silverman', 'published': '2013-08-02T00:00:00.000Z', 'publisher': \"O'Reilly Media\", 'pages': 234, 'description': 'This pocket guide is the perfect on-the-job companion to Git, the distributed version control system. It provides a compact, readable introduction to Git for new users, as well as a reference to common commands and procedures for those of you with Git experience.', 'website': 'http://chimera.labs.oreilly.com/books/1230000000561/index.html'}, {'isbn': '9781449337711', 'title': 'Designing Evolvable Web APIs with ASP.NET', 'subtitle': 'Harnessing the Power of the Web', 'author': 'Glenn Block, et al.', 'published': '2014-04-07T00:00:00.000Z', 'publisher': \"O'Reilly Media\", 'pages': 538, 'description': 'Design and build Web APIs for a broad range of clientsâ€”including browsers and mobile devicesâ€”that can adapt to change over time. This practical, hands-on guide takes you through the theory and tools you need to build evolvable HTTP services with Microsoftâ€™s ASP.NET Web API framework. In the process, youâ€™ll learn how design and implement a real-world Web API.', 'website': 'http://chimera.labs.oreilly.com/books/1234000001708/index.html'}]}\n",
      "\n",
      "Eloquent JavaScript, Second Edition\n",
      "Learning JavaScript Design Patterns\n",
      "Speaking JavaScript\n",
      "Programming JavaScript Applications\n",
      "Understanding ECMAScript 6\n",
      "You Don't Know JS\n",
      "Git Pocket Guide\n",
      "Designing Evolvable Web APIs with ASP.NET\n"
     ]
    }
   ],
   "source": [
    "import json\n",
    "\n",
    "json_data = '{\"name\":\"Anthony\", \"age\":29, \"study\":\"computer science\"}'\n",
    "data = json.loads(json_data) #string load\n",
    "print(data[\"name\"]) \n",
    "\n",
    "json_file = open(\"books.json\", \"r\")\n",
    "data = json.loads(json_file.read())\n",
    "print()\n",
    "print(data[\"books\"][0][\"title\"])\n",
    "print(data) #all of your json code in one line (use codebeautify to organise it)\n",
    "print()\n",
    "\n",
    "for book in data[\"books\"]:\n",
    "    print(book[\"title\"])\n",
    "\n",
    "json_file.close()\n",
    "\n"
   ]
  },
  {
   "cell_type": "code",
   "execution_count": null,
   "metadata": {},
   "outputs": [],
   "source": [
    "#dumping data into a file\n",
    "import json\n",
    "\n",
    "json_file = open(\"activities.json\", \"w\")\n",
    "json.dump(activities, json_file) #converts all python data into json\n",
    "json_file.close()"
   ]
  },
  {
   "cell_type": "code",
   "execution_count": 18,
   "metadata": {},
   "outputs": [
    {
     "name": "stdout",
     "output_type": "stream",
     "text": [
      "{'people': [{'name': 'Jason Statham', 'age': '57'}, {'name': 'Jason Mamoa', 'age': '45'}, {'name': 'Jason Bourne (Matt Damon)', 'age': '50+'}, {'name': 'Jennifer Lawrence', 'age': '34'}, {'name': 'Jennifer Robertson', 'age': '53'}, {'name': 'Jennifer Lopez', 'age': '55'}, {'name': 'Jennifer Aniston', 'age': '56'}]}\n"
     ]
    }
   ],
   "source": [
    "import json\n",
    "\n",
    "python_data = {}\n",
    "\n",
    "python_data[\"people\"] = []\n",
    "python_data[\"people\"].append({'name':'Jason Statham', 'age': '57'})\n",
    "python_data[\"people\"].append({'name':'Jason Mamoa', 'age': '45'})\n",
    "python_data[\"people\"].append({'name':'Jason Bourne (Matt Damon)', 'age': '50+'})\n",
    "python_data[\"people\"].append({'name':'Jennifer Lawrence', 'age': '34'})\n",
    "python_data[\"people\"].append({'name':'Jennifer Robertson', 'age': '53'})\n",
    "python_data[\"people\"].append({'name':'Jennifer Lopez', 'age': '55'})\n",
    "python_data[\"people\"].append({'name':'Jennifer Aniston', 'age': '56'})\n",
    "\n",
    "json_file = open('jj.json', 'w')\n",
    "json_data = json.dump(python_data, json_file)\n",
    "json_file.close()\n",
    "\n",
    "print(python_data)"
   ]
  },
  {
   "cell_type": "markdown",
   "metadata": {},
   "source": [
    "## Consuming API's\n",
    "Making a request --> pip install requests\n",
    "Make an account on rapidapi.com\n",
    "\n",
    "API's:\n",
    "- Kanye rest\n",
    "- dad jokes \n",
    "- pirate speak\n",
    "- love calculator\n",
    "- text translator\n",
    "- weather\n",
    "- random cat facts"
   ]
  },
  {
   "cell_type": "code",
   "execution_count": null,
   "metadata": {},
   "outputs": [],
   "source": [
    "! pip install requests"
   ]
  },
  {
   "cell_type": "code",
   "execution_count": null,
   "metadata": {},
   "outputs": [],
   "source": [
    "import json, requests\n",
    "\n",
    "url = \"https://api.kanye.rest/\"\n",
    "response = requests.get(url)\n",
    "print(response.status_code)\n",
    "\n",
    "text = response.text\n",
    "\n",
    "data = json.loads(text)\n",
    "print(f\"from text: {text} \\nto json: {data[\"quote\"]}\")\n",
    "\n",
    "print()\n",
    "data = response.json()\n",
    "print(data[\"quote\"])"
   ]
  },
  {
   "cell_type": "code",
   "execution_count": 45,
   "metadata": {},
   "outputs": [
    {
     "name": "stdout",
     "output_type": "stream",
     "text": [
      "Justice is a dish best served cold. If it were served warm, it would be justwater.\n"
     ]
    }
   ],
   "source": [
    "import requests\n",
    "\n",
    "url = \"https://dad-jokes-by-api-ninjas.p.rapidapi.com/v1/dadjokes\"\n",
    "\n",
    "headers = {\n",
    "\t\"x-rapidapi-key\": \"fd6f435c07msh3de62319fcfa275p143e5cjsn4293d86a9f09\",\n",
    "\t\"x-rapidapi-host\": \"dad-jokes-by-api-ninjas.p.rapidapi.com\"\n",
    "}\n",
    "\n",
    "response = requests.get(url, headers=headers)\n",
    "data = response.json()[0]\n",
    "print(data[\"joke\"])"
   ]
  },
  {
   "cell_type": "code",
   "execution_count": 4,
   "metadata": {},
   "outputs": [
    {
     "name": "stdout",
     "output_type": "stream",
     "text": [
      "Me name be Adventurous Anthony\n"
     ]
    }
   ],
   "source": [
    "import requests, json\n",
    "\n",
    "sentence = input()\n",
    "url = f\"https://pirate.monkeyness.com/api/translate?english={sentence}\"\n",
    "response = requests.get(url)\n",
    "print(response.text)"
   ]
  }
 ],
 "metadata": {
  "kernelspec": {
   "display_name": "Python 3",
   "language": "python",
   "name": "python3"
  },
  "language_info": {
   "codemirror_mode": {
    "name": "ipython",
    "version": 3
   },
   "file_extension": ".py",
   "mimetype": "text/x-python",
   "name": "python",
   "nbconvert_exporter": "python",
   "pygments_lexer": "ipython3",
   "version": "3.11.9"
  }
 },
 "nbformat": 4,
 "nbformat_minor": 2
}
