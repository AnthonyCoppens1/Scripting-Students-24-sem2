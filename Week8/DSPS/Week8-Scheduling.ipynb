{
 "cells": [
  {
   "cell_type": "markdown",
   "metadata": {},
   "source": [
    "# Scheduling week 8\n",
    "- (Date)time module\n",
    "- Multithreading\n",
    "- Launching programs"
   ]
  },
  {
   "cell_type": "code",
   "execution_count": null,
   "metadata": {},
   "outputs": [],
   "source": [
    "! pip install openpyxl\n",
    "! pip install pandas"
   ]
  },
  {
   "cell_type": "code",
   "execution_count": 3,
   "metadata": {},
   "outputs": [
    {
     "name": "stdout",
     "output_type": "stream",
     "text": [
      "Scraping books from page 1\n",
      "Scraping books from page 2\n",
      "Scraping books from page 3\n",
      "Scraping books from page 4\n",
      "Scraping books from page 5\n",
      "Scraping books from page 6\n",
      "Scraping books from page 7\n",
      "Scraping books from page 8\n",
      "Scraping books from page 9\n",
      "Scraping books from page 10\n",
      "Scraping books from page 11\n",
      "Scraping books from page 12\n",
      "Scraping books from page 13\n",
      "Scraping books from page 14\n",
      "Scraping books from page 15\n",
      "Scraping books from page 16\n",
      "Scraping books from page 17\n",
      "Scraping books from page 18\n",
      "Scraping books from page 19\n",
      "Scraping books from page 20\n",
      "Scraping books from page 21\n",
      "Scraping books from page 22\n",
      "Scraping books from page 23\n",
      "Scraping books from page 24\n",
      "Scraping books from page 25\n",
      "Scraping books from page 26\n",
      "Scraping books from page 27\n",
      "Scraping books from page 28\n",
      "Scraping books from page 29\n",
      "Scraping books from page 30\n",
      "Scraping books from page 31\n",
      "Scraping books from page 32\n",
      "Scraping books from page 33\n",
      "Scraping books from page 34\n",
      "Scraping books from page 35\n",
      "Scraping books from page 36\n",
      "Scraping books from page 37\n",
      "Scraping books from page 38\n",
      "Scraping books from page 39\n",
      "Scraping books from page 40\n",
      "Scraping books from page 41\n",
      "Scraping books from page 42\n",
      "Scraping books from page 43\n",
      "Scraping books from page 44\n",
      "Scraping books from page 45\n",
      "Scraping books from page 46\n",
      "Scraping books from page 47\n",
      "Scraping books from page 48\n",
      "Scraping books from page 49\n",
      "Scraping books from page 50\n",
      "<bound method NDFrame.head of                                 Title  Price\n",
      "0                  A Light in the ...  51.77\n",
      "1                  Tipping the Velvet  53.74\n",
      "2                          Soumission  50.10\n",
      "3                       Sharp Objects  47.82\n",
      "4        Sapiens: A Brief History ...  54.23\n",
      "..                                ...    ...\n",
      "995  Alice in Wonderland (Alice's ...  55.53\n",
      "996    Ajin: Demi-Human, Volume 1 ...  57.06\n",
      "997         A Spy's Devotion (The ...  16.97\n",
      "998           1st to Die (Women's ...  53.98\n",
      "999           1,000 Places to See ...  26.08\n",
      "\n",
      "[1000 rows x 2 columns]>\n"
     ]
    }
   ],
   "source": [
    "import requests\n",
    "from bs4 import BeautifulSoup\n",
    "import pandas as pd\n",
    "\n",
    "index = 0\n",
    "books = pd.DataFrame(columns=[\"Title\", \"Price\"])\n",
    "\n",
    "for page in range(1,51):\n",
    "    url = f\"https://books.toscrape.com/catalogue/page-{page}.html\"\n",
    "    response = requests.get(url)\n",
    "    soup = BeautifulSoup(response.text)\n",
    "\n",
    "    products = soup.find_all(\"article\", {\"class\": \"product_pod\"})\n",
    "    for book in products:\n",
    "        title = book.h3.text\n",
    "        price = book.find(\"p\", {\"class\": \"price_color\"}).get_text()[2:]\n",
    "        books.loc[index] = [title, price]\n",
    "        index += 1\n",
    "    print(\"Scraping books from page\", page)\n",
    "    \n",
    "books.to_excel(\"books.xlsx\")\n",
    "print(books.head)\n"
   ]
  },
  {
   "cell_type": "markdown",
   "metadata": {},
   "source": [
    "## (Date) time module\n",
    "see unix epoch time converter\n",
    "https://www.epochconverter.com/"
   ]
  },
  {
   "cell_type": "code",
   "execution_count": null,
   "metadata": {},
   "outputs": [
    {
     "name": "stdout",
     "output_type": "stream",
     "text": [
      "1743667801.9801545\n",
      "Thu Apr  3 10:10:01 2025\n",
      "Thu Jan  1 01:00:00 1970\n",
      "Fri Dec 24 02:46:40 1999\n",
      "Thu Apr  3 10:08:39 2025\n",
      "Thu Apr  3 10:10:35 2025\n"
     ]
    }
   ],
   "source": [
    "import time\n",
    "print(time.time())\n",
    "print(time.ctime())\n",
    "print(time.ctime(0)) #starting time (Jan 1 - 1970)\n",
    "print(time.ctime(946000000)) #close guess to Jan 1 2000\n",
    "print(time.ctime(1743667719))\n",
    "print(time.ctime(1743667835))"
   ]
  },
  {
   "cell_type": "markdown",
   "metadata": {},
   "source": [
    "### Exercise with time and API's\n",
    "count the number of seconds needed to consume an api\n",
    "using the facts api from api-ninjas"
   ]
  },
  {
   "cell_type": "code",
   "execution_count": 10,
   "metadata": {},
   "outputs": [
    {
     "name": "stdout",
     "output_type": "stream",
     "text": [
      "[{'fact': 'NASCAR stands for National Association for Stock Car Auto Racing'}]\n",
      "It took 0.9785723686218262 seconds to run this script!\n"
     ]
    }
   ],
   "source": [
    "import requests, time\n",
    "\n",
    "url = \"https://facts-by-api-ninjas.p.rapidapi.com/v1/facts\"\n",
    "\n",
    "headers = {\n",
    "\t\"x-rapidapi-key\": \"fd6f435c07msh3de62319fcfa275p143e5cjsn4293d86a9f09\",\n",
    "\t\"x-rapidapi-host\": \"facts-by-api-ninjas.p.rapidapi.com\"\n",
    "}\n",
    "start = time.time()\n",
    "response = requests.get(url, headers=headers)\n",
    "\n",
    "print(response.json())\n",
    "stop = time.time()\n",
    "seconds = stop - start\n",
    "print(f\"It took {seconds} seconds to run this script!\")"
   ]
  },
  {
   "cell_type": "code",
   "execution_count": null,
   "metadata": {},
   "outputs": [],
   "source": [
    "! pip install pygame"
   ]
  },
  {
   "cell_type": "code",
   "execution_count": null,
   "metadata": {},
   "outputs": [],
   "source": [
    "# BIG COUNTDOWN TO NY EVE\n",
    "import time, winsound, pygame\n",
    "\n",
    "for countdown in range(0, 10):\n",
    "    winsound.Beep(500,300)\n",
    "    time.sleep(1)\n",
    "\n",
    "pygame.mixer.init()\n",
    "pygame.mixer.music.load(\"fireworks.mp3\")\n",
    "pygame.mixer.music.play()\n",
    "while pygame.mixer.music.get_busy() == True:\n",
    "    continue\n",
    "\n",
    "pygame.mixer.music.load(\"KATY.mp3\")\n",
    "pygame.mixer.music.play()\n",
    "while pygame.mixer.music.get_busy() == True:\n",
    "    continue\n"
   ]
  },
  {
   "cell_type": "code",
   "execution_count": null,
   "metadata": {},
   "outputs": [
    {
     "name": "stdout",
     "output_type": "stream",
     "text": [
      "2025-04-03 10:43:49.035452\n",
      "2000-05-10 00:00:00\n",
      "2000 5 10 0 0 0\n",
      "1970-01-01 03:46:40\n",
      "2025-04-03 10:10:01.980155\n",
      "2025-04-03 10:43:49.035452\n",
      "2025-04-03 10:43:49\n",
      "10 May 00\n",
      "day 131 of 2000\n",
      "04 February 03\n"
     ]
    }
   ],
   "source": [
    "# Working with date formats\n",
    "import datetime as dt\n",
    "\n",
    "print(dt.datetime.now())\n",
    "date = dt.datetime(2000,5,10,0,0,0)\n",
    "print(date)\n",
    "\n",
    "print(date.year, date.month, date.day, date.hour, date.minute, date.second)\n",
    "print(dt.datetime.fromtimestamp(10000))\n",
    "print(dt.datetime.fromtimestamp(1743667801.9801545))\n",
    "\n",
    "print(dt.datetime.fromtimestamp(time.time()))\n",
    "print(dt.datetime.fromtimestamp(round(time.time(),0)))\n",
    "\n",
    "#from datetime to a string --> strftime()\n",
    "# --> https://www.programiz.com/python-programming/datetime/strftime\n",
    "print(date.strftime(\"%d %B %y\"))\n",
    "print(date.strftime(\"day %j of %Y\"))\n",
    "\n",
    "date += dt.timedelta(days = 1000)\n",
    "print(date.strftime(\"%d %B %y\"))\n",
    "#usually we use timedelta to calculate differences in time.\n"
   ]
  },
  {
   "cell_type": "markdown",
   "metadata": {},
   "source": [
    "## Multithreading\n",
    "Python default program runs everything single-threaded --> one at a time\n",
    "A multithreaded program can execute multiple things at the same time"
   ]
  },
  {
   "cell_type": "code",
   "execution_count": null,
   "metadata": {},
   "outputs": [],
   "source": [
    "import time\n",
    "def sleep():\n",
    "    time.sleep(5)\n",
    "    print(\"WAKE UP!!!\")\n",
    "\n",
    "def multiplication(number):\n",
    "    for i in range(0,10):\n",
    "        print(i, \"* number = \", i * number)"
   ]
  },
  {
   "cell_type": "code",
   "execution_count": 29,
   "metadata": {},
   "outputs": [
    {
     "name": "stdout",
     "output_type": "stream",
     "text": [
      "START\n",
      "WAKE UP!!!\n",
      "0 * number =  0\n",
      "1 * number =  5\n",
      "2 * number =  10\n",
      "3 * number =  15\n",
      "4 * number =  20\n",
      "5 * number =  25\n",
      "6 * number =  30\n",
      "7 * number =  35\n",
      "8 * number =  40\n",
      "9 * number =  45\n",
      "STOP\n"
     ]
    }
   ],
   "source": [
    "#SINGLE THREADING\n",
    "\n",
    "print(\"START\")\n",
    "sleep()\n",
    "multiplication(5)\n",
    "print(\"STOP\")"
   ]
  },
  {
   "cell_type": "code",
   "execution_count": 31,
   "metadata": {},
   "outputs": [
    {
     "name": "stdout",
     "output_type": "stream",
     "text": [
      "0 * number =  0\n",
      "1 * number =  5\n",
      "2 * number =  10\n",
      "3 * number =  15\n",
      "4 * number =  20\n",
      "5 * number =  25\n",
      "6 * number =  30\n",
      "7 * number =  35\n",
      "8 * number =  40\n",
      "9 * number =  45\n",
      "START\n",
      "STOP\n"
     ]
    },
    {
     "name": "stdout",
     "output_type": "stream",
     "text": [
      "WAKE UP!!!\n"
     ]
    }
   ],
   "source": [
    "#MULTITHREADING\n",
    "import threading\n",
    "\n",
    "threadSleep = threading.Thread(target=sleep)\n",
    "threadMulti = threading.Thread(target=multiplication(5))\n",
    "\n",
    "print(\"START\")\n",
    "threadSleep.start()\n",
    "threadMulti.start()\n",
    "print(\"STOP\")"
   ]
  },
  {
   "cell_type": "markdown",
   "metadata": {},
   "source": [
    "### Exercise\n",
    "write a program that performs the following steps\n",
    "\n",
    "create 2 functions --> function1() and function2()\n",
    "- function1() --> printing the number 1 through 10 with a delay of 0.5 seconds after each number\n",
    "- function2() --> printing the letters A through J with a delay of 0.5 seconds after each letter\n",
    "- create 2 threads, one for each\n",
    "- wait for both to finish before exiting the program"
   ]
  },
  {
   "cell_type": "code",
   "execution_count": null,
   "metadata": {},
   "outputs": [
    {
     "name": "stdout",
     "output_type": "stream",
     "text": [
      "START\n",
      "1 A 2 B 3 C 4 D 5E  F 6 G 7 H 8 I 9 J 10 STOP\n"
     ]
    }
   ],
   "source": [
    "import time, threading\n",
    "\n",
    "def function1():\n",
    "    for i in range(1,11):\n",
    "        print(i, end=\" \")\n",
    "        time.sleep(0.5)\n",
    "\n",
    "def function2():\n",
    "    for char in \"ABCDEFGHIJ\":\n",
    "        print(char, end = \" \")\n",
    "        time.sleep(0.5)\n",
    "\n",
    "thread1 = threading.Thread(target=function1)\n",
    "thread2 = threading.Thread(target=function2)\n",
    "\n",
    "print(\"START\")\n",
    "thread1.start()\n",
    "thread2.start()\n",
    "thread1.join()\n",
    "thread2.join()\n",
    "print(\"STOP\")\n",
    "\n",
    "#CAREFUL --> strange output\n",
    "#This principle is what we call concurrency --> effect of multithreading in combination with sleep().count\n",
    "#can be split but performance will be worse."
   ]
  },
  {
   "cell_type": "markdown",
   "metadata": {},
   "source": [
    "### Launching files in default apps\n",
    "open --> macOS<br>\n",
    "start --> Windows<br>\n",
    "see --> Linux<br>"
   ]
  },
  {
   "cell_type": "code",
   "execution_count": 39,
   "metadata": {},
   "outputs": [
    {
     "data": {
      "text/plain": [
       "<Popen: returncode: None args: ['start', 'file.txt']>"
      ]
     },
     "execution_count": 39,
     "metadata": {},
     "output_type": "execute_result"
    }
   ],
   "source": [
    "import subprocess\n",
    "\n",
    "file = open(\"file.txt\", \"w\")\n",
    "file.write(\"Hello world\")\n",
    "file.close()\n",
    "\n",
    "subprocess.Popen(['start', 'file.txt'],shell=True)"
   ]
  },
  {
   "cell_type": "code",
   "execution_count": 45,
   "metadata": {},
   "outputs": [
    {
     "data": {
      "text/plain": [
       "<Popen: returncode: None args: 'C:\\\\Program Files\\\\Microsoft Office\\\\root\\\\O...>"
      ]
     },
     "execution_count": 45,
     "metadata": {},
     "output_type": "execute_result"
    }
   ],
   "source": [
    "import subprocess\n",
    "\n",
    "subprocess.Popen(['start', \"https://google.be\"], shell=True)\n",
    "subprocess.Popen(['start', \"KATY.mp3\"], shell=True)\n",
    "\n",
    "subprocess.Popen(\"calc.exe\")\n",
    "subprocess.Popen(r\"C:\\Program Files\\Microsoft Office\\root\\Office16\\WINWORD.EXE\")"
   ]
  }
 ],
 "metadata": {
  "kernelspec": {
   "display_name": "Python 3",
   "language": "python",
   "name": "python3"
  },
  "language_info": {
   "codemirror_mode": {
    "name": "ipython",
    "version": 3
   },
   "file_extension": ".py",
   "mimetype": "text/x-python",
   "name": "python",
   "nbconvert_exporter": "python",
   "pygments_lexer": "ipython3",
   "version": "3.12.4"
  }
 },
 "nbformat": 4,
 "nbformat_minor": 2
}
