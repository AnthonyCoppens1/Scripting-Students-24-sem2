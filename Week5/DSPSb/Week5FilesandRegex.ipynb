{
 "cells": [
  {
   "cell_type": "markdown",
   "metadata": {},
   "source": [
    "# Week 5 - Files and Regex\n",
    "## Regex\n",
    "\n",
    "You have a piece of text and detect the following structures:\n",
    "- all strings in which numbers are surrounded by alphabetical chars (h3llo)\n",
    "- all strings that exist only out of vowels\n",
    "- all strings that exist only out of consonants\n",
    "- all strings that exist out of the letters from LOREM --> moerl, lorem, remol, lerom, ...\n",
    "- all strings that exist out of the letters from a given word (input)\n",
    "\n",
    "import re\n",
    "list = re.findall(regex, text)\n",
    "regex = r\"...\"\n"
   ]
  },
  {
   "cell_type": "code",
   "execution_count": 8,
   "metadata": {},
   "outputs": [
    {
     "name": "stdout",
     "output_type": "stream",
     "text": [
      "['meow', 'weom', 'omew']\n"
     ]
    }
   ],
   "source": [
    "import re\n",
    "\n",
    "text = \"\"\"Lrm psm d'lr sit amet, consectetur adipiscing elit. Integer et odio consequat, eleifend eros vulputate, \n",
    "pellent+esque ex. Lorem ipsum dolor sit mt, consectetur adipiscing elit. Praesent hendrerit ex eget neque \n",
    "varius commodo. Mauris meow aliquam, mauris pr'!t ullamcorper weom dapibus, velit metus hendrerit lacus, at viverra massa \n",
    "arcu eu metus. Pellentesque tincidunt mi enim, at vestibulum nulla eleifend vitae. Mauris nec hendrerit nunc. \n",
    "Curabitur massa libero, omew iaculis id nisi sit amet, ornare maximus diam. Vestibulum maximus lacus non erat pretium, \n",
    "sed feugiat dui laoreet. Lorem ipsum dolor sit amet, consectetur adipiscing elit. Class aptent taciti sociosqu ad \n",
    "litora torquent per conubia nostra, per inceptos himenaeos. Fusce justo magna, faucibus vitae turpis et, egestas \n",
    "pharetra est. Ut bibendum interdum malesuada. Aliquam tempor justo ac nisl lobortis tempus.\"\"\"\n",
    "\n",
    "letters = input()\n",
    "regex = rf\"\\b[{letters}{letters.upper()}]{{{len(letters)}}}\\b\"\n",
    "list = re.findall(regex, text)\n",
    "print(list)"
   ]
  },
  {
   "cell_type": "markdown",
   "metadata": {},
   "source": [
    "### Email validator\n",
    "Write a python function called validate_email\n",
    "takes in input and returns true or false for valid or not\n",
    "- email has to contain \"@\"\n",
    "- 2 parts\n",
    "- part before @ arrobas --> at least 1 char and only: letters, numbers, dots (.), hyphens (-) and underscores (_)\n",
    "- part after --> at least 2 chars and only letters, dots (.), hyphens (-)\n",
    "- cannot end in a dot (.)\n"
   ]
  },
  {
   "cell_type": "code",
   "execution_count": null,
   "metadata": {},
   "outputs": [
    {
     "name": "stdout",
     "output_type": "stream",
     "text": [
      "True\n",
      "False\n",
      "False\n",
      "False\n",
      "True\n",
      "True\n"
     ]
    }
   ],
   "source": [
    "import re\n",
    "\n",
    "def validate_email(email):\n",
    "    if \"@\" not in email:\n",
    "        return False\n",
    "    \n",
    "    parts = email.split(\"@\")\n",
    "    if len(parts) != 2:\n",
    "        return False\n",
    "    \n",
    "    regex = r\"^[\\w\\.\\-_]+$\"  #^ and $ at end cause your whole string to be treated as one. Checks for x in between everything\n",
    "    #added \\ in front of . because without it, . indicates ALL CHARS, \n",
    "    #same goes for other meaning of -\n",
    "    if re.match(regex, parts[0]) is None:\n",
    "        return False\n",
    "    \n",
    "    regex = r\"[A-z\\.\\-]{2,}\"\n",
    "    if re.match(regex, parts[1]) is None:\n",
    "        return False\n",
    "    \n",
    "    if email[-1] == \".\":\n",
    "        return False\n",
    "    \n",
    "    return True\n",
    "\n",
    "print(validate_email(\"anthony.coppens@thomasmore-be\"))\n",
    "print(validate_email(\"anthony.coppens@thomasmore@be\"))\n",
    "print(validate_email(\"anthony.coppens@thomasmore.be.\"))\n",
    "print(validate_email(\"anthony coppens@thomasmore.be\"))\n",
    "print(validate_email(\"anthony.coppens@thomasmore.be\"))\n",
    "print(validate_email(\"antho234_-6ny.coppens@thomasmore.be\"))\n",
    "\n"
   ]
  },
  {
   "cell_type": "markdown",
   "metadata": {},
   "source": [
    "# Files and folders: os and pathlib"
   ]
  },
  {
   "cell_type": "code",
   "execution_count": null,
   "metadata": {},
   "outputs": [
    {
     "name": "stdout",
     "output_type": "stream",
     "text": [
      "c:\\Users\\antho\\OneDrive\\Documenten\\Anthony-TM\\Scripting\\Scripting-Students-24-sem2\\Week5\\DSPSb\n",
      "<class 'str'>\n",
      "c:\\Users\\antho\\OneDrive\\Documenten\\Anthony-TM\\Scripting\\Scripting-Students-24-sem2\\Week5\\DSPSb\n",
      "<class 'pathlib.WindowsPath'>\n",
      "\n",
      "Filename:  calc.exe\n",
      "Name:  calc\n",
      "Extension:  .exe\n",
      "Parent dir:  C:\\Windows\\System32\n",
      "True\n",
      "True\n",
      "C:\\Users\\antho\n",
      "C:\\Users\\antho\\test\n",
      "C:\\Users\\antho/test\n",
      "c:\\Users\\antho\\OneDrive\\Documenten\\Anthony-TM\\Scripting\\Scripting-Students-24-sem2\\Week5\\DSPSb\\Files\\e-mail.txt\n",
      "c:\\Users\\antho\\OneDrive\\Documenten\\Anthony-TM\\Scripting\\Scripting-Students-24-sem2\\Week5\\DSPSb\\Files\\e-mail.txt\n"
     ]
    }
   ],
   "source": [
    "import os, pathlib\n",
    "\n",
    "print(os.getcwd()) #current working directory\n",
    "print(type(os.getcwd()))\n",
    "print(pathlib.Path.cwd())\n",
    "print(type(pathlib.Path.cwd()))\n",
    "print()\n",
    "\n",
    "calc = pathlib.Path(r\"C:\\Windows\\System32\\calc.exe\")\n",
    "print(\"Filename: \", calc.name)\n",
    "print(\"Name: \", calc.stem)\n",
    "print(\"Extension: \", calc.suffix)\n",
    "print(\"Parent dir: \", calc.parent)\n",
    "print(calc.is_file())\n",
    "print(calc.exists())\n",
    "\n",
    "print(pathlib.Path.home())\n",
    "\n",
    "#working with strings\n",
    "print(str(pathlib.Path.home()) + \"\\\\\" + \"test\") #WINDOWS\n",
    "print(str(pathlib.Path.home()) + \"/\" + \"test\") #MACOS and LINUX\n",
    "\n",
    "pathToEmail = os.getcwd() + r\"\\Files\\e-mail.txt\"\n",
    "print(pathToEmail)\n",
    "\n",
    "pathToEmail = pathlib.Path.cwd()/\"Files/e-mail.txt\"\n",
    "print(pathToEmail)"
   ]
  },
  {
   "cell_type": "markdown",
   "metadata": {},
   "source": [
    "### directory walkthrough"
   ]
  },
  {
   "cell_type": "code",
   "execution_count": 45,
   "metadata": {},
   "outputs": [
    {
     "name": "stdout",
     "output_type": "stream",
     "text": [
      "The current folder is: c:\\Users\\antho\\OneDrive\\Documenten\\Anthony-TM\\Scripting\\Scripting-Students-24-sem2\\Week5\\DSPSb\n",
      "Subfolder of c:\\Users\\antho\\OneDrive\\Documenten\\Anthony-TM\\Scripting\\Scripting-Students-24-sem2\\Week5\\DSPSb: Files\n",
      "Subfolder of c:\\Users\\antho\\OneDrive\\Documenten\\Anthony-TM\\Scripting\\Scripting-Students-24-sem2\\Week5\\DSPSb: RandomStuff\n",
      "File inside of c:\\Users\\antho\\OneDrive\\Documenten\\Anthony-TM\\Scripting\\Scripting-Students-24-sem2\\Week5\\DSPSb: Week5FilesandRegex.ipynb\n",
      "---\n",
      "The current folder is: c:\\Users\\antho\\OneDrive\\Documenten\\Anthony-TM\\Scripting\\Scripting-Students-24-sem2\\Week5\\DSPSb\\Files\n",
      "File inside of c:\\Users\\antho\\OneDrive\\Documenten\\Anthony-TM\\Scripting\\Scripting-Students-24-sem2\\Week5\\DSPSb\\Files: countries.csv\n",
      "File inside of c:\\Users\\antho\\OneDrive\\Documenten\\Anthony-TM\\Scripting\\Scripting-Students-24-sem2\\Week5\\DSPSb\\Files: dictionary.txt\n",
      "File inside of c:\\Users\\antho\\OneDrive\\Documenten\\Anthony-TM\\Scripting\\Scripting-Students-24-sem2\\Week5\\DSPSb\\Files: e-mail.txt\n",
      "File inside of c:\\Users\\antho\\OneDrive\\Documenten\\Anthony-TM\\Scripting\\Scripting-Students-24-sem2\\Week5\\DSPSb\\Files: HarryPotter.zip\n",
      "---\n",
      "The current folder is: c:\\Users\\antho\\OneDrive\\Documenten\\Anthony-TM\\Scripting\\Scripting-Students-24-sem2\\Week5\\DSPSb\\RandomStuff\n",
      "File inside of c:\\Users\\antho\\OneDrive\\Documenten\\Anthony-TM\\Scripting\\Scripting-Students-24-sem2\\Week5\\DSPSb\\RandomStuff: RARARIRI.txt\n",
      "---\n"
     ]
    }
   ],
   "source": [
    "import os\n",
    "from pathlib import Path\n",
    "\n",
    "path = r\"c:\\Users\\antho\\OneDrive\\Documenten\\Anthony-TM\\Scripting\\Scripting-Students-24-sem2\\Week5\\DSPSb\"\n",
    "#path = os.chdir(Path.cwd())\n",
    "for folderName, subfolders, fileNames in os.walk(path):\n",
    "    print(f\"The current folder is: {folderName}\")\n",
    "\n",
    "    for subfolder in subfolders:\n",
    "        print(f\"Subfolder of {folderName}: {subfolder}\")\n",
    "\n",
    "    for file in fileNames:\n",
    "        print(f\"File inside of {folderName}: {file}\")\n",
    "    \n",
    "    print(\"---\")"
   ]
  },
  {
   "cell_type": "code",
   "execution_count": 47,
   "metadata": {},
   "outputs": [
    {
     "name": "stdout",
     "output_type": "stream",
     "text": [
      "c:\\Users\\antho\\OneDrive\\Documenten\\Anthony-TM\\Scripting\\Scripting-Students-24-sem2\\Week5\\DSPSb\\Files\\dictionary.txt\n",
      "c:\\Users\\antho\\OneDrive\\Documenten\\Anthony-TM\\Scripting\\Scripting-Students-24-sem2\\Week5\\DSPSb\\Files\\e-mail.txt\n"
     ]
    }
   ],
   "source": [
    "#looking for a file in a path\n",
    "from pathlib import Path\n",
    "path = r\"c:\\Users\\antho\\OneDrive\\Documenten\\Anthony-TM\\Scripting\\Scripting-Students-24-sem2\\Week5\\DSPSb\\Files\"\n",
    "path_object = Path(path)\n",
    "\n",
    "for file in path_object.glob(\"*.txt\"):\n",
    "    print(file)"
   ]
  },
  {
   "cell_type": "markdown",
   "metadata": {},
   "source": [
    "## Writing files"
   ]
  },
  {
   "cell_type": "code",
   "execution_count": 51,
   "metadata": {},
   "outputs": [
    {
     "name": "stdout",
     "output_type": "stream",
     "text": [
      "c:\\Users\\antho\\OneDrive\\Documenten\\Anthony-TM\\Scripting\\Scripting-Students-24-sem2\\Week5\\DSPSb\n"
     ]
    }
   ],
   "source": [
    "import os\n",
    "print(os.getcwd())\n",
    "\n",
    "#creating and writing\n",
    "file = open(\"test.txt\", \"w\") #indicates that we start writing\n",
    "file.write(\"test\")\n",
    "file.write(\"I have no idea\")\n",
    "file.write(\"\\n\")\n",
    "file.write(\"HELP\")\n",
    "file.close()\n",
    "\n",
    "file = open(\"test.txt\", \"a\")\n",
    "file.write(\"CHECK\")\n",
    "file.close()\n"
   ]
  },
  {
   "cell_type": "markdown",
   "metadata": {},
   "source": [
    "## Reading from a file"
   ]
  },
  {
   "cell_type": "code",
   "execution_count": null,
   "metadata": {},
   "outputs": [
    {
     "name": "stdout",
     "output_type": "stream",
     "text": [
      "testI have no idea\n",
      "HELPCHECK\n",
      "\n",
      "testI have no idea\n",
      "HELPCHECK\n"
     ]
    }
   ],
   "source": [
    "#way 1\n",
    "file = open(\"test.txt\", \"r\")\n",
    "print(file.read())\n",
    "file.close()\n",
    "\n",
    "#way 2\n",
    "print()\n",
    "with open(\"test.txt\", \"r\") as file:\n",
    "    print(file.read())\n",
    "\n",
    "\n",
    "#encoding problems? trouble reading a file?\n",
    "file = open(\"test.txt\", \"r\", encoding=\"utf-7\")\n",
    "file.close() \n",
    "\n",
    "#8-bits: US-ASCII or Latin-1\n",
    "#16-bits: UTF-16\n",
    "\n"
   ]
  },
  {
   "cell_type": "markdown",
   "metadata": {},
   "source": [
    "### Reading emails from a file\n",
    "check emails with the validate_email() function that we created earlier"
   ]
  },
  {
   "cell_type": "code",
   "execution_count": 56,
   "metadata": {},
   "outputs": [
    {
     "name": "stdout",
     "output_type": "stream",
     "text": [
      "example@example.com True\n",
      " --> True\n",
      "example@sub.domain.com True\n",
      " --> True\n",
      "example-123@sub.domain.com True\n",
      " --> True\n",
      "example123@sub.domain.com True\n",
      " --> True\n",
      "example_123@sub.domain.com True\n",
      " --> True\n",
      "example@sub-domain.com True\n",
      " --> True\n",
      "example@sub.domain False\n",
      " --> True\n",
      "example@sub. False\n",
      " --> False\n",
      "example@sub..com False\n",
      " --> True\n",
      "example@sub.domain.c False\n",
      " --> True\n",
      "example@sub-.domain.com False\n",
      " --> True\n",
      "example@sub_.domain.com False\n",
      " --> True\n",
      "example@sub.domain-.com False\n",
      " --> True\n",
      "example@sub.domain_.com False\n",
      " --> True\n"
     ]
    }
   ],
   "source": [
    "import os\n",
    "os.chdir(r\"c:\\Users\\antho\\OneDrive\\Documenten\\Anthony-TM\\Scripting\\Scripting-Students-24-sem2\\Week5\\DSPSb\\Files\")\n",
    "with open(\"e-mail.txt\", \"r\") as file:\n",
    "    for line in file.readlines():\n",
    "        parts = line.split(\";\")\n",
    "        print(parts[0], parts[1], \"-->\", validate_email(parts[0]))"
   ]
  },
  {
   "cell_type": "markdown",
   "metadata": {},
   "source": [
    "## organizing files\n",
    "creating dir, deleting files, copying, moving, ...\n",
    "work with Send2Trash --> for safe deletes"
   ]
  },
  {
   "cell_type": "code",
   "execution_count": null,
   "metadata": {},
   "outputs": [],
   "source": [
    "! pip install Send2Trash"
   ]
  },
  {
   "cell_type": "code",
   "execution_count": 63,
   "metadata": {},
   "outputs": [
    {
     "data": {
      "text/plain": [
       "'folder/bacon.txt'"
      ]
     },
     "execution_count": 63,
     "metadata": {},
     "output_type": "execute_result"
    }
   ],
   "source": [
    "import os, shutil #used to copy and move\n",
    "\n",
    "os.chdir(r\"c:\\Users\\antho\\OneDrive\\Documenten\\Anthony-TM\\Scripting\\Scripting-Students-24-sem2\\Week5\\DSPSb\")\n",
    "#os.mkdir(\"folder\") --> in comment after creation\n",
    "shutil.copy(\"test.txt\", \"folder\") #copies file to folder dir\n",
    "shutil.move(\"folder/test.txt\", \"folder/bacon.txt\") #takes contents of said file and moves them to file with new name\n",
    "#shutil.rmtree(\"folder\")\n"
   ]
  },
  {
   "cell_type": "code",
   "execution_count": null,
   "metadata": {},
   "outputs": [],
   "source": [
    "import send2trash\n",
    "file = open(\"testfile.txt\", \"w\")\n",
    "file.close()\n",
    "\n",
    "send2trash.send2trash(\"testfile.txt\")"
   ]
  }
 ],
 "metadata": {
  "kernelspec": {
   "display_name": "Python 3",
   "language": "python",
   "name": "python3"
  },
  "language_info": {
   "codemirror_mode": {
    "name": "ipython",
    "version": 3
   },
   "file_extension": ".py",
   "mimetype": "text/x-python",
   "name": "python",
   "nbconvert_exporter": "python",
   "pygments_lexer": "ipython3",
   "version": "3.12.4"
  }
 },
 "nbformat": 4,
 "nbformat_minor": 2
}
