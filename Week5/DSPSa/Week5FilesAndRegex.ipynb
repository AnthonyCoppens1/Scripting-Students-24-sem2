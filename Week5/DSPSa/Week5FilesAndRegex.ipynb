{
 "cells": [
  {
   "cell_type": "markdown",
   "metadata": {},
   "source": [
    "# Week 5 - Files and regex recap\n",
    "## Regex\n",
    "Find the regex for the following:\n",
    "- all numbers (not individual digits)\n",
    "- all numbers starting a string\n",
    "- all numbers surrounded by alphabetical chars\n",
    "- all strings containing only vowels\n",
    "- all strings containing only consonants\n",
    "- all strings consisting of the letters of lorem --> lorem, merol, moerl, ...\n",
    "- all strings consisting of the letters of a given word (input())\n",
    "\n"
   ]
  },
  {
   "cell_type": "code",
   "execution_count": null,
   "metadata": {},
   "outputs": [
    {
     "name": "stdout",
     "output_type": "stream",
     "text": [
      "['ac', 'ac']\n"
     ]
    }
   ],
   "source": [
    "import re\n",
    "\n",
    "text = \"\"\"Aliquam erat volutpat. Praesent et iaculis enim. \n",
    "Vivamus finibus mattis libero, ac elementum lacus lacinia et. \n",
    "Vestibulum ante ipsum primis in faucibus orci luctus et ultrices posuere cubilia curae; \n",
    "Proin leo velit, mattis vitae turpis a, vehicula semper ipsum. Donec luctus, \n",
    "libero sed gravida malesuada, tellus mauris ullamcorper ligula, a pretium ligula leo vel erat. \n",
    "Donec suscipit cursus dui eu scelerisque. Pellentesque sodales id ipsum et convallis. Ut blandit elit sed \n",
    "sapien mattis, faucibus convallis nunc vestibulum. Cras lacinia egestas sem, ac fermentum massa porttitor a. \n",
    "Quisque eu est lobortis nibh pellentesque fringilla vitae vel urna. \n",
    "Suspendisse a lacus nec tortor scelerisque finibus. Nulla facilisi. Nullam venenatis nisi ex, \n",
    "hendrerit vestibulum orci ornare a.\"\"\"\n",
    "\n",
    "#all other answers will follow\n",
    "\n",
    "#all words existing out of input chars\n",
    "letters = input().lower()\n",
    "regex = r\"\\b[\"+ letters + letters.upper() + r\"]{\" + str(len(letters)) + r\"}\\b\"\n",
    "list = re.findall(regex, text)\n",
    "print(list)"
   ]
  },
  {
   "cell_type": "markdown",
   "metadata": {},
   "source": [
    "### Build a email validator\n",
    "create a function called validate_email(email) return True or False\n",
    "user chooses an email\n",
    "- email must contain \"@\"\n",
    "- part before \"@\" must be at least 1 char and can contain dots . underscores _ hyphens - letters and numbers\n",
    "- part after \"@\" MORE than 1 (at least 2) and can contain dots . hyphens - and letters\n",
    "- cannot end with ."
   ]
  },
  {
   "cell_type": "code",
   "execution_count": 9,
   "metadata": {},
   "outputs": [
    {
     "name": "stdout",
     "output_type": "stream",
     "text": [
      "True\n",
      "True\n",
      "True\n",
      "False\n",
      "False\n",
      "True\n",
      "False\n"
     ]
    }
   ],
   "source": [
    "import re\n",
    "def validate_email(email):\n",
    "    if \"@\" not in email:\n",
    "        return False\n",
    "    \n",
    "    parts = email.split(\"@\")\n",
    "    if len(parts) != 2:\n",
    "        return False\n",
    "    \n",
    "    if email[-1] == \".\":\n",
    "        return False\n",
    "    \n",
    "    regex = r\"^[\\.\\-_\\w]+$\"\n",
    "    if re.match(regex, parts[0]) is None:\n",
    "        return False\n",
    "    \n",
    "    regex = r\"^[\\.\\-A-z]{2,}$\"\n",
    "    if re.match(regex, parts[1]) is None:\n",
    "        return False\n",
    "    \n",
    "    return True\n",
    "\n",
    "print(validate_email(\"anthony.coppens@thomasmore.be\"))\n",
    "print(validate_email(\"anthony.cop234876pens@thomasmore.be\"))\n",
    "print(validate_email(\"234987@thomasmore.be\"))\n",
    "print(validate_email(\"anthony.coppens@thomasm@ore.be\"))\n",
    "print(validate_email(\"anthony.coppens@thomasmore.be.\"))\n",
    "print(validate_email(\"anthony.coppens@thomasmore..be\"))\n",
    "print(validate_email(\"anthony.coppens@thoma8smore.be18\"))"
   ]
  },
  {
   "cell_type": "markdown",
   "metadata": {},
   "source": [
    "## Files\n",
    "- files and folders\n",
    "- creating\n",
    "- reading and writing\n",
    "- (de)compressing\n",
    "- reading csv-files\n",
    "- ..."
   ]
  },
  {
   "cell_type": "code",
   "execution_count": 22,
   "metadata": {},
   "outputs": [
    {
     "name": "stdout",
     "output_type": "stream",
     "text": [
      "c:\\Users\\antho\\OneDrive\\Documenten\\Anthony-TM\\Scripting\\Scripting-Students-24-sem2\\Week5\n",
      "<class 'str'>\n",
      "c:\\Users\\antho\\OneDrive\\Documenten\\Anthony-TM\\Scripting\\Scripting-Students-24-sem2\\Week5\n",
      "<class 'pathlib.WindowsPath'>\n",
      "\n",
      "Filename:  calc.exe\n",
      "Name:  calc\n",
      "Extension:  .exe\n",
      "Parent directory:  C:\\Windows\\System32\n",
      "True\n",
      "True\n",
      "C:\\Users\\antho\n",
      "C:\\Users\\antho\\test\n",
      "C:\\Users\\antho/test\n",
      "c:\\Users\\antho\\OneDrive\\Documenten\\Anthony-TM\\Scripting\\Scripting-Students-24-sem2\\Week5\\e-mail.txt\n",
      "c:\\Users\\antho\\OneDrive\\Documenten\\Anthony-TM\\Scripting\\Scripting-Students-24-sem2\\Week5\\e-mail.txt\n"
     ]
    }
   ],
   "source": [
    "#Files and folder --> os and pathlib\n",
    "\n",
    "import os\n",
    "import pathlib\n",
    "\n",
    "print(os.getcwd()) #returns a string of current working directory\n",
    "print(type(os.getcwd())) #type string\n",
    "\n",
    "print(pathlib.Path.cwd()) #returns a string of current working directory\n",
    "print(type(pathlib.Path.cwd())) #type path object\n",
    "print()\n",
    "\n",
    "calc = pathlib.Path(r\"C:\\Windows\\System32\\calc.exe\")\n",
    "print(\"Filename: \", calc.name)\n",
    "print(\"Name: \", calc.stem)\n",
    "print(\"Extension: \", calc.suffix)\n",
    "print(\"Parent directory: \", calc.parent)\n",
    "print(calc.is_file())\n",
    "print(calc.exists())\n",
    "\n",
    "print(pathlib.Path.home())\n",
    "#working with strings\n",
    "\n",
    "print(str(pathlib.Path.home()) + \"\\\\\" + \"test\") #WINDOWS\n",
    "print(str(pathlib.Path.home()) + \"/\" + \"test\") #MACOS or LINUX\n",
    "\n",
    "path_to_email_txt = os.getcwd() + r\"\\e-mail.txt\"\n",
    "print(path_to_email_txt)\n",
    "\n",
    "#working with different parts of a path --> use a /\n",
    "path_to_email_txt = pathlib.Path.cwd()/\"e-mail.txt\"\n",
    "print(path_to_email_txt)\n",
    "\n"
   ]
  },
  {
   "cell_type": "markdown",
   "metadata": {},
   "source": [
    "### Walking in the directory"
   ]
  },
  {
   "cell_type": "code",
   "execution_count": null,
   "metadata": {},
   "outputs": [
    {
     "name": "stdout",
     "output_type": "stream",
     "text": [
      "The current folder is c:\\Users\\antho\\OneDrive\\Documenten\\Anthony-TM\\Scripting\\Scripting-Students-24-sem2\\Week5\n",
      "SUBFOLDER OF c:\\Users\\antho\\OneDrive\\Documenten\\Anthony-TM\\Scripting\\Scripting-Students-24-sem2\\Week5: files\n",
      "SUBFOLDER OF c:\\Users\\antho\\OneDrive\\Documenten\\Anthony-TM\\Scripting\\Scripting-Students-24-sem2\\Week5: littlethingies\n",
      "FILE INSIDE c:\\Users\\antho\\OneDrive\\Documenten\\Anthony-TM\\Scripting\\Scripting-Students-24-sem2\\Week5: Week5FilesAndRegex.ipynb\n",
      "------------\n",
      "The current folder is c:\\Users\\antho\\OneDrive\\Documenten\\Anthony-TM\\Scripting\\Scripting-Students-24-sem2\\Week5\\files\n",
      "FILE INSIDE c:\\Users\\antho\\OneDrive\\Documenten\\Anthony-TM\\Scripting\\Scripting-Students-24-sem2\\Week5\\files: countries.csv\n",
      "FILE INSIDE c:\\Users\\antho\\OneDrive\\Documenten\\Anthony-TM\\Scripting\\Scripting-Students-24-sem2\\Week5\\files: e-mail.txt\n",
      "------------\n",
      "The current folder is c:\\Users\\antho\\OneDrive\\Documenten\\Anthony-TM\\Scripting\\Scripting-Students-24-sem2\\Week5\\littlethingies\n",
      "FILE INSIDE c:\\Users\\antho\\OneDrive\\Documenten\\Anthony-TM\\Scripting\\Scripting-Students-24-sem2\\Week5\\littlethingies: gibbergabber.txt\n",
      "------------\n"
     ]
    }
   ],
   "source": [
    "import os\n",
    "from pathlib import Path\n",
    "\n",
    "path_ = r\"c:\\Users\\antho\\OneDrive\\Documenten\\Anthony-TM\\Scripting\\Scripting-Students-24-sem2\\Week5\\DSPSa\"\n",
    "#os.chdir(Path.home()) --> change current directory to home path\n",
    "\n",
    "for folderName, subfolders, filenames in os.walk(path_):\n",
    "    print(f\"The current folder is {folderName}\")\n",
    "    for subfolder in subfolders:\n",
    "        print(f\"SUBFOLDER OF {folderName}: {subfolder}\")\n",
    "    for fileName in filenames:\n",
    "        print(f\"FILE INSIDE {folderName}: {fileName}\")\n",
    "    print(\"------------\")"
   ]
  },
  {
   "cell_type": "code",
   "execution_count": null,
   "metadata": {},
   "outputs": [
    {
     "name": "stdout",
     "output_type": "stream",
     "text": [
      "c:\\Users\\antho\\OneDrive\\Documenten\\Anthony-TM\\Scripting\\Scripting-Students-24-sem2\\Week5\\DSPSa\\littlethingies\\gibbergabber.txt\n",
      "c:\\Users\\antho\\OneDrive\\Documenten\\Anthony-TM\\Scripting\\Scripting-Students-24-sem2\\Week5\\DSPSa\\littlethingies\\hello357Anthony.txt\n",
      "\n",
      "c:\\Users\\antho\\OneDrive\\Documenten\\Anthony-TM\\Scripting\\Scripting-Students-24-sem2\\Week5\\DSPSa\\littlethingies\\hello357Anthony.txt\n"
     ]
    }
   ],
   "source": [
    "#print and search for any file in a certain path\n",
    "from pathlib import Path\n",
    "path_string = r\"c:\\Users\\antho\\OneDrive\\Documenten\\Anthony-TM\\Scripting\\Scripting-Students-24-sem2\\Week5\\DSPSa\\littlethingies\"\n",
    "path_object = Path(path_string)\n",
    "\n",
    "for file in path_object.glob(\"*.txt\"):\n",
    "    print(file)\n",
    "\n",
    "print()\n",
    "for file in path_object.glob(\"*[0-9]*\"):\n",
    "    print(file)"
   ]
  },
  {
   "cell_type": "markdown",
   "metadata": {},
   "source": [
    "## Writing to a file"
   ]
  },
  {
   "cell_type": "code",
   "execution_count": 5,
   "metadata": {},
   "outputs": [
    {
     "name": "stdout",
     "output_type": "stream",
     "text": [
      "c:\\Users\\antho\\OneDrive\\Documenten\\Anthony-TM\\Scripting\\Scripting-Students-24-sem2\\Week5\\DSPSa\\files\n",
      "c:\\Users\\antho\\OneDrive\\Documenten\\Anthony-TM\\Scripting\\Scripting-Students-24-sem2\\Week5\\DSPSa\\files\n"
     ]
    }
   ],
   "source": [
    "import os\n",
    "print(os.getcwd())\n",
    "\n",
    "os.chdir(r\"c:\\Users\\antho\\OneDrive\\Documenten\\Anthony-TM\\Scripting\\Scripting-Students-24-sem2\\Week5\\DSPSa\\files\")\n",
    "print(os.getcwd())\n",
    "\n",
    "#creating and writing if the file doesn't exist yet\n",
    "file = open(\"test.txt\", \"w\")\n",
    "file.write(\"test\")\n",
    "file.write(\"\\n\")\n",
    "file.write(\"test\")\n",
    "file.close()\n",
    "\n",
    "file = open(\"test.txt\", \"a\") #append\n",
    "file.write(\"\\nHELP\")\n",
    "file.write(\"\\n\\n another test\")\n",
    "file.close()"
   ]
  },
  {
   "cell_type": "markdown",
   "metadata": {},
   "source": [
    "## Reading from files"
   ]
  },
  {
   "cell_type": "code",
   "execution_count": null,
   "metadata": {},
   "outputs": [
    {
     "name": "stdout",
     "output_type": "stream",
     "text": [
      "c:\\Users\\antho\\OneDrive\\Documenten\\Anthony-TM\\Scripting\\Scripting-Students-24-sem2\\Week5\\DSPSa\\files\n",
      "c:\\Users\\antho\\OneDrive\\Documenten\\Anthony-TM\\Scripting\\Scripting-Students-24-sem2\\Week5\\DSPSa\\files\n",
      "\n",
      "c:\\Users\\antho\\OneDrive\\Documenten\\Anthony-TM\\Scripting\\Scripting-Students-24-sem2\\Week5\\DSPSa\\files\n",
      "test\n",
      "test\n",
      "HELP\n",
      "\n",
      " another test\n",
      "test\n",
      "test\n",
      "HELP\n",
      "\n",
      " another test\n"
     ]
    }
   ],
   "source": [
    "import os\n",
    "from pathlib import Path\n",
    "print(os.getcwd())\n",
    "print(Path.cwd())\n",
    "os.chdir(r\"c:\\Users\\antho\\OneDrive\\Documenten\\Anthony-TM\\Scripting\\Scripting-Students-24-sem2\\Week5\\DSPSa\\files\")\n",
    "print()\n",
    "print(os.getcwd())\n",
    "\n",
    "#way 1\n",
    "file = open(\"test.txt\", \"r\")\n",
    "print(file.read())\n",
    "file.close()\n",
    "\n",
    "#way 2\n",
    "with open(\"test.txt\", \"r\") as file:\n",
    "    print(file.read())\n",
    "\n",
    "#if you are having encoding problems?\n",
    "#base format: UTF-7\n",
    "#8-bit: US-ASCII or Latin-1\n",
    "#16-bit: UTF-16\n"
   ]
  },
  {
   "cell_type": "code",
   "execution_count": 30,
   "metadata": {},
   "outputs": [
    {
     "name": "stdout",
     "output_type": "stream",
     "text": [
      "example@example.com True\n",
      " OUR TEST: True\n",
      "example@sub.domain.com True\n",
      " OUR TEST: True\n",
      "example-123@sub.domain.com True\n",
      " OUR TEST: True\n",
      "example123@sub.domain.com True\n",
      " OUR TEST: True\n",
      "example_123@sub.domain.com True\n",
      " OUR TEST: True\n",
      "example@sub-domain.com True\n",
      " OUR TEST: True\n",
      "example@sub.domain False\n",
      " OUR TEST: True\n",
      "example@sub. False\n",
      " OUR TEST: False\n",
      "example@sub..com False\n",
      " OUR TEST: True\n",
      "example@sub.domain.c False\n",
      " OUR TEST: True\n",
      "example@sub-.domain.com False\n",
      " OUR TEST: True\n",
      "example@sub_.domain.com False\n",
      " OUR TEST: True\n",
      "example@sub.domain-.com False\n",
      " OUR TEST: True\n",
      "example@sub.domain_.com False\n",
      " OUR TEST: True\n"
     ]
    }
   ],
   "source": [
    "#reading through the file of emails and checking them\n",
    "with open(\"e-mail.txt\", \"r\") as file:\n",
    "    for line in file.readlines():\n",
    "        parts = line.split(\";\")\n",
    "        print(parts[0], parts[1], \"OUR TEST:\", validate_email(parts[0]))"
   ]
  },
  {
   "cell_type": "markdown",
   "metadata": {},
   "source": [
    "## organizing files\n",
    "creating directories, moving files, copying files, deleting them\n",
    "Send2Trash"
   ]
  },
  {
   "cell_type": "code",
   "execution_count": 17,
   "metadata": {},
   "outputs": [
    {
     "name": "stdout",
     "output_type": "stream",
     "text": [
      "Requirement already satisfied: Send2Trash in c:\\python312\\lib\\site-packages (1.8.3)\n"
     ]
    },
    {
     "name": "stderr",
     "output_type": "stream",
     "text": [
      "\n",
      "[notice] A new release of pip is available: 24.0 -> 25.0.1\n",
      "[notice] To update, run: python.exe -m pip install --upgrade pip\n"
     ]
    }
   ],
   "source": [
    "! pip install Send2Trash"
   ]
  },
  {
   "cell_type": "code",
   "execution_count": 27,
   "metadata": {},
   "outputs": [
    {
     "name": "stdout",
     "output_type": "stream",
     "text": [
      "c:\\Users\\antho\\OneDrive\\Documenten\\Anthony-TM\\Scripting\\Scripting-Students-24-sem2\\Week5\\DSPSa\\files\n"
     ]
    }
   ],
   "source": [
    "import os, shutil\n",
    "from send2trash import send2trash\n",
    "\n",
    "print(os.getcwd()) #beware, check where you are creating everything\n",
    "#os.mkdir(\"folder\") --> can never create folder with same name twice\n",
    "shutil.copy(\"test.txt\", \"folder\")\n",
    "shutil.move(\"folder/test.txt\", \"folder/desk.txt\") #change old file name to new with same content\n",
    "\n",
    "file = open(\"YOUCANDELETETHIS.txt\", \"w\")\n",
    "file.close()\n",
    "send2trash(\"YOUCANDELETETHIS.txt\")\n"
   ]
  }
 ],
 "metadata": {
  "kernelspec": {
   "display_name": "Python 3",
   "language": "python",
   "name": "python3"
  },
  "language_info": {
   "codemirror_mode": {
    "name": "ipython",
    "version": 3
   },
   "file_extension": ".py",
   "mimetype": "text/x-python",
   "name": "python",
   "nbconvert_exporter": "python",
   "pygments_lexer": "ipython3",
   "version": "3.12.4"
  }
 },
 "nbformat": 4,
 "nbformat_minor": 2
}
