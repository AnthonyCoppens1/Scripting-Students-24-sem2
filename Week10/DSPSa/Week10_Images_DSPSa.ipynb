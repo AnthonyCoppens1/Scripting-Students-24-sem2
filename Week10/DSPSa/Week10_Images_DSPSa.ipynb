{
 "cells": [
  {
   "cell_type": "markdown",
   "id": "1c2b8679",
   "metadata": {},
   "source": [
    "# Images week 10\n",
    "## computer images\n",
    "Pillow package"
   ]
  },
  {
   "cell_type": "code",
   "execution_count": 1,
   "id": "da795d6d",
   "metadata": {},
   "outputs": [
    {
     "name": "stdout",
     "output_type": "stream",
     "text": [
      "Requirement already satisfied: pillow in c:\\users\\antho\\appdata\\local\\packages\\pythonsoftwarefoundation.python.3.11_qbz5n2kfra8p0\\localcache\\local-packages\\python311\\site-packages (10.3.0)\n"
     ]
    },
    {
     "name": "stderr",
     "output_type": "stream",
     "text": [
      "\n",
      "[notice] A new release of pip is available: 24.0 -> 25.1\n",
      "[notice] To update, run: C:\\Users\\antho\\AppData\\Local\\Microsoft\\WindowsApps\\PythonSoftwareFoundation.Python.3.11_qbz5n2kfra8p0\\python.exe -m pip install --upgrade pip\n"
     ]
    }
   ],
   "source": [
    "! pip install pillow"
   ]
  },
  {
   "cell_type": "code",
   "execution_count": 4,
   "id": "4100e9b7",
   "metadata": {},
   "outputs": [
    {
     "name": "stdout",
     "output_type": "stream",
     "text": [
      "(0, 128, 0, 255)\n",
      "(0, 255, 255, 255)\n",
      "(102, 51, 153, 255)\n"
     ]
    }
   ],
   "source": [
    "from PIL import ImageColor\n",
    "print(ImageColor.getcolor('green', 'RGBA'))\n",
    "print(ImageColor.getcolor('cyan', 'RGBA'))\n",
    "print(ImageColor.getcolor('rebeccapurple', 'RGBA'))"
   ]
  },
  {
   "cell_type": "markdown",
   "id": "36016b1d",
   "metadata": {},
   "source": [
    "Download the file colours.txt from canvas\n",
    "- AliceBlue\n",
    "- AntiqueWhite\n",
    "- Aqua\n",
    "- ...\n",
    "\n",
    "and create a csv file in the format:\n",
    "Color, R, G, B, A\n",
    "AliceBlue, 240, 248, 255, 255\n",
    "AntiqueWhite, 250, 235, 215, 255"
   ]
  },
  {
   "cell_type": "code",
   "execution_count": 6,
   "id": "b08abcf3",
   "metadata": {},
   "outputs": [],
   "source": [
    "from PIL import ImageColor\n",
    "\n",
    "csvfile = open(\"colours.csv\", \"w\")\n",
    "csvfile.write(\"Color, R, G, B, A\\n\")\n",
    "\n",
    "with open(\"colours.txt\", \"r\") as file:\n",
    "    for colour in file.readlines():\n",
    "        colourname = colour.strip()\n",
    "        rgba = ImageColor.getcolor(colourname, 'RGBA')\n",
    "\n",
    "        csvfile.write(f\"{colourname}, {rgba[0]}, {rgba[1]}, {rgba[2]}, {rgba[3]}\\n\")\n",
    "\n",
    "csvfile.close()\n"
   ]
  },
  {
   "cell_type": "markdown",
   "id": "05db30a9",
   "metadata": {},
   "source": [
    "## Manipulating images\n",
    "<img src=\"cat.jpg\">\n",
    "\n",
    "### Image properties"
   ]
  },
  {
   "cell_type": "code",
   "execution_count": 16,
   "id": "0dee54f4",
   "metadata": {},
   "outputs": [
    {
     "name": "stdout",
     "output_type": "stream",
     "text": [
      "<PIL.JpegImagePlugin.JpegImageFile image mode=RGB size=1047x699 at 0x1AB23DFE210>\n",
      "1047 699\n",
      "(1047, 699)\n",
      "1047\n",
      "C:\\Users\\antho\\OneDrive\\Documenten\\Anthony-TM\\Scripting\\Scripting-Students-24-sem2\\Week10\\DSPSa\\cat.jpg\n",
      "JPEG\n",
      "JPEG (ISO 10918)\n",
      "Portable network graphics\n"
     ]
    }
   ],
   "source": [
    "from PIL import Image\n",
    "\n",
    "img = Image.open(\"cat.jpg\")\n",
    "print(img)\n",
    "\n",
    "print(img.width, img.height)\n",
    "\n",
    "print(img.size)\n",
    "width, height = img.size\n",
    "print(width)\n",
    "\n",
    "print(img.filename)\n",
    "print(img.format)\n",
    "#img.show()\n",
    "\n",
    "#JPEG, PNG, GIF, SVG\n",
    "#changing format\n",
    "print(img.format_description)\n",
    "img.save(\"cat.png\")\n",
    "\n",
    "pngimg = Image.open(\"cat.png\")\n",
    "print(pngimg.format_description)\n",
    "pngimg.show()"
   ]
  },
  {
   "cell_type": "markdown",
   "id": "31a91089",
   "metadata": {},
   "source": [
    "### cropping images"
   ]
  },
  {
   "cell_type": "code",
   "execution_count": 23,
   "id": "d0bd3f72",
   "metadata": {},
   "outputs": [],
   "source": [
    "from PIL import Image\n",
    "\n",
    "img = Image.open(\"cat.jpg\")\n",
    "img = img.crop((370,90,650,350))\n",
    "#img.show()\n",
    "img.save(\"CATFACE.jpg\")"
   ]
  },
  {
   "cell_type": "markdown",
   "id": "b56b6259",
   "metadata": {},
   "source": [
    "### image creation"
   ]
  },
  {
   "cell_type": "code",
   "execution_count": 29,
   "id": "482225f5",
   "metadata": {},
   "outputs": [],
   "source": [
    "from PIL import Image\n",
    "\n",
    "img = Image.new('RGBA', (100,200), 'azure')\n",
    "img.show()\n",
    "img.save(\"img.png\")\n",
    "\n",
    "img = Image.new('RGBA', (200,200), 'darksalmon')\n",
    "img.show()\n",
    "img.save(\"salmon.png\")\n",
    "\n",
    "img = Image.new('RGBA', (100,100))\n",
    "img.show()\n",
    "img.save(\"transparant.png\")"
   ]
  },
  {
   "cell_type": "markdown",
   "id": "2e6480f4",
   "metadata": {},
   "source": [
    "### copying and pasting an image"
   ]
  },
  {
   "cell_type": "code",
   "execution_count": 31,
   "id": "73cc5056",
   "metadata": {},
   "outputs": [],
   "source": [
    "from PIL import Image\n",
    "original = Image.open(\"cat.jpg\")\n",
    "img = Image.open(\"CATFACE.jpg\")\n",
    "\n",
    "copying = original.copy()\n",
    "copying.paste(img, (0,0))\n",
    "copying.paste(img, (767,0))\n",
    "copying.show()\n"
   ]
  },
  {
   "cell_type": "code",
   "execution_count": 47,
   "id": "581d36d4",
   "metadata": {},
   "outputs": [],
   "source": [
    "#CHESS BOARD OF CAT FACES\n",
    "from PIL import Image\n",
    "catface = Image.open(\"CATFACE.jpg\")\n",
    "copy = catface.copy()\n",
    "\n",
    "canvas = Image.new('RGBA', (catface.width*10, catface.height*10), \"white\")\n",
    "for i in range(0,10):\n",
    "    for j in range(0, 10):\n",
    "        if (i + j) % 2 == 0:\n",
    "            canvas.paste(copy, (i * catface.width, j * catface.height))\n",
    "        else:\n",
    "            canvas.paste(copy.rotate(180), (i * catface.width, j * catface.height))\n",
    "canvas.show()\n",
    "canvas.save(\"ChessCat.png\")"
   ]
  },
  {
   "cell_type": "markdown",
   "id": "a0f33af3",
   "metadata": {},
   "source": [
    "### transforming images"
   ]
  },
  {
   "cell_type": "code",
   "execution_count": 41,
   "id": "19188047",
   "metadata": {},
   "outputs": [],
   "source": [
    "from PIL import Image\n",
    "img = Image.open(\"cat.jpg\")\n",
    "img.rotate(90) #90 to the left\n",
    "img.rotate(180) #180 to the left\n",
    "img.rotate(-90).show() #90 to the right\n",
    "\n",
    "img.transpose(Image.FLIP_LEFT_RIGHT)\n",
    "img.transpose(Image.FLIP_TOP_BOTTOM).show()\n",
    "\n",
    "halfsize = img.resize((int(width/2), int(height/2)))\n",
    "halfsize.save(\"halfcat.jpg\")"
   ]
  },
  {
   "cell_type": "markdown",
   "id": "b99a93ec",
   "metadata": {},
   "source": [
    "### looping over images pixel by pixel"
   ]
  },
  {
   "cell_type": "code",
   "execution_count": 43,
   "id": "0045ff94",
   "metadata": {},
   "outputs": [],
   "source": [
    "from PIL import Image\n",
    "img = Image.open(\"cat.jpg\")\n",
    "for x in range(0, img.width):\n",
    "    for y in range(0, img.height):\n",
    "        r,g,b = img.getpixel((x,y))\n",
    "        inverted = (255-r, 255-g, 255-b)\n",
    "        img.putpixel((x,y), inverted)\n",
    "\n",
    "img.show()\n",
    "img.save(\"demonkitty.png\")"
   ]
  },
  {
   "cell_type": "code",
   "execution_count": 45,
   "id": "2c49a5de",
   "metadata": {},
   "outputs": [],
   "source": [
    "from PIL import Image\n",
    "img = Image.open(\"cat.jpg\")\n",
    "withoutGreen = Image.new('RGBA', img.size, \"white\")\n",
    "ULTRARED = Image.new('RGBA', img.size, \"white\")\n",
    "\n",
    "for i in range(0, img.width):\n",
    "    for j in range(0, img.height):\n",
    "        pixel = img.getpixel((i,j))\n",
    "        withoutGreen.putpixel((i,j), (pixel[0], 0, pixel[2]))\n",
    "        ULTRARED.putpixel((i,j), (255, pixel[1], pixel[2]))\n",
    "\n",
    "withoutGreen.save(\"GREEN.png\")\n",
    "ULTRARED.save(\"RED.gif\")"
   ]
  },
  {
   "cell_type": "code",
   "execution_count": 50,
   "id": "e5762737",
   "metadata": {},
   "outputs": [
    {
     "name": "stdout",
     "output_type": "stream",
     "text": [
      "(699, 1047, 3)\n"
     ]
    },
    {
     "data": {
      "text/plain": [
       "True"
      ]
     },
     "execution_count": 50,
     "metadata": {},
     "output_type": "execute_result"
    }
   ],
   "source": [
    "import cv2\n",
    "import numpy as np\n",
    "\n",
    "img = cv2.imread(\"cat.jpg\")\n",
    "print(img.shape)\n",
    "\n",
    "#grayscale\n",
    "gray = cv2.cvtColor(img, cv2.COLOR_BGR2GRAY)\n",
    "cv2.imwrite(\"catGRAY.jpg\", gray)\n",
    "\n",
    "#BGR TO RBG\n",
    "RGB = cv2.cvtColor(img, cv2.COLOR_BGR2RGB)\n",
    "cv2.imwrite(\"catRGB.jpg\", RGB)"
   ]
  }
 ],
 "metadata": {
  "kernelspec": {
   "display_name": "Python 3",
   "language": "python",
   "name": "python3"
  },
  "language_info": {
   "codemirror_mode": {
    "name": "ipython",
    "version": 3
   },
   "file_extension": ".py",
   "mimetype": "text/x-python",
   "name": "python",
   "nbconvert_exporter": "python",
   "pygments_lexer": "ipython3",
   "version": "3.11.9"
  }
 },
 "nbformat": 4,
 "nbformat_minor": 5
}
