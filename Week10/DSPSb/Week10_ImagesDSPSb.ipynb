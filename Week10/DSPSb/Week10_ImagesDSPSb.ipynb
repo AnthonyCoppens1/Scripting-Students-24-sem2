{
 "cells": [
  {
   "cell_type": "markdown",
   "id": "352f35fc",
   "metadata": {},
   "source": [
    "# Images - week 10\n",
    "## computer images\n",
    "Install the pillow package!"
   ]
  },
  {
   "cell_type": "code",
   "execution_count": 1,
   "id": "8821b4a8",
   "metadata": {},
   "outputs": [
    {
     "name": "stdout",
     "output_type": "stream",
     "text": [
      "Requirement already satisfied: Pillow in c:\\users\\antho\\appdata\\local\\packages\\pythonsoftwarefoundation.python.3.11_qbz5n2kfra8p0\\localcache\\local-packages\\python311\\site-packages (10.3.0)\n"
     ]
    },
    {
     "name": "stderr",
     "output_type": "stream",
     "text": [
      "\n",
      "[notice] A new release of pip is available: 24.0 -> 25.1\n",
      "[notice] To update, run: C:\\Users\\antho\\AppData\\Local\\Microsoft\\WindowsApps\\PythonSoftwareFoundation.Python.3.11_qbz5n2kfra8p0\\python.exe -m pip install --upgrade pip\n"
     ]
    }
   ],
   "source": [
    "! pip install Pillow"
   ]
  },
  {
   "cell_type": "code",
   "execution_count": null,
   "id": "8ff7ba4b",
   "metadata": {},
   "outputs": [
    {
     "name": "stdout",
     "output_type": "stream",
     "text": [
      "(0, 0, 255, 255)\n",
      "(0, 255, 255, 255)\n",
      "(255, 192, 203, 255)\n"
     ]
    }
   ],
   "source": [
    "from PIL import ImageColor\n",
    "\n",
    "print(ImageColor.getcolor('blue', 'RGBA'))\n",
    "print(ImageColor.getcolor('cyan', 'RGBA'))\n",
    "print(ImageColor.getcolor('pink', 'RGBA'))\n",
    "\n",
    "# https://pillow.readthedocs.io/"
   ]
  },
  {
   "cell_type": "markdown",
   "id": "e8799965",
   "metadata": {},
   "source": [
    "Concept of the exercise:\n",
    "Downloading the file colours.txt from canvas\n",
    "- AliceBlue\n",
    "- AntiqueWhite\n",
    "- Aqua\n",
    "- ...\n",
    "and create a csv-file in the following format\n",
    "- Color, R, G, B, A\n",
    "- AliceBlue, 240, 248, 255, 255\n",
    "- AntiqueWhite, 250, 235, 215, 255"
   ]
  },
  {
   "cell_type": "code",
   "execution_count": 5,
   "id": "a80a55f8",
   "metadata": {},
   "outputs": [],
   "source": [
    "from PIL import ImageColor\n",
    "csvfile = open('colours.csv', \"w\")\n",
    "csvfile.write(\"Colours, R, G, B, A\\n\")\n",
    "\n",
    "with open(\"colours.txt\", \"r\") as file:\n",
    "    for colour in file.readlines():\n",
    "        colourname = colour.strip()\n",
    "        rgba = ImageColor.getcolor(colourname, 'RGBA')\n",
    "        csvfile.write(f\"{colourname}, {rgba[0]}, {rgba[1]}, {rgba[2]}, {rgba[3]}\\n\")\n",
    "\n",
    "csvfile.close()"
   ]
  },
  {
   "cell_type": "markdown",
   "id": "75508165",
   "metadata": {},
   "source": [
    "## Manipulating images\n",
    "<img src = \"bird.jpg\">\n",
    "\n",
    "### Image properties"
   ]
  },
  {
   "cell_type": "code",
   "execution_count": 11,
   "id": "9a582242",
   "metadata": {},
   "outputs": [
    {
     "name": "stdout",
     "output_type": "stream",
     "text": [
      "<PIL.JpegImagePlugin.JpegImageFile image mode=RGB size=640x424 at 0x202709AC5D0>\n",
      "424 640\n",
      "(640, 424)\n",
      "640\n",
      "C:\\Users\\antho\\OneDrive\\Documenten\\Anthony-TM\\Scripting\\Scripting-Students-24-sem2\\Week10\\bird.jpg\n",
      "JPEG\n"
     ]
    }
   ],
   "source": [
    "from PIL import Image\n",
    "\n",
    "img = Image.open(\"bird.jpg\")\n",
    "print(img)\n",
    "print(img.height, img.width)\n",
    "print(img.size)\n",
    "width, height = img.size\n",
    "print(width)\n",
    "print(img.filename)\n",
    "print(img.format)"
   ]
  },
  {
   "cell_type": "markdown",
   "id": "36af8caf",
   "metadata": {},
   "source": [
    "### changing formats\n",
    "JPG - PNG - GIF"
   ]
  },
  {
   "cell_type": "code",
   "execution_count": null,
   "id": "fe2752e4",
   "metadata": {},
   "outputs": [
    {
     "name": "stdout",
     "output_type": "stream",
     "text": [
      "JPEG (ISO 10918)\n",
      "Portable network graphics\n"
     ]
    }
   ],
   "source": [
    "print(img.format_description)\n",
    "img.save(\"bird.png\")\n",
    "\n",
    "pngimg = Image.open(\"bird.png\")\n",
    "print(pngimg.format_description)\n",
    "pngimg.show()"
   ]
  },
  {
   "cell_type": "markdown",
   "id": "332fecd2",
   "metadata": {},
   "source": [
    "### cropping images"
   ]
  },
  {
   "cell_type": "code",
   "execution_count": 18,
   "id": "7c598126",
   "metadata": {},
   "outputs": [],
   "source": [
    "from PIL import Image\n",
    "img = Image.open(\"bird.jpg\")\n",
    "img = img.crop((250, 150, 400, 400))\n",
    "img.save(\"LIL_birdie.jpg\")\n",
    "img.show()"
   ]
  },
  {
   "cell_type": "markdown",
   "id": "de8eb430",
   "metadata": {},
   "source": [
    "### creating images"
   ]
  },
  {
   "cell_type": "code",
   "execution_count": 21,
   "id": "54a5d96b",
   "metadata": {},
   "outputs": [],
   "source": [
    "from PIL import Image\n",
    "img = Image.new('RGBA', (100, 200), 'purple')\n",
    "img.show()\n",
    "img.save(\"purple.png\")\n",
    "\n",
    "img = Image.new('RGBA', (20,20)) #transparant --> no colour\n",
    "img.show()\n",
    "img.save(\"transparant.png\")\n",
    "\n",
    "img = Image.new('RGBA', (200, 200), 'DarkSalmon')\n",
    "img.show()\n",
    "img.save(\"DarkSalmon.png\")"
   ]
  },
  {
   "cell_type": "markdown",
   "id": "aa30b273",
   "metadata": {},
   "source": [
    "### copying and pasting an image"
   ]
  },
  {
   "cell_type": "code",
   "execution_count": 25,
   "id": "b6ca5843",
   "metadata": {},
   "outputs": [],
   "source": [
    "from PIL import Image\n",
    "\n",
    "img = Image.open(\"bird.jpg\")\n",
    "crop = Image.open(\"LIL_birdie.jpg\")\n",
    "\n",
    "copying = img.copy()\n",
    "copying.paste(crop, ((0,0)))\n",
    "copying.paste(crop, (490, 0))\n",
    "copying.show()\n",
    "copying.save(\"bird2.jpg\")"
   ]
  },
  {
   "cell_type": "code",
   "execution_count": 31,
   "id": "812831ba",
   "metadata": {},
   "outputs": [],
   "source": [
    "#chessboard of lil birdies\n",
    "from PIL import Image\n",
    "cropped = Image.open(\"LIL_birdie.jpg\")\n",
    "copy = cropped.copy()\n",
    "\n",
    "img = Image.new('RGBA', (cropped.width*10, cropped.height*10), \"white\")\n",
    "for i in range(0,10):\n",
    "    for j in range(0,10):\n",
    "        if (i+j) % 2 == 0:\n",
    "            img.paste(copy, (i * cropped.width, j * cropped.height))\n",
    "        else:\n",
    "            img.paste(copy.rotate(180), (i * cropped.width, j * cropped.height))\n",
    "\n",
    "img.show()\n",
    "img.save(\"Chessbird.png\")"
   ]
  },
  {
   "cell_type": "markdown",
   "id": "e5e18b45",
   "metadata": {},
   "source": [
    "### Transforming images"
   ]
  },
  {
   "cell_type": "code",
   "execution_count": null,
   "id": "0697f776",
   "metadata": {},
   "outputs": [],
   "source": [
    "from PIL import Image\n",
    "img = Image.open(\"bird.jpg\")\n",
    "\n",
    "img.rotate(90).show() #90 to the left\n",
    "img.rotate(180).show() #180 to the left\n",
    "img.rotate(-90).show()\n",
    "\n",
    "img.transpose(Image.FLIP_LEFT_RIGHT).show()\n",
    "img.transpose(Image.FLIP_TOP_BOTTOM).show()\n",
    "\n",
    "halfsize = img.resize((int(width/2), int(height/2)))\n",
    "halfsize.save(\"half.jpg\")"
   ]
  },
  {
   "cell_type": "markdown",
   "id": "17f77c8a",
   "metadata": {},
   "source": [
    "### Looping over images pixel by pixel\n",
    "playing with colours"
   ]
  },
  {
   "cell_type": "code",
   "execution_count": 37,
   "id": "427baf39",
   "metadata": {},
   "outputs": [],
   "source": [
    "from PIL import Image\n",
    "img = Image.open(\"LIL_birdie.jpg\")\n",
    "for x in range(0, img.width):\n",
    "    for y in range(0, img.height):\n",
    "        r,g,b = img.getpixel((x,y))\n",
    "        inverted = (255-r, 255-g, 255-b)\n",
    "        img.putpixel((x,y), inverted)\n",
    "\n",
    "img.save(\"inverted.png\")"
   ]
  },
  {
   "cell_type": "code",
   "execution_count": 38,
   "id": "40c24ef7",
   "metadata": {},
   "outputs": [],
   "source": [
    "from PIL import Image\n",
    "img = Image.open(\"LIL_birdie.jpg\")\n",
    "red_img = Image.new(\"RGBA\", img.size, \"white\")\n",
    "without_blue = Image.new(\"RGBA\", img.size, \"white\")\n",
    "for x in range(0, img.width):\n",
    "    for y in range(0, img.height):\n",
    "        pixel = img.getpixel((x,y))\n",
    "        red_img.putpixel((x,y), (255, pixel[1], pixel[2]))\n",
    "        without_blue.putpixel((x,y), (pixel[0], pixel[1], 0))\n",
    "\n",
    "red_img.save(\"bird_red.gif\")\n",
    "without_blue.save(\"withoutBlueBird.gif\")\n"
   ]
  },
  {
   "cell_type": "markdown",
   "id": "651209c7",
   "metadata": {},
   "source": [
    "### Converting images"
   ]
  },
  {
   "cell_type": "code",
   "execution_count": 5,
   "id": "f233d639",
   "metadata": {},
   "outputs": [
    {
     "name": "stdout",
     "output_type": "stream",
     "text": [
      "Requirement already satisfied: opencv-python in c:\\users\\antho\\appdata\\local\\packages\\pythonsoftwarefoundation.python.3.11_qbz5n2kfra8p0\\localcache\\local-packages\\python311\\site-packages (4.9.0.80)\n",
      "Requirement already satisfied: numpy>=1.21.2 in c:\\users\\antho\\appdata\\local\\packages\\pythonsoftwarefoundation.python.3.11_qbz5n2kfra8p0\\localcache\\local-packages\\python311\\site-packages (from opencv-python) (1.26.4)\n"
     ]
    },
    {
     "name": "stderr",
     "output_type": "stream",
     "text": [
      "\n",
      "[notice] A new release of pip is available: 24.0 -> 25.1\n",
      "[notice] To update, run: C:\\Users\\antho\\AppData\\Local\\Microsoft\\WindowsApps\\PythonSoftwareFoundation.Python.3.11_qbz5n2kfra8p0\\python.exe -m pip install --upgrade pip\n"
     ]
    }
   ],
   "source": [
    "! pip install opencv-python"
   ]
  },
  {
   "cell_type": "code",
   "execution_count": 7,
   "id": "8116d32b",
   "metadata": {},
   "outputs": [
    {
     "name": "stdout",
     "output_type": "stream",
     "text": [
      "(424, 640, 3)\n"
     ]
    },
    {
     "data": {
      "text/plain": [
       "True"
      ]
     },
     "execution_count": 7,
     "metadata": {},
     "output_type": "execute_result"
    }
   ],
   "source": [
    "import cv2\n",
    "import numpy as np\n",
    "\n",
    "img = cv2.imread(\"bird.jpg\")\n",
    "print(img.shape)\n",
    "\n",
    "#everything into grayscale\n",
    "gray = cv2.cvtColor(img, cv2.COLOR_BGR2GRAY)\n",
    "cv2.imwrite(\"bird_gray.jpg\", gray)\n",
    "\n",
    "#BGR to RGB\n",
    "rgb = cv2.cvtColor(img, cv2.COLOR_BGR2RGB)\n",
    "cv2.imwrite(\"bird_rgb.jpg\", rgb)"
   ]
  }
 ],
 "metadata": {
  "kernelspec": {
   "display_name": "Python 3",
   "language": "python",
   "name": "python3"
  },
  "language_info": {
   "codemirror_mode": {
    "name": "ipython",
    "version": 3
   },
   "file_extension": ".py",
   "mimetype": "text/x-python",
   "name": "python",
   "nbconvert_exporter": "python",
   "pygments_lexer": "ipython3",
   "version": "3.11.9"
  }
 },
 "nbformat": 4,
 "nbformat_minor": 5
}
