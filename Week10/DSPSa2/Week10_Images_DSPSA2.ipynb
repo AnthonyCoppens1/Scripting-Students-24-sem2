{
 "cells": [
  {
   "cell_type": "markdown",
   "id": "7c502e20",
   "metadata": {},
   "source": [
    "# Week 10 Images\n",
    "## computer images"
   ]
  },
  {
   "cell_type": "code",
   "execution_count": null,
   "id": "da4714a1",
   "metadata": {},
   "outputs": [],
   "source": [
    "! pip install Pillow"
   ]
  },
  {
   "cell_type": "code",
   "execution_count": 4,
   "id": "5d38224d",
   "metadata": {},
   "outputs": [
    {
     "name": "stdout",
     "output_type": "stream",
     "text": [
      "(220, 20, 60, 255)\n",
      "(102, 51, 153, 255)\n",
      "(233, 150, 122, 255)\n"
     ]
    }
   ],
   "source": [
    "from PIL import ImageColor\n",
    "\n",
    "print(ImageColor.getcolor('crimson', 'RGBA'))\n",
    "print(ImageColor.getcolor('rebeccapurple', 'RGBA'))\n",
    "print(ImageColor.getcolor('darksalmon', 'RGBA'))"
   ]
  },
  {
   "cell_type": "markdown",
   "id": "ad79ba03",
   "metadata": {},
   "source": [
    "Download the file colours.txt from canvas\n",
    "- AliceBlue\n",
    "- Antiquewhite\n",
    "- Aqua\n",
    "- ...\n",
    "\n",
    "and create a csv file in the following format\n",
    "- Color, R, G, B, A\n",
    "- AliceBlue, 240, 248, 255, 255\n",
    "- AntiqueWhite, 250, 235, 215, 255\n",
    "- ..."
   ]
  },
  {
   "cell_type": "code",
   "execution_count": 5,
   "id": "8af1da0e",
   "metadata": {},
   "outputs": [],
   "source": [
    "from PIL import ImageColor\n",
    "csvfile = open(\"colours.csv\", \"w\")\n",
    "csvfile.write(\"Colour, R, G, B, A\\n\")\n",
    "\n",
    "with open(\"colours.txt\", \"r\") as file:\n",
    "    for colour in file.readlines():\n",
    "        colourname = colour.strip()\n",
    "        rgba = ImageColor.getcolor(colourname, 'RGBA')\n",
    "\n",
    "        csvfile.write(f\"{colourname}, {rgba[0]}, {rgba[1]}, {rgba[2]}, {rgba[3]}\\n\")\n",
    "\n",
    "csvfile.close()"
   ]
  },
  {
   "cell_type": "markdown",
   "id": "bd682efc",
   "metadata": {},
   "source": [
    "## Manipulating images\n",
    "<img src=\"cat.jpg\">\n",
    "\n",
    "### Image properties"
   ]
  },
  {
   "cell_type": "code",
   "execution_count": 13,
   "id": "8ced4b7d",
   "metadata": {},
   "outputs": [
    {
     "name": "stdout",
     "output_type": "stream",
     "text": [
      "<PIL.JpegImagePlugin.JpegImageFile image mode=RGB size=450x424 at 0x1DD8DAEBD90>\n",
      "424 450\n",
      "(450, 424)\n",
      "424\n",
      "C:\\Users\\antho\\OneDrive\\Documenten\\Anthony-TM\\Scripting\\Scripting-Students-24-sem2\\Week10\\DSPSa2\\cat.jpg\n",
      "JPEG\n",
      "JPEG (ISO 10918)\n",
      "Portable network graphics\n"
     ]
    }
   ],
   "source": [
    "from PIL import Image\n",
    "\n",
    "img = Image.open(\"cat.jpg\")\n",
    "print(img)\n",
    "print(img.height, img.width)\n",
    "print(img.size)\n",
    "\n",
    "height, width = img.size\n",
    "print(width)\n",
    "\n",
    "print(img.filename)\n",
    "print(img.format)\n",
    "img.show()\n",
    "\n",
    "#change format\n",
    "print(img.format_description)\n",
    "img.save(\"cat.png\")\n",
    "\n",
    "png = Image.open(\"cat.png\")\n",
    "print(png.format_description)\n",
    "png.show()"
   ]
  },
  {
   "cell_type": "markdown",
   "id": "8762f547",
   "metadata": {},
   "source": [
    "### cropping images"
   ]
  },
  {
   "cell_type": "code",
   "execution_count": 22,
   "id": "e73fb2e3",
   "metadata": {},
   "outputs": [],
   "source": [
    "from PIL import Image\n",
    "\n",
    "img = Image.open(\"cat.jpg\")\n",
    "img = img.crop((150,85,310,250))\n",
    "img.save(\"CATFACE.jpg\")\n",
    "img.show()"
   ]
  },
  {
   "cell_type": "markdown",
   "id": "b8e3e218",
   "metadata": {},
   "source": [
    "### creating images"
   ]
  },
  {
   "cell_type": "code",
   "execution_count": null,
   "id": "632a0938",
   "metadata": {},
   "outputs": [],
   "source": [
    "from PIL import Image\n",
    "img = Image.new('RGBA', (100,200), 'rebeccapurple')\n",
    "img.save(\"rebecca.png\")\n",
    "\n",
    "img = Image.new('RGBA', (200,200))\n",
    "img.save(\"transparant.png\")\n",
    "\n",
    "img = Image.new('RGBA', (100,100), 'darksalmon')\n",
    "img.save(\"salmon.png\")"
   ]
  },
  {
   "cell_type": "markdown",
   "id": "521ba805",
   "metadata": {},
   "source": [
    "### copy and pasting"
   ]
  },
  {
   "cell_type": "code",
   "execution_count": 39,
   "id": "902159f7",
   "metadata": {},
   "outputs": [],
   "source": [
    "from PIL import Image\n",
    "import random\n",
    "\n",
    "img = Image.open(\"cat.jpg\")\n",
    "crop = Image.open(\"CATFACE.jpg\")\n",
    "copying = img.copy()\n",
    "\n",
    "copying.paste(crop, (0,0))\n",
    "\n",
    "for x in range(0,10):\n",
    "    copying.paste(crop, (random.randint(0,img.width - crop.width), random.randint(0,img.width - crop.width)))\n",
    "\n",
    "copying.show()\n",
    "    "
   ]
  },
  {
   "cell_type": "code",
   "execution_count": 47,
   "id": "d58aa609",
   "metadata": {},
   "outputs": [],
   "source": [
    "# chessboard of cropped images\n",
    "from PIL import Image\n",
    "catface = Image.open(\"CATFACE.jpg\")\n",
    "copy = catface.copy()\n",
    "img = Image.new('RGBA', (catface.width * 10, catface.height * 10), \"white\")\n",
    "\n",
    "for i in range(0,10):\n",
    "    for j in range(0,10):\n",
    "        if (i + j) % 2 == 0:\n",
    "            img.paste(copy, (i * catface.width, j * catface.height))\n",
    "        else:\n",
    "            img.paste(copy.rotate(180), (i * catface.width, j * catface.height))\n",
    "\n",
    "img.show()\n",
    "img.save(\"catfacechess.png\")"
   ]
  },
  {
   "cell_type": "markdown",
   "id": "ccd2c181",
   "metadata": {},
   "source": [
    "### Transforming images"
   ]
  },
  {
   "cell_type": "code",
   "execution_count": 54,
   "id": "1f46febc",
   "metadata": {},
   "outputs": [],
   "source": [
    "from PIL import Image\n",
    "img = Image.open(\"cat.jpg\")\n",
    "img.rotate(90) #90 to the left\n",
    "img.rotate(180) #180 to the left\n",
    "img.rotate(-90) #90 to the right\n",
    "\n",
    "img.transpose(Image.FLIP_LEFT_RIGHT)\n",
    "img.transpose(Image.FLIP_TOP_BOTTOM).show()\n",
    "\n",
    "halfsize = img.resize((int(width/2), int(height/2)))\n",
    "halfsize.save(\"halfsize.jpg\")"
   ]
  },
  {
   "cell_type": "markdown",
   "id": "5113dadf",
   "metadata": {},
   "source": [
    "### Looping over an image pixel by pixel"
   ]
  },
  {
   "cell_type": "code",
   "execution_count": 55,
   "id": "f0d25ff5",
   "metadata": {},
   "outputs": [],
   "source": [
    "from PIL import Image\n",
    "img = Image.open(\"cat.jpg\")\n",
    "for x in range(0, img.width):\n",
    "    for y in range(0, img.height):\n",
    "        r,g,b = img.getpixel((x,y))\n",
    "        inverted = (255 - r, 255 - g, 255 - b)\n",
    "        img.putpixel((x,y), inverted)\n",
    "\n",
    "img.save(\"inverted.png\")"
   ]
  },
  {
   "cell_type": "code",
   "execution_count": 56,
   "id": "4db63bb4",
   "metadata": {},
   "outputs": [],
   "source": [
    "from PIL import Image\n",
    "img = Image.open(\"cat.jpg\")\n",
    "withoutGreen = Image.new('RGBA', img.size, \"white\")\n",
    "extraRed = Image.new('RGBA', img.size, \"white\")\n",
    "\n",
    "for i in range(0, img.width):\n",
    "    for j in range(0, img.height):\n",
    "        pixel = img.getpixel((i,j))\n",
    "        extraRed.putpixel((i,j), (255, pixel[1], pixel[2]))\n",
    "        withoutGreen.putpixel((i,j), (pixel[0], 0, pixel[2]))\n",
    "\n",
    "withoutGreen.save(\"catNoGreen.gif\")\n",
    "extraRed.save(\"RED.gif\")"
   ]
  },
  {
   "cell_type": "markdown",
   "id": "b2e0e5d3",
   "metadata": {},
   "source": [
    "### converting / inverting images"
   ]
  },
  {
   "cell_type": "code",
   "execution_count": 57,
   "id": "ef5d4a36",
   "metadata": {},
   "outputs": [
    {
     "name": "stdout",
     "output_type": "stream",
     "text": [
      "Requirement already satisfied: opencv-python in c:\\users\\antho\\appdata\\local\\packages\\pythonsoftwarefoundation.python.3.11_qbz5n2kfra8p0\\localcache\\local-packages\\python311\\site-packages (4.9.0.80)\n",
      "Requirement already satisfied: numpy>=1.21.2 in c:\\users\\antho\\appdata\\local\\packages\\pythonsoftwarefoundation.python.3.11_qbz5n2kfra8p0\\localcache\\local-packages\\python311\\site-packages (from opencv-python) (1.26.4)\n"
     ]
    },
    {
     "name": "stderr",
     "output_type": "stream",
     "text": [
      "\n",
      "[notice] A new release of pip is available: 24.0 -> 25.1\n",
      "[notice] To update, run: C:\\Users\\antho\\AppData\\Local\\Microsoft\\WindowsApps\\PythonSoftwareFoundation.Python.3.11_qbz5n2kfra8p0\\python.exe -m pip install --upgrade pip\n"
     ]
    }
   ],
   "source": [
    "! pip install opencv-python"
   ]
  },
  {
   "cell_type": "code",
   "execution_count": 59,
   "id": "5247b69e",
   "metadata": {},
   "outputs": [
    {
     "name": "stdout",
     "output_type": "stream",
     "text": [
      "(424, 450, 3)\n"
     ]
    },
    {
     "data": {
      "text/plain": [
       "True"
      ]
     },
     "execution_count": 59,
     "metadata": {},
     "output_type": "execute_result"
    }
   ],
   "source": [
    "import cv2\n",
    "import numpy as np\n",
    "\n",
    "img = cv2.imread(\"cat.jpg\")\n",
    "print(img.shape)\n",
    "\n",
    "#grayscale\n",
    "gray = cv2.cvtColor(img, cv2.COLOR_BGR2GRAY)\n",
    "cv2.imwrite(\"GRAY.jpg\", gray)\n",
    "\n",
    "#BGR TO RGB\n",
    "RGB = cv2.cvtColor(img, cv2.COLOR_BGR2RGB)\n",
    "cv2.imwrite(\"RGB.jpg\", RGB)\n"
   ]
  }
 ],
 "metadata": {
  "kernelspec": {
   "display_name": "Python 3",
   "language": "python",
   "name": "python3"
  },
  "language_info": {
   "codemirror_mode": {
    "name": "ipython",
    "version": 3
   },
   "file_extension": ".py",
   "mimetype": "text/x-python",
   "name": "python",
   "nbconvert_exporter": "python",
   "pygments_lexer": "ipython3",
   "version": "3.11.9"
  }
 },
 "nbformat": 4,
 "nbformat_minor": 5
}
